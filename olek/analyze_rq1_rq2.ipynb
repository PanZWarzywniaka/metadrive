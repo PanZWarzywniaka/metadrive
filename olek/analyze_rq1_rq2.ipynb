{
 "cells": [
  {
   "cell_type": "code",
   "execution_count": 1,
   "metadata": {},
   "outputs": [],
   "source": [
    "import pandas as pd\n",
    "from pathlib import Path\n",
    "import json\n",
    "from pprint import pprint\n",
    "import math\n",
    "from tqdm import tqdm\n",
    "import seaborn as sns\n",
    "import matplotlib.pyplot as plt\n",
    "from matplotlib import cm\n",
    "\n",
    "DATA_DIR = Path(\"data/benchmarking\")"
   ]
  },
  {
   "cell_type": "code",
   "execution_count": 2,
   "metadata": {},
   "outputs": [],
   "source": [
    "def get_in_road_percentage(steps_df: pd.DataFrame) -> float:\n",
    "    ret = steps_df[\"out_of_road\"].value_counts(normalize=True).at[False]\n",
    "    return ret"
   ]
  },
  {
   "cell_type": "code",
   "execution_count": 3,
   "metadata": {},
   "outputs": [],
   "source": [
    "def get_n_sidewalk_crashes(steps_df: pd.DataFrame) -> int:\n",
    "    \"\"\"Count number of crash episodes to not count same crash multiple times\"\"\"\n",
    "    try:\n",
    "        # count number of times \"crash\" becomes True for some time\n",
    "        n_crashes = steps_df[\"crash_sidewalk\"].diff().value_counts().at[True]\n",
    "\n",
    "        # need to divide by 2 beacouse diff counts twice\n",
    "        n_crashes /= 2\n",
    "\n",
    "        # just in case crash is last episode and we have 3.5 crash episodes make it 4\n",
    "        n_crashes = math.ceil(n_crashes)\n",
    "    except KeyError:\n",
    "        n_crashes = 0\n",
    "\n",
    "    return n_crashes"
   ]
  },
  {
   "cell_type": "code",
   "execution_count": 4,
   "metadata": {},
   "outputs": [],
   "source": [
    "def process_steps(steps_infos: list) -> dict:\n",
    "    \"\"\"Accepts a list of steps and returns a dict of interesting data\"\"\"\n",
    "\n",
    "    steps_df = pd.DataFrame(steps_infos)\n",
    "    steps_data = {}\n",
    "    last_step = steps_df.iloc[-1]\n",
    "\n",
    "    steps_data = {\n",
    "        \"termination.arrive_dest\": last_step[\"arrive_dest\"],\n",
    "        \"termination.timeout\": last_step[\"max_step\"],\n",
    "        \"route_completion\": last_step[\"route_completion\"],\n",
    "        \"seed\": last_step[\"env_seed\"],\n",
    "        \"in_road_percentage\": get_in_road_percentage(steps_df),\n",
    "        \"n_sidewalk_crashes\": get_n_sidewalk_crashes(steps_df),\n",
    "    }\n",
    "\n",
    "    return steps_data"
   ]
  },
  {
   "cell_type": "code",
   "execution_count": 5,
   "metadata": {},
   "outputs": [],
   "source": [
    "def get_scenarios_df(dir: Path):\n",
    "    paths = list(dir.glob(\"*/*.json\"))\n",
    "\n",
    "    scenarios = []\n",
    "    for file_path in tqdm(paths):\n",
    "\n",
    "        with open(file_path, \"r\") as f:\n",
    "            scenario_data = json.load(f)\n",
    "\n",
    "        dir = file_path.__str__().split(\"/\")[-2]\n",
    "        _, dr, _, dt = dir.split(\"_\")\n",
    "        scenario_data[\"decision_repeat\"] = int(dr)\n",
    "        scenario_data[\"dt\"] = float(dt)\n",
    "\n",
    "        steps_infos = scenario_data.pop(\"steps_infos\")\n",
    "        scenario_data.update(process_steps(steps_infos))\n",
    "        scenarios.append(scenario_data)\n",
    "    return pd.DataFrame(scenarios)"
   ]
  },
  {
   "cell_type": "code",
   "execution_count": 6,
   "metadata": {},
   "outputs": [
    {
     "name": "stderr",
     "output_type": "stream",
     "text": [
      "100%|██████████| 648/648 [00:02<00:00, 239.36it/s]\n"
     ]
    }
   ],
   "source": [
    "df = get_scenarios_df(DATA_DIR)"
   ]
  },
  {
   "cell_type": "code",
   "execution_count": 7,
   "metadata": {},
   "outputs": [],
   "source": [
    "df = df.set_index(\n",
    "    [\n",
    "        \"dt\",\n",
    "        \"decision_repeat\",\n",
    "        \"seed\",\n",
    "    ],\n",
    "    verify_integrity=True,\n",
    ")\n",
    "\n",
    "df = df.sort_index()"
   ]
  },
  {
   "cell_type": "code",
   "execution_count": 8,
   "metadata": {},
   "outputs": [
    {
     "data": {
      "text/plain": [
       "count    648.000000\n",
       "mean       0.637346\n",
       "std        1.285862\n",
       "min        0.000000\n",
       "25%        0.000000\n",
       "50%        0.000000\n",
       "75%        1.000000\n",
       "max        7.000000\n",
       "Name: n_sidewalk_crashes, dtype: float64"
      ]
     },
     "execution_count": 8,
     "metadata": {},
     "output_type": "execute_result"
    }
   ],
   "source": [
    "df[\"n_crashed_vehicles\"].describe()\n",
    "df[\"n_sidewalk_crashes\"].describe()"
   ]
  },
  {
   "cell_type": "code",
   "execution_count": 9,
   "metadata": {},
   "outputs": [],
   "source": [
    "# calculate driving score\n",
    "# ! Problem changing the values here in the analysis can change % error\n",
    "\n",
    "df[\"driving_score\"] = (\n",
    "    df[\"route_completion\"]\n",
    "    * df[\"in_road_percentage\"]\n",
    "    * (0.65) ** df[\"n_sidewalk_crashes\"]\n",
    "    * (0.60) ** df[\"n_crashed_vehicles\"]\n",
    ")"
   ]
  },
  {
   "cell_type": "code",
   "execution_count": 10,
   "metadata": {},
   "outputs": [
    {
     "data": {
      "text/plain": [
       "count   54.000\n",
       "mean     0.704\n",
       "std      0.293\n",
       "min      0.125\n",
       "25%      0.466\n",
       "50%      0.596\n",
       "75%      0.991\n",
       "max      0.995\n",
       "Name: driving_score, dtype: float64"
      ]
     },
     "execution_count": 10,
     "metadata": {},
     "output_type": "execute_result"
    }
   ],
   "source": [
    "# oracle if the one of default parameters\n",
    "oracle_ds = df.xs((0.02, 5))[\"driving_score\"]\n",
    "pd.set_option(\"display.float_format\", lambda x: \"%.3f\" % x)\n",
    "oracle_ds.describe()"
   ]
  },
  {
   "cell_type": "code",
   "execution_count": 11,
   "metadata": {},
   "outputs": [],
   "source": [
    "df[\"driving_score_error\"] = (df[\"driving_score\"] - oracle_ds).abs()\n",
    "# df"
   ]
  },
  {
   "cell_type": "code",
   "execution_count": 12,
   "metadata": {},
   "outputs": [
    {
     "data": {
      "text/plain": [
       "[5, 10, 15, 20]"
      ]
     },
     "execution_count": 12,
     "metadata": {},
     "output_type": "execute_result"
    }
   ],
   "source": [
    "palette = sns.color_palette(\"hls\", 3)\n",
    "x_ticks = df.index.get_level_values(\"decision_repeat\").unique().to_list()\n",
    "x_ticks"
   ]
  },
  {
   "cell_type": "markdown",
   "metadata": {},
   "source": [
    "## Original plotting\n"
   ]
  },
  {
   "cell_type": "code",
   "execution_count": 13,
   "metadata": {},
   "outputs": [
    {
     "data": {
      "text/html": [
       "<div>\n",
       "<style scoped>\n",
       "    .dataframe tbody tr th:only-of-type {\n",
       "        vertical-align: middle;\n",
       "    }\n",
       "\n",
       "    .dataframe tbody tr th {\n",
       "        vertical-align: top;\n",
       "    }\n",
       "\n",
       "    .dataframe thead th {\n",
       "        text-align: right;\n",
       "    }\n",
       "</style>\n",
       "<table border=\"1\" class=\"dataframe\">\n",
       "  <thead>\n",
       "    <tr style=\"text-align: right;\">\n",
       "      <th></th>\n",
       "      <th></th>\n",
       "      <th>start_ts</th>\n",
       "      <th>initialized_ts</th>\n",
       "      <th>scenario_done_ts</th>\n",
       "      <th>init_time</th>\n",
       "      <th>scenario_time</th>\n",
       "      <th>total_time</th>\n",
       "      <th>n_crashed_vehicles</th>\n",
       "      <th>max_steps</th>\n",
       "      <th>route_completion</th>\n",
       "      <th>in_road_percentage</th>\n",
       "      <th>n_sidewalk_crashes</th>\n",
       "      <th>driving_score</th>\n",
       "      <th>driving_score_error</th>\n",
       "    </tr>\n",
       "    <tr>\n",
       "      <th>dt</th>\n",
       "      <th>decision_repeat</th>\n",
       "      <th></th>\n",
       "      <th></th>\n",
       "      <th></th>\n",
       "      <th></th>\n",
       "      <th></th>\n",
       "      <th></th>\n",
       "      <th></th>\n",
       "      <th></th>\n",
       "      <th></th>\n",
       "      <th></th>\n",
       "      <th></th>\n",
       "      <th></th>\n",
       "      <th></th>\n",
       "    </tr>\n",
       "  </thead>\n",
       "  <tbody>\n",
       "    <tr>\n",
       "      <th rowspan=\"4\" valign=\"top\">0.020</th>\n",
       "      <th>5</th>\n",
       "      <td>14181.035</td>\n",
       "      <td>14181.262</td>\n",
       "      <td>14215.644</td>\n",
       "      <td>0.228</td>\n",
       "      <td>34.382</td>\n",
       "      <td>34.610</td>\n",
       "      <td>0.741</td>\n",
       "      <td>2740.796</td>\n",
       "      <td>0.946</td>\n",
       "      <td>1.000</td>\n",
       "      <td>0.037</td>\n",
       "      <td>0.704</td>\n",
       "      <td>0.000</td>\n",
       "    </tr>\n",
       "    <tr>\n",
       "      <th>10</th>\n",
       "      <td>14254.799</td>\n",
       "      <td>14255.025</td>\n",
       "      <td>14271.979</td>\n",
       "      <td>0.227</td>\n",
       "      <td>16.954</td>\n",
       "      <td>17.181</td>\n",
       "      <td>0.741</td>\n",
       "      <td>1370.407</td>\n",
       "      <td>0.955</td>\n",
       "      <td>1.000</td>\n",
       "      <td>0.056</td>\n",
       "      <td>0.696</td>\n",
       "      <td>0.177</td>\n",
       "    </tr>\n",
       "    <tr>\n",
       "      <th>15</th>\n",
       "      <td>14295.907</td>\n",
       "      <td>14296.131</td>\n",
       "      <td>14309.678</td>\n",
       "      <td>0.224</td>\n",
       "      <td>13.547</td>\n",
       "      <td>13.771</td>\n",
       "      <td>0.907</td>\n",
       "      <td>913.556</td>\n",
       "      <td>0.947</td>\n",
       "      <td>1.000</td>\n",
       "      <td>0.278</td>\n",
       "      <td>0.625</td>\n",
       "      <td>0.201</td>\n",
       "    </tr>\n",
       "    <tr>\n",
       "      <th>20</th>\n",
       "      <td>14327.830</td>\n",
       "      <td>14328.056</td>\n",
       "      <td>14338.692</td>\n",
       "      <td>0.226</td>\n",
       "      <td>10.636</td>\n",
       "      <td>10.862</td>\n",
       "      <td>0.870</td>\n",
       "      <td>685.204</td>\n",
       "      <td>0.975</td>\n",
       "      <td>1.000</td>\n",
       "      <td>0.611</td>\n",
       "      <td>0.601</td>\n",
       "      <td>0.270</td>\n",
       "    </tr>\n",
       "    <tr>\n",
       "      <th rowspan=\"4\" valign=\"top\">0.030</th>\n",
       "      <th>5</th>\n",
       "      <td>14216.030</td>\n",
       "      <td>14216.260</td>\n",
       "      <td>14237.611</td>\n",
       "      <td>0.230</td>\n",
       "      <td>21.351</td>\n",
       "      <td>21.581</td>\n",
       "      <td>0.759</td>\n",
       "      <td>1827.185</td>\n",
       "      <td>0.969</td>\n",
       "      <td>1.000</td>\n",
       "      <td>0.185</td>\n",
       "      <td>0.697</td>\n",
       "      <td>0.151</td>\n",
       "    </tr>\n",
       "    <tr>\n",
       "      <th>10</th>\n",
       "      <td>14272.344</td>\n",
       "      <td>14272.570</td>\n",
       "      <td>14284.591</td>\n",
       "      <td>0.225</td>\n",
       "      <td>12.021</td>\n",
       "      <td>12.247</td>\n",
       "      <td>0.907</td>\n",
       "      <td>913.556</td>\n",
       "      <td>0.967</td>\n",
       "      <td>1.000</td>\n",
       "      <td>0.315</td>\n",
       "      <td>0.634</td>\n",
       "      <td>0.240</td>\n",
       "    </tr>\n",
       "    <tr>\n",
       "      <th>15</th>\n",
       "      <td>14310.040</td>\n",
       "      <td>14310.264</td>\n",
       "      <td>14319.620</td>\n",
       "      <td>0.224</td>\n",
       "      <td>9.356</td>\n",
       "      <td>9.580</td>\n",
       "      <td>1.056</td>\n",
       "      <td>609.074</td>\n",
       "      <td>0.927</td>\n",
       "      <td>0.999</td>\n",
       "      <td>0.741</td>\n",
       "      <td>0.488</td>\n",
       "      <td>0.344</td>\n",
       "    </tr>\n",
       "    <tr>\n",
       "      <th>20</th>\n",
       "      <td>14339.054</td>\n",
       "      <td>14339.281</td>\n",
       "      <td>14347.110</td>\n",
       "      <td>0.227</td>\n",
       "      <td>7.829</td>\n",
       "      <td>8.055</td>\n",
       "      <td>1.204</td>\n",
       "      <td>456.796</td>\n",
       "      <td>0.854</td>\n",
       "      <td>0.997</td>\n",
       "      <td>1.093</td>\n",
       "      <td>0.356</td>\n",
       "      <td>0.417</td>\n",
       "    </tr>\n",
       "    <tr>\n",
       "      <th rowspan=\"4\" valign=\"top\">0.040</th>\n",
       "      <th>5</th>\n",
       "      <td>14237.977</td>\n",
       "      <td>14238.202</td>\n",
       "      <td>14254.432</td>\n",
       "      <td>0.225</td>\n",
       "      <td>16.231</td>\n",
       "      <td>16.456</td>\n",
       "      <td>0.852</td>\n",
       "      <td>1370.407</td>\n",
       "      <td>0.954</td>\n",
       "      <td>1.000</td>\n",
       "      <td>0.333</td>\n",
       "      <td>0.623</td>\n",
       "      <td>0.253</td>\n",
       "    </tr>\n",
       "    <tr>\n",
       "      <th>10</th>\n",
       "      <td>14284.952</td>\n",
       "      <td>14285.175</td>\n",
       "      <td>14295.545</td>\n",
       "      <td>0.223</td>\n",
       "      <td>10.370</td>\n",
       "      <td>10.593</td>\n",
       "      <td>1.259</td>\n",
       "      <td>685.204</td>\n",
       "      <td>0.955</td>\n",
       "      <td>1.000</td>\n",
       "      <td>1.167</td>\n",
       "      <td>0.410</td>\n",
       "      <td>0.383</td>\n",
       "    </tr>\n",
       "    <tr>\n",
       "      <th>15</th>\n",
       "      <td>14319.979</td>\n",
       "      <td>14320.203</td>\n",
       "      <td>14327.471</td>\n",
       "      <td>0.224</td>\n",
       "      <td>7.268</td>\n",
       "      <td>7.492</td>\n",
       "      <td>1.333</td>\n",
       "      <td>456.796</td>\n",
       "      <td>0.904</td>\n",
       "      <td>0.997</td>\n",
       "      <td>1.315</td>\n",
       "      <td>0.356</td>\n",
       "      <td>0.436</td>\n",
       "    </tr>\n",
       "    <tr>\n",
       "      <th>20</th>\n",
       "      <td>14347.472</td>\n",
       "      <td>14347.697</td>\n",
       "      <td>14352.658</td>\n",
       "      <td>0.226</td>\n",
       "      <td>4.961</td>\n",
       "      <td>5.187</td>\n",
       "      <td>1.056</td>\n",
       "      <td>342.667</td>\n",
       "      <td>0.691</td>\n",
       "      <td>0.991</td>\n",
       "      <td>1.519</td>\n",
       "      <td>0.263</td>\n",
       "      <td>0.481</td>\n",
       "    </tr>\n",
       "  </tbody>\n",
       "</table>\n",
       "</div>"
      ],
      "text/plain": [
       "                       start_ts  initialized_ts  scenario_done_ts  init_time  \\\n",
       "dt    decision_repeat                                                          \n",
       "0.020 5               14181.035       14181.262         14215.644      0.228   \n",
       "      10              14254.799       14255.025         14271.979      0.227   \n",
       "      15              14295.907       14296.131         14309.678      0.224   \n",
       "      20              14327.830       14328.056         14338.692      0.226   \n",
       "0.030 5               14216.030       14216.260         14237.611      0.230   \n",
       "      10              14272.344       14272.570         14284.591      0.225   \n",
       "      15              14310.040       14310.264         14319.620      0.224   \n",
       "      20              14339.054       14339.281         14347.110      0.227   \n",
       "0.040 5               14237.977       14238.202         14254.432      0.225   \n",
       "      10              14284.952       14285.175         14295.545      0.223   \n",
       "      15              14319.979       14320.203         14327.471      0.224   \n",
       "      20              14347.472       14347.697         14352.658      0.226   \n",
       "\n",
       "                       scenario_time  total_time  n_crashed_vehicles  \\\n",
       "dt    decision_repeat                                                  \n",
       "0.020 5                       34.382      34.610               0.741   \n",
       "      10                      16.954      17.181               0.741   \n",
       "      15                      13.547      13.771               0.907   \n",
       "      20                      10.636      10.862               0.870   \n",
       "0.030 5                       21.351      21.581               0.759   \n",
       "      10                      12.021      12.247               0.907   \n",
       "      15                       9.356       9.580               1.056   \n",
       "      20                       7.829       8.055               1.204   \n",
       "0.040 5                       16.231      16.456               0.852   \n",
       "      10                      10.370      10.593               1.259   \n",
       "      15                       7.268       7.492               1.333   \n",
       "      20                       4.961       5.187               1.056   \n",
       "\n",
       "                       max_steps  route_completion  in_road_percentage  \\\n",
       "dt    decision_repeat                                                    \n",
       "0.020 5                 2740.796             0.946               1.000   \n",
       "      10                1370.407             0.955               1.000   \n",
       "      15                 913.556             0.947               1.000   \n",
       "      20                 685.204             0.975               1.000   \n",
       "0.030 5                 1827.185             0.969               1.000   \n",
       "      10                 913.556             0.967               1.000   \n",
       "      15                 609.074             0.927               0.999   \n",
       "      20                 456.796             0.854               0.997   \n",
       "0.040 5                 1370.407             0.954               1.000   \n",
       "      10                 685.204             0.955               1.000   \n",
       "      15                 456.796             0.904               0.997   \n",
       "      20                 342.667             0.691               0.991   \n",
       "\n",
       "                       n_sidewalk_crashes  driving_score  driving_score_error  \n",
       "dt    decision_repeat                                                          \n",
       "0.020 5                             0.037          0.704                0.000  \n",
       "      10                            0.056          0.696                0.177  \n",
       "      15                            0.278          0.625                0.201  \n",
       "      20                            0.611          0.601                0.270  \n",
       "0.030 5                             0.185          0.697                0.151  \n",
       "      10                            0.315          0.634                0.240  \n",
       "      15                            0.741          0.488                0.344  \n",
       "      20                            1.093          0.356                0.417  \n",
       "0.040 5                             0.333          0.623                0.253  \n",
       "      10                            1.167          0.410                0.383  \n",
       "      15                            1.315          0.356                0.436  \n",
       "      20                            1.519          0.263                0.481  "
      ]
     },
     "execution_count": 13,
     "metadata": {},
     "output_type": "execute_result"
    }
   ],
   "source": [
    "agg = df.select_dtypes(\"number\").groupby(by=[\"dt\", \"decision_repeat\"]).mean()\n",
    "agg"
   ]
  },
  {
   "cell_type": "markdown",
   "metadata": {},
   "source": [
    "### RQ1\n"
   ]
  },
  {
   "cell_type": "code",
   "execution_count": 14,
   "metadata": {},
   "outputs": [
    {
     "data": {
      "text/plain": [
       "Text(0.5, 0, 'Decision repeat')"
      ]
     },
     "execution_count": 14,
     "metadata": {},
     "output_type": "execute_result"
    },
    {
     "data": {
      "image/png": "[encoded data removed]",
      "text/plain": [
       "<Figure size 640x480 with 1 Axes>"
      ]
     },
     "metadata": {},
     "output_type": "display_data"
    }
   ],
   "source": [
    "ax = sns.scatterplot(\n",
    "    agg, x=\"decision_repeat\", y=\"total_time\", hue=\"dt\", palette=palette\n",
    ")\n",
    "ax.set_ylim(0)\n",
    "ax.set_ylabel(\"System time [s]\")\n",
    "ax.set_xlabel(\"Decision repeat\")\n",
    "# ax.set_xticks(x_ticks)"
   ]
  },
  {
   "cell_type": "markdown",
   "metadata": {},
   "source": [
    "### RQ2\n"
   ]
  },
  {
   "cell_type": "code",
   "execution_count": 15,
   "metadata": {},
   "outputs": [
    {
     "data": {
      "text/plain": [
       "Text(0, 0.5, 'Driving Score Error')"
      ]
     },
     "execution_count": 15,
     "metadata": {},
     "output_type": "execute_result"
    },
    {
     "data": {
      "image/png": "[encoded data removed]",
      "text/plain": [
       "<Figure size 640x480 with 1 Axes>"
      ]
     },
     "metadata": {},
     "output_type": "display_data"
    }
   ],
   "source": [
    "ax = sns.scatterplot(\n",
    "    agg, x=\"decision_repeat\", y=\"driving_score_error\", hue=\"dt\", palette=palette\n",
    ")\n",
    "\n",
    "ax.set_xlabel(\"Decision repeat\")\n",
    "\n",
    "\n",
    "ax.set_ylabel(\"Driving Score Error\")"
   ]
  }
 ],
 "metadata": {
  "kernelspec": {
   "display_name": "metadrive",
   "language": "python",
   "name": "python3"
  },
  "language_info": {
   "codemirror_mode": {
    "name": "ipython",
    "version": 3
   },
   "file_extension": ".py",
   "mimetype": "text/x-python",
   "name": "python",
   "nbconvert_exporter": "python",
   "pygments_lexer": "ipython3",
   "version": "3.10.14"
  }
 },
 "nbformat": 4,
 "nbformat_minor": 2
}
