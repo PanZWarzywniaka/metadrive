{
 "cells": [
  {
   "cell_type": "code",
   "execution_count": 1,
   "metadata": {},
   "outputs": [],
   "source": [
    "import pandas as pd\n",
    "from pathlib import Path\n",
    "import json\n",
    "from pprint import pprint\n",
    "import math\n",
    "from tqdm import tqdm\n",
    "import seaborn as sns\n",
    "\n",
    "DATA_DIR = Path(\"data/benchmarking\")"
   ]
  },
  {
   "cell_type": "code",
   "execution_count": 2,
   "metadata": {},
   "outputs": [],
   "source": [
    "def get_in_road_percentage(steps_df: pd.DataFrame) -> float:\n",
    "    ret = steps_df[\"out_of_road\"].value_counts(normalize=True).at[False]\n",
    "    return ret"
   ]
  },
  {
   "cell_type": "code",
   "execution_count": 3,
   "metadata": {},
   "outputs": [],
   "source": [
    "def get_n_crashes(steps_df: pd.DataFrame) -> int:\n",
    "    \"\"\"Count number of crash episodes to not count same crash multiple times\"\"\"\n",
    "    try:\n",
    "        # count number of times \"crash\" becomes True for some time\n",
    "        n_crashes = steps_df[\"crash\"].diff().value_counts().at[True]\n",
    "\n",
    "        # need to divide by 2 beacouse diff counts twice\n",
    "        n_crashes /= 2\n",
    "\n",
    "        # just in case crash is last episode and we have 3.5 crash episodes make it 4\n",
    "        n_crashes = math.ceil(n_crashes)\n",
    "    except KeyError:\n",
    "        n_crashes = 0\n",
    "\n",
    "    return n_crashes"
   ]
  },
  {
   "cell_type": "code",
   "execution_count": 4,
   "metadata": {},
   "outputs": [],
   "source": [
    "def process_steps(steps_infos: list) -> dict:\n",
    "    \"\"\"Accepts a list of steps and returns a dict of interesting data\"\"\"\n",
    "\n",
    "    steps_df = pd.DataFrame(steps_infos)\n",
    "    steps_data = {}\n",
    "    last_step = steps_df.iloc[-1]\n",
    "\n",
    "    steps_data = {\n",
    "        \"termination.arrive_dest\": last_step[\"arrive_dest\"],\n",
    "        \"termination.timeout\": last_step[\"max_step\"],\n",
    "        \"route_completion\": last_step[\"route_completion\"],\n",
    "        \"seed\": last_step[\"env_seed\"],\n",
    "        \"in_road_percentage\": get_in_road_percentage(steps_df),\n",
    "        \"n_crashes\": get_n_crashes(steps_df),\n",
    "    }\n",
    "\n",
    "    return steps_data"
   ]
  },
  {
   "cell_type": "code",
   "execution_count": 5,
   "metadata": {},
   "outputs": [],
   "source": [
    "def get_scenarios_df(dir: Path):\n",
    "    paths = list(dir.glob(\"*/*.json\"))\n",
    "\n",
    "    scenarios = []\n",
    "    for file_path in tqdm(paths):\n",
    "\n",
    "        with open(file_path, \"r\") as f:\n",
    "            scenario_data = json.load(f)\n",
    "\n",
    "        dir = file_path.__str__().split(\"/\")[-2]\n",
    "        _, dr, _, dt = dir.split(\"_\")\n",
    "        scenario_data[\"decision_repeat\"] = int(dr)\n",
    "        scenario_data[\"dt\"] = float(dt)\n",
    "\n",
    "        steps_infos = scenario_data.pop(\"steps_infos\")\n",
    "        scenario_data.update(process_steps(steps_infos))\n",
    "        scenarios.append(scenario_data)\n",
    "    return pd.DataFrame(scenarios)"
   ]
  },
  {
   "cell_type": "code",
   "execution_count": 6,
   "metadata": {},
   "outputs": [
    {
     "name": "stderr",
     "output_type": "stream",
     "text": [
      "100%|██████████| 1200/1200 [00:04<00:00, 246.54it/s]\n"
     ]
    }
   ],
   "source": [
    "df = get_scenarios_df(DATA_DIR)"
   ]
  },
  {
   "cell_type": "code",
   "execution_count": 7,
   "metadata": {},
   "outputs": [],
   "source": [
    "df = df.set_index(\n",
    "    [\n",
    "        \"dt\",\n",
    "        \"decision_repeat\",\n",
    "        \"seed\",\n",
    "    ],\n",
    "    verify_integrity=True,\n",
    ")\n",
    "\n",
    "df = df.sort_index()"
   ]
  },
  {
   "cell_type": "code",
   "execution_count": 8,
   "metadata": {},
   "outputs": [
    {
     "data": {
      "text/plain": [
       "dt    decision_repeat  seed\n",
       "0.02  5                39      347\n",
       "0.03  10               29      153\n",
       "0.02  15               42      116\n",
       "0.04  10               41      110\n",
       "0.02  20               73      106\n",
       "      15               73      102\n",
       "0.03  15               55       92\n",
       "      10               12       91\n",
       "      20               72       89\n",
       "      15               73       73\n",
       "0.04  20               21       64\n",
       "      10               15       61\n",
       "0.03  10               42       51\n",
       "0.04  20               63       48\n",
       "0.02  5                7        47\n",
       "0.03  20               92       42\n",
       "0.04  20               61       42\n",
       "                       90       39\n",
       "0.03  20               20       33\n",
       "0.02  20               66       27\n",
       "Name: n_crashes, dtype: int64"
      ]
     },
     "execution_count": 8,
     "metadata": {},
     "output_type": "execute_result"
    }
   ],
   "source": [
    "df[\"n_crashes\"].sort_values(ascending=False).head(20)"
   ]
  },
  {
   "cell_type": "code",
   "execution_count": 9,
   "metadata": {},
   "outputs": [],
   "source": [
    "# ! Problem changing the values here in the analysis can change % error\n",
    "\n",
    "df[\"driving_score\"] = (\n",
    "    df[\"route_completion\"] * df[\"in_road_percentage\"] * (0.9) ** df[\"n_crashes\"]\n",
    ")"
   ]
  },
  {
   "cell_type": "code",
   "execution_count": 10,
   "metadata": {},
   "outputs": [
    {
     "data": {
      "text/plain": [
       "seed\n",
       "0     0.993165\n",
       "1     0.184633\n",
       "2     0.993426\n",
       "3     0.989208\n",
       "4     0.803575\n",
       "        ...   \n",
       "95    0.994201\n",
       "96    0.992842\n",
       "97    0.586869\n",
       "98    0.892667\n",
       "99    0.989554\n",
       "Name: driving_score, Length: 100, dtype: float64"
      ]
     },
     "execution_count": 10,
     "metadata": {},
     "output_type": "execute_result"
    }
   ],
   "source": [
    "oracle_ds = df.xs((0.02, 5))[\"driving_score\"]\n",
    "oracle_ds"
   ]
  },
  {
   "cell_type": "code",
   "execution_count": 11,
   "metadata": {},
   "outputs": [],
   "source": [
    "df[\"driving_score_error\"] = (df[\"driving_score\"] - oracle_ds).abs()\n",
    "# df"
   ]
  },
  {
   "cell_type": "code",
   "execution_count": 12,
   "metadata": {},
   "outputs": [
    {
     "data": {
      "text/html": [
       "<div>\n",
       "<style scoped>\n",
       "    .dataframe tbody tr th:only-of-type {\n",
       "        vertical-align: middle;\n",
       "    }\n",
       "\n",
       "    .dataframe tbody tr th {\n",
       "        vertical-align: top;\n",
       "    }\n",
       "\n",
       "    .dataframe thead th {\n",
       "        text-align: right;\n",
       "    }\n",
       "</style>\n",
       "<table border=\"1\" class=\"dataframe\">\n",
       "  <thead>\n",
       "    <tr style=\"text-align: right;\">\n",
       "      <th></th>\n",
       "      <th></th>\n",
       "      <th>start_ts</th>\n",
       "      <th>initialized_ts</th>\n",
       "      <th>scenario_done_ts</th>\n",
       "      <th>init_time</th>\n",
       "      <th>scenario_time</th>\n",
       "      <th>total_time</th>\n",
       "      <th>max_steps</th>\n",
       "      <th>route_completion</th>\n",
       "      <th>in_road_percentage</th>\n",
       "      <th>n_crashes</th>\n",
       "      <th>driving_score</th>\n",
       "      <th>driving_score_error</th>\n",
       "    </tr>\n",
       "    <tr>\n",
       "      <th>dt</th>\n",
       "      <th>decision_repeat</th>\n",
       "      <th></th>\n",
       "      <th></th>\n",
       "      <th></th>\n",
       "      <th></th>\n",
       "      <th></th>\n",
       "      <th></th>\n",
       "      <th></th>\n",
       "      <th></th>\n",
       "      <th></th>\n",
       "      <th></th>\n",
       "      <th></th>\n",
       "      <th></th>\n",
       "    </tr>\n",
       "  </thead>\n",
       "  <tbody>\n",
       "    <tr>\n",
       "      <th rowspan=\"4\" valign=\"top\">0.02</th>\n",
       "      <th>5</th>\n",
       "      <td>3306.236850</td>\n",
       "      <td>3306.428120</td>\n",
       "      <td>3331.414196</td>\n",
       "      <td>0.191270</td>\n",
       "      <td>24.986076</td>\n",
       "      <td>25.177346</td>\n",
       "      <td>2738.68</td>\n",
       "      <td>0.970994</td>\n",
       "      <td>1.000000</td>\n",
       "      <td>5.24</td>\n",
       "      <td>0.857783</td>\n",
       "      <td>0.000000</td>\n",
       "    </tr>\n",
       "    <tr>\n",
       "      <th>10</th>\n",
       "      <td>3331.688450</td>\n",
       "      <td>3331.877859</td>\n",
       "      <td>3345.220106</td>\n",
       "      <td>0.189409</td>\n",
       "      <td>13.342247</td>\n",
       "      <td>13.531656</td>\n",
       "      <td>1369.32</td>\n",
       "      <td>0.971221</td>\n",
       "      <td>0.999971</td>\n",
       "      <td>1.37</td>\n",
       "      <td>0.865399</td>\n",
       "      <td>0.124403</td>\n",
       "    </tr>\n",
       "    <tr>\n",
       "      <th>15</th>\n",
       "      <td>3345.487210</td>\n",
       "      <td>3345.676556</td>\n",
       "      <td>3356.272830</td>\n",
       "      <td>0.189346</td>\n",
       "      <td>10.596274</td>\n",
       "      <td>10.785621</td>\n",
       "      <td>912.86</td>\n",
       "      <td>0.951197</td>\n",
       "      <td>0.999722</td>\n",
       "      <td>3.80</td>\n",
       "      <td>0.811568</td>\n",
       "      <td>0.147874</td>\n",
       "    </tr>\n",
       "    <tr>\n",
       "      <th>20</th>\n",
       "      <td>3356.537141</td>\n",
       "      <td>3356.726927</td>\n",
       "      <td>3364.845517</td>\n",
       "      <td>0.189785</td>\n",
       "      <td>8.118590</td>\n",
       "      <td>8.308376</td>\n",
       "      <td>684.65</td>\n",
       "      <td>0.978979</td>\n",
       "      <td>0.999782</td>\n",
       "      <td>3.27</td>\n",
       "      <td>0.802382</td>\n",
       "      <td>0.195380</td>\n",
       "    </tr>\n",
       "    <tr>\n",
       "      <th rowspan=\"4\" valign=\"top\">0.03</th>\n",
       "      <th>5</th>\n",
       "      <td>10154.008581</td>\n",
       "      <td>10154.197949</td>\n",
       "      <td>10171.134809</td>\n",
       "      <td>0.189368</td>\n",
       "      <td>16.936860</td>\n",
       "      <td>17.126228</td>\n",
       "      <td>1825.79</td>\n",
       "      <td>0.972420</td>\n",
       "      <td>0.999956</td>\n",
       "      <td>1.80</td>\n",
       "      <td>0.853729</td>\n",
       "      <td>0.111684</td>\n",
       "    </tr>\n",
       "    <tr>\n",
       "      <th>10</th>\n",
       "      <td>10185.209884</td>\n",
       "      <td>10185.397257</td>\n",
       "      <td>10195.190454</td>\n",
       "      <td>0.187373</td>\n",
       "      <td>9.793197</td>\n",
       "      <td>9.980570</td>\n",
       "      <td>912.86</td>\n",
       "      <td>0.959413</td>\n",
       "      <td>0.999722</td>\n",
       "      <td>4.44</td>\n",
       "      <td>0.812663</td>\n",
       "      <td>0.189124</td>\n",
       "    </tr>\n",
       "    <tr>\n",
       "      <th>15</th>\n",
       "      <td>10204.389997</td>\n",
       "      <td>10204.578981</td>\n",
       "      <td>10212.428546</td>\n",
       "      <td>0.188984</td>\n",
       "      <td>7.849565</td>\n",
       "      <td>8.038549</td>\n",
       "      <td>608.62</td>\n",
       "      <td>0.914904</td>\n",
       "      <td>0.998503</td>\n",
       "      <td>4.78</td>\n",
       "      <td>0.681513</td>\n",
       "      <td>0.266308</td>\n",
       "    </tr>\n",
       "    <tr>\n",
       "      <th>20</th>\n",
       "      <td>10218.812211</td>\n",
       "      <td>10219.000946</td>\n",
       "      <td>10224.919812</td>\n",
       "      <td>0.188735</td>\n",
       "      <td>5.918866</td>\n",
       "      <td>6.107601</td>\n",
       "      <td>456.45</td>\n",
       "      <td>0.848883</td>\n",
       "      <td>0.995686</td>\n",
       "      <td>5.21</td>\n",
       "      <td>0.590645</td>\n",
       "      <td>0.355984</td>\n",
       "    </tr>\n",
       "    <tr>\n",
       "      <th rowspan=\"4\" valign=\"top\">0.04</th>\n",
       "      <th>5</th>\n",
       "      <td>10171.445992</td>\n",
       "      <td>10171.634070</td>\n",
       "      <td>10184.900328</td>\n",
       "      <td>0.188077</td>\n",
       "      <td>13.266258</td>\n",
       "      <td>13.454336</td>\n",
       "      <td>1369.32</td>\n",
       "      <td>0.964109</td>\n",
       "      <td>1.000000</td>\n",
       "      <td>1.46</td>\n",
       "      <td>0.847029</td>\n",
       "      <td>0.143944</td>\n",
       "    </tr>\n",
       "    <tr>\n",
       "      <th>10</th>\n",
       "      <td>10195.499038</td>\n",
       "      <td>10195.687781</td>\n",
       "      <td>10204.083296</td>\n",
       "      <td>0.188743</td>\n",
       "      <td>8.395515</td>\n",
       "      <td>8.584258</td>\n",
       "      <td>684.65</td>\n",
       "      <td>0.943235</td>\n",
       "      <td>0.999411</td>\n",
       "      <td>4.91</td>\n",
       "      <td>0.693466</td>\n",
       "      <td>0.260468</td>\n",
       "    </tr>\n",
       "    <tr>\n",
       "      <th>15</th>\n",
       "      <td>10212.736637</td>\n",
       "      <td>10212.925996</td>\n",
       "      <td>10218.506985</td>\n",
       "      <td>0.189358</td>\n",
       "      <td>5.580989</td>\n",
       "      <td>5.770348</td>\n",
       "      <td>456.45</td>\n",
       "      <td>0.851819</td>\n",
       "      <td>0.995072</td>\n",
       "      <td>3.49</td>\n",
       "      <td>0.607593</td>\n",
       "      <td>0.331142</td>\n",
       "    </tr>\n",
       "    <tr>\n",
       "      <th>20</th>\n",
       "      <td>10225.225509</td>\n",
       "      <td>10225.414834</td>\n",
       "      <td>10229.471472</td>\n",
       "      <td>0.189325</td>\n",
       "      <td>4.056638</td>\n",
       "      <td>4.245963</td>\n",
       "      <td>342.37</td>\n",
       "      <td>0.655548</td>\n",
       "      <td>0.989029</td>\n",
       "      <td>4.81</td>\n",
       "      <td>0.454277</td>\n",
       "      <td>0.460733</td>\n",
       "    </tr>\n",
       "  </tbody>\n",
       "</table>\n",
       "</div>"
      ],
      "text/plain": [
       "                          start_ts  initialized_ts  scenario_done_ts  \\\n",
       "dt   decision_repeat                                                   \n",
       "0.02 5                 3306.236850     3306.428120       3331.414196   \n",
       "     10                3331.688450     3331.877859       3345.220106   \n",
       "     15                3345.487210     3345.676556       3356.272830   \n",
       "     20                3356.537141     3356.726927       3364.845517   \n",
       "0.03 5                10154.008581    10154.197949      10171.134809   \n",
       "     10               10185.209884    10185.397257      10195.190454   \n",
       "     15               10204.389997    10204.578981      10212.428546   \n",
       "     20               10218.812211    10219.000946      10224.919812   \n",
       "0.04 5                10171.445992    10171.634070      10184.900328   \n",
       "     10               10195.499038    10195.687781      10204.083296   \n",
       "     15               10212.736637    10212.925996      10218.506985   \n",
       "     20               10225.225509    10225.414834      10229.471472   \n",
       "\n",
       "                      init_time  scenario_time  total_time  max_steps  \\\n",
       "dt   decision_repeat                                                    \n",
       "0.02 5                 0.191270      24.986076   25.177346    2738.68   \n",
       "     10                0.189409      13.342247   13.531656    1369.32   \n",
       "     15                0.189346      10.596274   10.785621     912.86   \n",
       "     20                0.189785       8.118590    8.308376     684.65   \n",
       "0.03 5                 0.189368      16.936860   17.126228    1825.79   \n",
       "     10                0.187373       9.793197    9.980570     912.86   \n",
       "     15                0.188984       7.849565    8.038549     608.62   \n",
       "     20                0.188735       5.918866    6.107601     456.45   \n",
       "0.04 5                 0.188077      13.266258   13.454336    1369.32   \n",
       "     10                0.188743       8.395515    8.584258     684.65   \n",
       "     15                0.189358       5.580989    5.770348     456.45   \n",
       "     20                0.189325       4.056638    4.245963     342.37   \n",
       "\n",
       "                      route_completion  in_road_percentage  n_crashes  \\\n",
       "dt   decision_repeat                                                    \n",
       "0.02 5                        0.970994            1.000000       5.24   \n",
       "     10                       0.971221            0.999971       1.37   \n",
       "     15                       0.951197            0.999722       3.80   \n",
       "     20                       0.978979            0.999782       3.27   \n",
       "0.03 5                        0.972420            0.999956       1.80   \n",
       "     10                       0.959413            0.999722       4.44   \n",
       "     15                       0.914904            0.998503       4.78   \n",
       "     20                       0.848883            0.995686       5.21   \n",
       "0.04 5                        0.964109            1.000000       1.46   \n",
       "     10                       0.943235            0.999411       4.91   \n",
       "     15                       0.851819            0.995072       3.49   \n",
       "     20                       0.655548            0.989029       4.81   \n",
       "\n",
       "                      driving_score  driving_score_error  \n",
       "dt   decision_repeat                                      \n",
       "0.02 5                     0.857783             0.000000  \n",
       "     10                    0.865399             0.124403  \n",
       "     15                    0.811568             0.147874  \n",
       "     20                    0.802382             0.195380  \n",
       "0.03 5                     0.853729             0.111684  \n",
       "     10                    0.812663             0.189124  \n",
       "     15                    0.681513             0.266308  \n",
       "     20                    0.590645             0.355984  \n",
       "0.04 5                     0.847029             0.143944  \n",
       "     10                    0.693466             0.260468  \n",
       "     15                    0.607593             0.331142  \n",
       "     20                    0.454277             0.460733  "
      ]
     },
     "execution_count": 12,
     "metadata": {},
     "output_type": "execute_result"
    }
   ],
   "source": [
    "agg = df.select_dtypes(\"number\").groupby(by=[\"dt\", \"decision_repeat\"]).mean()\n",
    "agg"
   ]
  },
  {
   "cell_type": "code",
   "execution_count": 13,
   "metadata": {},
   "outputs": [],
   "source": [
    "x_ticks = agg.index.get_level_values(\"decision_repeat\").unique().to_list()"
   ]
  },
  {
   "cell_type": "code",
   "execution_count": 14,
   "metadata": {},
   "outputs": [],
   "source": [
    "palette = sns.color_palette(\"hls\", 3)"
   ]
  },
  {
   "cell_type": "code",
   "execution_count": 15,
   "metadata": {},
   "outputs": [
    {
     "data": {
      "text/plain": [
       "[<matplotlib.axis.XTick at 0x7aa6f4312ec0>,\n",
       " <matplotlib.axis.XTick at 0x7aa6f4313b20>,\n",
       " <matplotlib.axis.XTick at 0x7aa6f3b00f10>,\n",
       " <matplotlib.axis.XTick at 0x7aa6f3b01390>]"
      ]
     },
     "execution_count": 15,
     "metadata": {},
     "output_type": "execute_result"
    },
    {
     "data": {
      "image/png": "[encoded data removed]",
      "text/plain": [
       "<Figure size 640x480 with 1 Axes>"
      ]
     },
     "metadata": {},
     "output_type": "display_data"
    }
   ],
   "source": [
    "ax = sns.scatterplot(\n",
    "    agg, x=\"decision_repeat\", y=\"total_time\", hue=\"dt\", palette=palette\n",
    ")\n",
    "ax.set_ylim(0)\n",
    "ax.set_ylabel(\"System time [s]\")\n",
    "ax.set_xlabel(\"Decision repeat\")\n",
    "ax.set_xticks(x_ticks)"
   ]
  },
  {
   "cell_type": "code",
   "execution_count": 16,
   "metadata": {},
   "outputs": [
    {
     "data": {
      "text/plain": [
       "Text(0, 0.5, 'Driving Score Error')"
      ]
     },
     "execution_count": 16,
     "metadata": {},
     "output_type": "execute_result"
    },
    {
     "data": {
      "image/png": "[encoded data removed]",
      "text/plain": [
       "<Figure size 640x480 with 1 Axes>"
      ]
     },
     "metadata": {},
     "output_type": "display_data"
    }
   ],
   "source": [
    "ax = sns.scatterplot(\n",
    "    agg, x=\"decision_repeat\", y=\"driving_score_error\", hue=\"dt\", palette=palette\n",
    ")\n",
    "\n",
    "ax.set_xlabel(\"Decision repeat\")\n",
    "ax.set_xticks(x_ticks)\n",
    "\n",
    "ax.set_ylabel(\"Driving Score Error\")"
   ]
  }
 ],
 "metadata": {
  "kernelspec": {
   "display_name": "metadrive",
   "language": "python",
   "name": "python3"
  },
  "language_info": {
   "codemirror_mode": {
    "name": "ipython",
    "version": 3
   },
   "file_extension": ".py",
   "mimetype": "text/x-python",
   "name": "python",
   "nbconvert_exporter": "python",
   "pygments_lexer": "ipython3",
   "version": "3.10.14"
  }
 },
 "nbformat": 4,
 "nbformat_minor": 2
}
