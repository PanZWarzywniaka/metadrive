{
 "cells": [
  {
   "cell_type": "code",
   "execution_count": 52,
   "metadata": {},
   "outputs": [],
   "source": [
    "import seaborn as sns\n",
    "import pandas as pd\n",
    "\n",
    "\n",
    "pd.set_option(\"display.max_columns\", None)"
   ]
  },
  {
   "cell_type": "code",
   "execution_count": 53,
   "metadata": {},
   "outputs": [
    {
     "name": "stdout",
     "output_type": "stream",
     "text": [
      "<class 'pandas.core.frame.DataFrame'>\n",
      "RangeIndex: 5523493 entries, 0 to 5523492\n",
      "Data columns (total 26 columns):\n",
      " #   Column                Dtype  \n",
      "---  ------                -----  \n",
      " 0   Unnamed: 0            int64  \n",
      " 1   overtake_vehicle_num  int64  \n",
      " 2   velocity              float64\n",
      " 3   steering              float64\n",
      " 4   acceleration          float64\n",
      " 5   step_energy           float64\n",
      " 6   episode_energy        float64\n",
      " 7   policy                object \n",
      " 8   crash_vehicle         bool   \n",
      " 9   crash_object          bool   \n",
      " 10  crash_building        bool   \n",
      " 11  crash_human           bool   \n",
      " 12  crash_sidewalk        bool   \n",
      " 13  out_of_road           bool   \n",
      " 14  arrive_dest           bool   \n",
      " 15  max_step              bool   \n",
      " 16  env_seed              int64  \n",
      " 17  crash                 bool   \n",
      " 18  step_reward           float64\n",
      " 19  cost                  float64\n",
      " 20  repetition            int64  \n",
      " 21  action                object \n",
      " 22  raw_action            object \n",
      " 23  episode_reward        float64\n",
      " 24  episode_length        float64\n",
      " 25  decision_repeat       int64  \n",
      "dtypes: bool(9), float64(9), int64(5), object(3)\n",
      "memory usage: 763.8+ MB\n"
     ]
    }
   ],
   "source": [
    "steps_df = pd.read_csv(\"data/10_000_scenarios.csv\")\n",
    "# steps_df = pd.read_csv(\"data/1000_scenarios_v2.csv\")\n",
    "steps_df.info()"
   ]
  },
  {
   "cell_type": "code",
   "execution_count": 54,
   "metadata": {},
   "outputs": [
    {
     "data": {
      "text/plain": [
       "out_of_road\n",
       "False    5523490\n",
       "True           3\n",
       "Name: count, dtype: int64"
      ]
     },
     "execution_count": 54,
     "metadata": {},
     "output_type": "execute_result"
    }
   ],
   "source": [
    "steps_df[\"out_of_road\"].value_counts()"
   ]
  },
  {
   "cell_type": "code",
   "execution_count": 55,
   "metadata": {},
   "outputs": [
    {
     "name": "stdout",
     "output_type": "stream",
     "text": [
      "Dropped: overtake_vehicle_num\n",
      "Dropped: policy\n",
      "Dropped: crash_object\n",
      "Dropped: crash_building\n",
      "Dropped: crash_human\n"
     ]
    }
   ],
   "source": [
    "def drop_boring_columns(df):\n",
    "    # if a column has one elements its boring lets drop it\n",
    "    for series_name, series in df.items():\n",
    "        if len(series.unique()) == 1:\n",
    "            df = df.drop(series_name, axis=1)\n",
    "            print(f\"Dropped: {series_name}\")\n",
    "\n",
    "    return df\n",
    "\n",
    "\n",
    "steps_df = drop_boring_columns(steps_df)"
   ]
  },
  {
   "cell_type": "code",
   "execution_count": 56,
   "metadata": {},
   "outputs": [],
   "source": [
    "grouped = steps_df.groupby(by=[\"decision_repeat\", \"env_seed\"])\n",
    "scenarios_df = grouped.last()\n",
    "# scenarios_df"
   ]
  },
  {
   "cell_type": "code",
   "execution_count": 57,
   "metadata": {},
   "outputs": [
    {
     "data": {
      "text/plain": [
       "validate_termination\n",
       "True    30000\n",
       "Name: count, dtype: int64"
      ]
     },
     "execution_count": 57,
     "metadata": {},
     "output_type": "execute_result"
    }
   ],
   "source": [
    "def validate_termination(s: pd.Series):\n",
    "    return s[\"crash\"] or s[\"arrive_dest\"] or s[\"max_step\"]\n",
    "\n",
    "\n",
    "scenarios_df[\"validate_termination\"] = scenarios_df.apply(validate_termination, axis=1)\n",
    "scenarios_df[\"validate_termination\"].value_counts()"
   ]
  },
  {
   "cell_type": "code",
   "execution_count": 58,
   "metadata": {},
   "outputs": [],
   "source": [
    "assert scenarios_df[\n",
    "    ~scenarios_df[\"validate_termination\"]\n",
    "].empty, \"Some scenarios termination was not valid!\""
   ]
  },
  {
   "cell_type": "code",
   "execution_count": 59,
   "metadata": {},
   "outputs": [
    {
     "data": {
      "text/plain": [
       "out_of_road\n",
       "False    29997\n",
       "True         3\n",
       "Name: count, dtype: int64"
      ]
     },
     "execution_count": 59,
     "metadata": {},
     "output_type": "execute_result"
    }
   ],
   "source": [
    "# was there any out of road episode?\n",
    "any_out_of_road = grouped[\"out_of_road\"].agg(any)\n",
    "any_out_of_road.value_counts()"
   ]
  },
  {
   "cell_type": "code",
   "execution_count": 60,
   "metadata": {},
   "outputs": [
    {
     "data": {
      "text/plain": [
       "crash\n",
       "False    24848\n",
       "True      5152\n",
       "Name: count, dtype: int64"
      ]
     },
     "execution_count": 60,
     "metadata": {},
     "output_type": "execute_result"
    }
   ],
   "source": [
    "any_crash = grouped[\"crash\"].agg(any)\n",
    "any_crash.value_counts()"
   ]
  },
  {
   "cell_type": "code",
   "execution_count": 61,
   "metadata": {},
   "outputs": [
    {
     "data": {
      "text/plain": [
       "decision_repeat  env_seed\n",
       "5                0           314.0\n",
       "                 1           226.0\n",
       "                 2           337.0\n",
       "                 3           282.0\n",
       "                 4            92.0\n",
       "                             ...  \n",
       "15               9995        129.0\n",
       "                 9996        219.0\n",
       "                 9997         84.0\n",
       "                 9998        115.0\n",
       "                 9999        148.0\n",
       "Name: episode_length, Length: 30000, dtype: float64"
      ]
     },
     "execution_count": 61,
     "metadata": {},
     "output_type": "execute_result"
    }
   ],
   "source": [
    "episode_length = grouped[\"episode_length\"].last()\n",
    "episode_length"
   ]
  },
  {
   "cell_type": "code",
   "execution_count": 62,
   "metadata": {},
   "outputs": [
    {
     "data": {
      "text/plain": [
       "decision_repeat\n",
       "5     2904864.0\n",
       "10    1517718.0\n",
       "15    1070911.0\n",
       "Name: episode_length, dtype: float64"
      ]
     },
     "execution_count": 62,
     "metadata": {},
     "output_type": "execute_result"
    }
   ],
   "source": [
    "rq1 = episode_length.groupby(\"decision_repeat\").sum()\n",
    "rq1"
   ]
  },
  {
   "cell_type": "code",
   "execution_count": 63,
   "metadata": {},
   "outputs": [
    {
     "data": {
      "text/plain": [
       "out_of_road  crash\n",
       "False        False    24848\n",
       "             True      5149\n",
       "True         True         3\n",
       "Name: count, dtype: int64"
      ]
     },
     "execution_count": 63,
     "metadata": {},
     "output_type": "execute_result"
    }
   ],
   "source": [
    "scenarios_df = pd.concat([any_out_of_road, any_crash], axis=1)\n",
    "scenarios_df.value_counts()"
   ]
  },
  {
   "cell_type": "code",
   "execution_count": 64,
   "metadata": {},
   "outputs": [],
   "source": [
    "oracle = scenarios_df.xs(5, level=\"decision_repeat\")"
   ]
  },
  {
   "cell_type": "code",
   "execution_count": 65,
   "metadata": {},
   "outputs": [],
   "source": [
    "def count_diffrent(scenario_df: pd.Series):\n",
    "\n",
    "    x = scenario_df.reset_index(drop=True).compare(oracle.reset_index(drop=True))\n",
    "    return len(x) / len(scenario_df)"
   ]
  },
  {
   "cell_type": "code",
   "execution_count": 66,
   "metadata": {},
   "outputs": [],
   "source": [
    "rq2 = scenarios_df.groupby(\"decision_repeat\").apply(count_diffrent)\n",
    "rq2 = rq2.rename(\"count_diffrent\")"
   ]
  },
  {
   "cell_type": "code",
   "execution_count": 67,
   "metadata": {},
   "outputs": [
    {
     "data": {
      "text/plain": [
       "<Axes: xlabel='decision_repeat', ylabel='count_diffrent'>"
      ]
     },
     "execution_count": 67,
     "metadata": {},
     "output_type": "execute_result"
    },
    {
     "data": {
      "image/png": "[encoded data removed]",
      "text/plain": [
       "<Figure size 640x480 with 2 Axes>"
      ]
     },
     "metadata": {},
     "output_type": "display_data"
    }
   ],
   "source": [
    "import seaborn as sns\n",
    "import matplotlib.pyplot as plt\n",
    "\n",
    "fig, (ax1, ax2) = plt.subplots(2, sharex=True)\n",
    "\n",
    "sns.scatterplot(rq1, ax=ax1)\n",
    "ax1.set_ylim(0)\n",
    "\n",
    "sns.scatterplot(rq2, ax=ax2)\n",
    "# ax2.set_ylim((0, 1))"
   ]
  },
  {
   "cell_type": "code",
   "execution_count": null,
   "metadata": {},
   "outputs": [],
   "source": []
  }
 ],
 "metadata": {
  "kernelspec": {
   "display_name": "metadrive",
   "language": "python",
   "name": "python3"
  },
  "language_info": {
   "codemirror_mode": {
    "name": "ipython",
    "version": 3
   },
   "file_extension": ".py",
   "mimetype": "text/x-python",
   "name": "python",
   "nbconvert_exporter": "python",
   "pygments_lexer": "ipython3",
   "version": "3.10.14"
  }
 },
 "nbformat": 4,
 "nbformat_minor": 2
}
