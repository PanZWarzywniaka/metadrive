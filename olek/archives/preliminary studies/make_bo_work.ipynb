{
 "cells": [
  {
   "cell_type": "code",
   "execution_count": 1,
   "metadata": {},
   "outputs": [],
   "source": [
    "import pandas as pd\n",
    "from pathlib import Path\n",
    "import json\n",
    "from pprint import pprint\n",
    "import math\n",
    "from tqdm import tqdm\n",
    "import seaborn as sns\n",
    "import matplotlib.pyplot as plt\n",
    "from matplotlib import cm\n",
    "import numpy as np\n",
    "from functools import cache\n",
    "\n",
    "\n",
    "DATA_DIR = Path(\"data/benchmarking/nogif_1000\")\n",
    "DATA_DIR = Path(\"data/benchmarking/nocars\")\n",
    "SEED = 123\n",
    "np.random.seed(SEED)"
   ]
  },
  {
   "cell_type": "code",
   "execution_count": 2,
   "metadata": {},
   "outputs": [],
   "source": [
    "def get_in_road_percentage(steps_df: pd.DataFrame) -> float:\n",
    "    ret = steps_df[\"out_of_road\"].value_counts(normalize=True).at[False]\n",
    "    return ret"
   ]
  },
  {
   "cell_type": "code",
   "execution_count": 3,
   "metadata": {},
   "outputs": [],
   "source": [
    "def get_n_sidewalk_crashes(steps_df: pd.DataFrame) -> int:\n",
    "    \"\"\"Count number of crash episodes to not count same crash multiple times\"\"\"\n",
    "    try:\n",
    "        # count number of times \"crash\" becomes True for some time\n",
    "        n_crashes = steps_df[\"crash_sidewalk\"].diff().value_counts().at[True]\n",
    "\n",
    "        # need to divide by 2 beacouse diff counts twice\n",
    "        n_crashes /= 2\n",
    "\n",
    "        # just in case crash is last episode and we have 3.5 crash episodes make it 4\n",
    "        n_crashes = math.ceil(n_crashes)\n",
    "    except KeyError:\n",
    "        n_crashes = 0\n",
    "\n",
    "    return n_crashes"
   ]
  },
  {
   "cell_type": "code",
   "execution_count": 4,
   "metadata": {},
   "outputs": [],
   "source": [
    "def process_steps(steps_infos: list) -> dict:\n",
    "    \"\"\"Accepts a list of steps and returns a dict of interesting data\"\"\"\n",
    "\n",
    "    steps_df = pd.DataFrame(steps_infos)\n",
    "    steps_data = {}\n",
    "    last_step = steps_df.iloc[-1]\n",
    "\n",
    "    steps_data = {\n",
    "        \"termination.arrive_dest\": last_step[\"arrive_dest\"],\n",
    "        \"termination.timeout\": last_step[\"max_step\"],\n",
    "        \"route_completion\": last_step[\"route_completion\"],\n",
    "        \"seed\": last_step[\"env_seed\"],\n",
    "        \"in_road_percentage\": get_in_road_percentage(steps_df),\n",
    "        \"n_sidewalk_crashes\": get_n_sidewalk_crashes(steps_df),\n",
    "    }\n",
    "\n",
    "    return steps_data"
   ]
  },
  {
   "cell_type": "code",
   "execution_count": 5,
   "metadata": {},
   "outputs": [],
   "source": [
    "@cache\n",
    "def get_scenarios_df(dir: Path):\n",
    "    paths = list(dir.glob(\"*/*.json\"))\n",
    "\n",
    "    scenarios = []\n",
    "    for file_path in tqdm(paths):\n",
    "\n",
    "        with open(file_path, \"r\") as f:\n",
    "            scenario_data = json.load(f)\n",
    "\n",
    "        dir = file_path.__str__().split(\"/\")[-2]\n",
    "        _, dr, _, dt = dir.split(\"_\")\n",
    "        scenario_data[\"decision_repeat\"] = int(dr)\n",
    "        scenario_data[\"dt\"] = float(dt)\n",
    "\n",
    "        steps_infos = scenario_data.pop(\"steps_infos\")\n",
    "        scenario_data.update(process_steps(steps_infos))\n",
    "        scenarios.append(scenario_data)\n",
    "    return pd.DataFrame(scenarios)"
   ]
  },
  {
   "cell_type": "code",
   "execution_count": 6,
   "metadata": {},
   "outputs": [
    {
     "name": "stderr",
     "output_type": "stream",
     "text": [
      "100%|██████████| 5202/5202 [00:23<00:00, 217.00it/s]\n"
     ]
    }
   ],
   "source": [
    "df = get_scenarios_df(DATA_DIR)"
   ]
  },
  {
   "cell_type": "code",
   "execution_count": 7,
   "metadata": {},
   "outputs": [],
   "source": [
    "df = df.set_index(\n",
    "    [\n",
    "        \"dt\",\n",
    "        \"decision_repeat\",\n",
    "        \"seed\",\n",
    "    ],\n",
    "    verify_integrity=True,\n",
    ")\n",
    "\n",
    "df = df.sort_index()"
   ]
  },
  {
   "cell_type": "code",
   "execution_count": 8,
   "metadata": {},
   "outputs": [],
   "source": [
    "idx = pd.IndexSlice"
   ]
  },
  {
   "cell_type": "code",
   "execution_count": 9,
   "metadata": {},
   "outputs": [],
   "source": [
    "# MAX_SCENARIOS = 100\n",
    "# df = df.loc[idx[:, :, :MAX_SCENARIOS]]"
   ]
  },
  {
   "cell_type": "code",
   "execution_count": 10,
   "metadata": {},
   "outputs": [],
   "source": [
    "# calculate driving score\n",
    "# ! Problem changing the values here in the analysis can change % error\n",
    "def calculate_driving_score(df):\n",
    "    df[\"driving_score\"] = (\n",
    "        df[\"route_completion\"]\n",
    "        * df[\"in_road_percentage\"]\n",
    "        * (0.65) ** df[\"n_sidewalk_crashes\"]\n",
    "        * (0.60) ** df[\"n_crashed_vehicles\"]\n",
    "    )\n",
    "    return df\n",
    "\n",
    "\n",
    "df = calculate_driving_score(df)"
   ]
  },
  {
   "cell_type": "code",
   "execution_count": 11,
   "metadata": {},
   "outputs": [
    {
     "data": {
      "text/plain": [
       "count    5202.000000\n",
       "mean        0.561996\n",
       "std         0.343338\n",
       "min         0.001882\n",
       "25%         0.233103\n",
       "50%         0.595016\n",
       "75%         0.990899\n",
       "max         1.000638\n",
       "Name: driving_score, dtype: float64"
      ]
     },
     "execution_count": 11,
     "metadata": {},
     "output_type": "execute_result"
    }
   ],
   "source": [
    "df[\"driving_score\"].describe()"
   ]
  },
  {
   "cell_type": "markdown",
   "metadata": {},
   "source": [
    "# Getting featuers\n"
   ]
  },
  {
   "cell_type": "code",
   "execution_count": 12,
   "metadata": {},
   "outputs": [],
   "source": [
    "def drop_boring_columns(df):\n",
    "    # if a column has one elements its boring lets drop it\n",
    "    for series_name, series in df.items():\n",
    "        if len(series.unique()) == 1:\n",
    "            df = df.drop(series_name, axis=1)\n",
    "            print(f\"Dropped: {series_name}\")\n",
    "\n",
    "    return df"
   ]
  },
  {
   "cell_type": "code",
   "execution_count": 13,
   "metadata": {},
   "outputs": [
    {
     "name": "stdout",
     "output_type": "stream",
     "text": [
      "Dropped: 0.id\n",
      "Dropped: 0.pre_block_socket_index\n",
      "Dropped: 1.pre_block_socket_index\n"
     ]
    },
    {
     "data": {
      "text/html": [
       "<div>\n",
       "<style scoped>\n",
       "    .dataframe tbody tr th:only-of-type {\n",
       "        vertical-align: middle;\n",
       "    }\n",
       "\n",
       "    .dataframe tbody tr th {\n",
       "        vertical-align: top;\n",
       "    }\n",
       "\n",
       "    .dataframe thead th {\n",
       "        text-align: right;\n",
       "    }\n",
       "</style>\n",
       "<table border=\"1\" class=\"dataframe\">\n",
       "  <thead>\n",
       "    <tr style=\"text-align: right;\">\n",
       "      <th></th>\n",
       "      <th>1.angle</th>\n",
       "      <th>1.radius</th>\n",
       "      <th>1.length</th>\n",
       "      <th>1.dir</th>\n",
       "      <th>1.id</th>\n",
       "      <th>1.change_lane_num</th>\n",
       "      <th>1.t_type</th>\n",
       "      <th>1.decrease_increase</th>\n",
       "      <th>1.inner_radius</th>\n",
       "      <th>1.exit_radius</th>\n",
       "      <th>...</th>\n",
       "      <th>5.radius</th>\n",
       "      <th>5.length</th>\n",
       "      <th>5.dir</th>\n",
       "      <th>5.id</th>\n",
       "      <th>5.pre_block_socket_index</th>\n",
       "      <th>5.change_lane_num</th>\n",
       "      <th>5.t_type</th>\n",
       "      <th>5.decrease_increase</th>\n",
       "      <th>5.inner_radius</th>\n",
       "      <th>5.exit_radius</th>\n",
       "    </tr>\n",
       "  </thead>\n",
       "  <tbody>\n",
       "    <tr>\n",
       "      <th>0</th>\n",
       "      <td>125.061348</td>\n",
       "      <td>56.134972</td>\n",
       "      <td>75.582825</td>\n",
       "      <td>1.0</td>\n",
       "      <td>C</td>\n",
       "      <td>NaN</td>\n",
       "      <td>NaN</td>\n",
       "      <td>NaN</td>\n",
       "      <td>NaN</td>\n",
       "      <td>NaN</td>\n",
       "      <td>...</td>\n",
       "      <td>40.848209</td>\n",
       "      <td>58.112240</td>\n",
       "      <td>0.0</td>\n",
       "      <td>C</td>\n",
       "      <td>4X-socket0</td>\n",
       "      <td>NaN</td>\n",
       "      <td>NaN</td>\n",
       "      <td>NaN</td>\n",
       "      <td>NaN</td>\n",
       "      <td>NaN</td>\n",
       "    </tr>\n",
       "    <tr>\n",
       "      <th>1</th>\n",
       "      <td>NaN</td>\n",
       "      <td>10.000000</td>\n",
       "      <td>NaN</td>\n",
       "      <td>NaN</td>\n",
       "      <td>T</td>\n",
       "      <td>0.0</td>\n",
       "      <td>1.0</td>\n",
       "      <td>0.0</td>\n",
       "      <td>NaN</td>\n",
       "      <td>NaN</td>\n",
       "      <td>...</td>\n",
       "      <td>NaN</td>\n",
       "      <td>65.340332</td>\n",
       "      <td>NaN</td>\n",
       "      <td>S</td>\n",
       "      <td>4T-socket1</td>\n",
       "      <td>NaN</td>\n",
       "      <td>NaN</td>\n",
       "      <td>NaN</td>\n",
       "      <td>NaN</td>\n",
       "      <td>NaN</td>\n",
       "    </tr>\n",
       "    <tr>\n",
       "      <th>2</th>\n",
       "      <td>NaN</td>\n",
       "      <td>10.000000</td>\n",
       "      <td>NaN</td>\n",
       "      <td>NaN</td>\n",
       "      <td>T</td>\n",
       "      <td>0.0</td>\n",
       "      <td>0.0</td>\n",
       "      <td>0.0</td>\n",
       "      <td>NaN</td>\n",
       "      <td>NaN</td>\n",
       "      <td>...</td>\n",
       "      <td>NaN</td>\n",
       "      <td>26.290545</td>\n",
       "      <td>NaN</td>\n",
       "      <td>r</td>\n",
       "      <td>4C-socket0</td>\n",
       "      <td>NaN</td>\n",
       "      <td>NaN</td>\n",
       "      <td>NaN</td>\n",
       "      <td>NaN</td>\n",
       "      <td>NaN</td>\n",
       "    </tr>\n",
       "    <tr>\n",
       "      <th>3</th>\n",
       "      <td>NaN</td>\n",
       "      <td>10.000000</td>\n",
       "      <td>NaN</td>\n",
       "      <td>NaN</td>\n",
       "      <td>X</td>\n",
       "      <td>0.0</td>\n",
       "      <td>NaN</td>\n",
       "      <td>1.0</td>\n",
       "      <td>NaN</td>\n",
       "      <td>NaN</td>\n",
       "      <td>...</td>\n",
       "      <td>10.000000</td>\n",
       "      <td>NaN</td>\n",
       "      <td>NaN</td>\n",
       "      <td>T</td>\n",
       "      <td>4C-socket0</td>\n",
       "      <td>0.0</td>\n",
       "      <td>1.0</td>\n",
       "      <td>1.0</td>\n",
       "      <td>NaN</td>\n",
       "      <td>NaN</td>\n",
       "    </tr>\n",
       "    <tr>\n",
       "      <th>4</th>\n",
       "      <td>NaN</td>\n",
       "      <td>10.000000</td>\n",
       "      <td>NaN</td>\n",
       "      <td>NaN</td>\n",
       "      <td>T</td>\n",
       "      <td>0.0</td>\n",
       "      <td>2.0</td>\n",
       "      <td>1.0</td>\n",
       "      <td>NaN</td>\n",
       "      <td>NaN</td>\n",
       "      <td>...</td>\n",
       "      <td>NaN</td>\n",
       "      <td>28.557396</td>\n",
       "      <td>NaN</td>\n",
       "      <td>R</td>\n",
       "      <td>4T-socket2</td>\n",
       "      <td>NaN</td>\n",
       "      <td>NaN</td>\n",
       "      <td>NaN</td>\n",
       "      <td>NaN</td>\n",
       "      <td>NaN</td>\n",
       "    </tr>\n",
       "    <tr>\n",
       "      <th>...</th>\n",
       "      <td>...</td>\n",
       "      <td>...</td>\n",
       "      <td>...</td>\n",
       "      <td>...</td>\n",
       "      <td>...</td>\n",
       "      <td>...</td>\n",
       "      <td>...</td>\n",
       "      <td>...</td>\n",
       "      <td>...</td>\n",
       "      <td>...</td>\n",
       "      <td>...</td>\n",
       "      <td>...</td>\n",
       "      <td>...</td>\n",
       "      <td>...</td>\n",
       "      <td>...</td>\n",
       "      <td>...</td>\n",
       "      <td>...</td>\n",
       "      <td>...</td>\n",
       "      <td>...</td>\n",
       "      <td>...</td>\n",
       "      <td>...</td>\n",
       "    </tr>\n",
       "    <tr>\n",
       "      <th>5197</th>\n",
       "      <td>NaN</td>\n",
       "      <td>10.000000</td>\n",
       "      <td>NaN</td>\n",
       "      <td>NaN</td>\n",
       "      <td>T</td>\n",
       "      <td>0.0</td>\n",
       "      <td>0.0</td>\n",
       "      <td>0.0</td>\n",
       "      <td>NaN</td>\n",
       "      <td>NaN</td>\n",
       "      <td>...</td>\n",
       "      <td>29.888020</td>\n",
       "      <td>45.586308</td>\n",
       "      <td>0.0</td>\n",
       "      <td>C</td>\n",
       "      <td>4X-socket0</td>\n",
       "      <td>NaN</td>\n",
       "      <td>NaN</td>\n",
       "      <td>NaN</td>\n",
       "      <td>NaN</td>\n",
       "      <td>NaN</td>\n",
       "    </tr>\n",
       "    <tr>\n",
       "      <th>5198</th>\n",
       "      <td>60.000000</td>\n",
       "      <td>NaN</td>\n",
       "      <td>NaN</td>\n",
       "      <td>NaN</td>\n",
       "      <td>O</td>\n",
       "      <td>NaN</td>\n",
       "      <td>NaN</td>\n",
       "      <td>NaN</td>\n",
       "      <td>36.541653</td>\n",
       "      <td>12.180551</td>\n",
       "      <td>...</td>\n",
       "      <td>NaN</td>\n",
       "      <td>NaN</td>\n",
       "      <td>NaN</td>\n",
       "      <td>O</td>\n",
       "      <td>4R-socket0</td>\n",
       "      <td>NaN</td>\n",
       "      <td>NaN</td>\n",
       "      <td>NaN</td>\n",
       "      <td>20.94009</td>\n",
       "      <td>6.98003</td>\n",
       "    </tr>\n",
       "    <tr>\n",
       "      <th>5199</th>\n",
       "      <td>69.473236</td>\n",
       "      <td>34.517368</td>\n",
       "      <td>50.876991</td>\n",
       "      <td>0.0</td>\n",
       "      <td>C</td>\n",
       "      <td>NaN</td>\n",
       "      <td>NaN</td>\n",
       "      <td>NaN</td>\n",
       "      <td>NaN</td>\n",
       "      <td>NaN</td>\n",
       "      <td>...</td>\n",
       "      <td>NaN</td>\n",
       "      <td>28.330769</td>\n",
       "      <td>NaN</td>\n",
       "      <td>R</td>\n",
       "      <td>4T-socket2</td>\n",
       "      <td>NaN</td>\n",
       "      <td>NaN</td>\n",
       "      <td>NaN</td>\n",
       "      <td>NaN</td>\n",
       "      <td>NaN</td>\n",
       "    </tr>\n",
       "    <tr>\n",
       "      <th>5200</th>\n",
       "      <td>103.999573</td>\n",
       "      <td>47.944279</td>\n",
       "      <td>66.222031</td>\n",
       "      <td>1.0</td>\n",
       "      <td>C</td>\n",
       "      <td>NaN</td>\n",
       "      <td>NaN</td>\n",
       "      <td>NaN</td>\n",
       "      <td>NaN</td>\n",
       "      <td>NaN</td>\n",
       "      <td>...</td>\n",
       "      <td>10.000000</td>\n",
       "      <td>NaN</td>\n",
       "      <td>NaN</td>\n",
       "      <td>T</td>\n",
       "      <td>4C-socket0</td>\n",
       "      <td>0.0</td>\n",
       "      <td>2.0</td>\n",
       "      <td>1.0</td>\n",
       "      <td>NaN</td>\n",
       "      <td>NaN</td>\n",
       "    </tr>\n",
       "    <tr>\n",
       "      <th>5201</th>\n",
       "      <td>128.101425</td>\n",
       "      <td>57.317223</td>\n",
       "      <td>76.933968</td>\n",
       "      <td>1.0</td>\n",
       "      <td>C</td>\n",
       "      <td>NaN</td>\n",
       "      <td>NaN</td>\n",
       "      <td>NaN</td>\n",
       "      <td>NaN</td>\n",
       "      <td>NaN</td>\n",
       "      <td>...</td>\n",
       "      <td>51.815208</td>\n",
       "      <td>70.645950</td>\n",
       "      <td>1.0</td>\n",
       "      <td>C</td>\n",
       "      <td>4O-socket1</td>\n",
       "      <td>NaN</td>\n",
       "      <td>NaN</td>\n",
       "      <td>NaN</td>\n",
       "      <td>NaN</td>\n",
       "      <td>NaN</td>\n",
       "    </tr>\n",
       "  </tbody>\n",
       "</table>\n",
       "<p>5202 rows × 54 columns</p>\n",
       "</div>"
      ],
      "text/plain": [
       "         1.angle   1.radius   1.length  1.dir 1.id  1.change_lane_num  \\\n",
       "0     125.061348  56.134972  75.582825    1.0    C                NaN   \n",
       "1            NaN  10.000000        NaN    NaN    T                0.0   \n",
       "2            NaN  10.000000        NaN    NaN    T                0.0   \n",
       "3            NaN  10.000000        NaN    NaN    X                0.0   \n",
       "4            NaN  10.000000        NaN    NaN    T                0.0   \n",
       "...          ...        ...        ...    ...  ...                ...   \n",
       "5197         NaN  10.000000        NaN    NaN    T                0.0   \n",
       "5198   60.000000        NaN        NaN    NaN    O                NaN   \n",
       "5199   69.473236  34.517368  50.876991    0.0    C                NaN   \n",
       "5200  103.999573  47.944279  66.222031    1.0    C                NaN   \n",
       "5201  128.101425  57.317223  76.933968    1.0    C                NaN   \n",
       "\n",
       "      1.t_type  1.decrease_increase  1.inner_radius  1.exit_radius  ...  \\\n",
       "0          NaN                  NaN             NaN            NaN  ...   \n",
       "1          1.0                  0.0             NaN            NaN  ...   \n",
       "2          0.0                  0.0             NaN            NaN  ...   \n",
       "3          NaN                  1.0             NaN            NaN  ...   \n",
       "4          2.0                  1.0             NaN            NaN  ...   \n",
       "...        ...                  ...             ...            ...  ...   \n",
       "5197       0.0                  0.0             NaN            NaN  ...   \n",
       "5198       NaN                  NaN       36.541653      12.180551  ...   \n",
       "5199       NaN                  NaN             NaN            NaN  ...   \n",
       "5200       NaN                  NaN             NaN            NaN  ...   \n",
       "5201       NaN                  NaN             NaN            NaN  ...   \n",
       "\n",
       "       5.radius   5.length  5.dir  5.id 5.pre_block_socket_index  \\\n",
       "0     40.848209  58.112240    0.0     C               4X-socket0   \n",
       "1           NaN  65.340332    NaN     S               4T-socket1   \n",
       "2           NaN  26.290545    NaN     r               4C-socket0   \n",
       "3     10.000000        NaN    NaN     T               4C-socket0   \n",
       "4           NaN  28.557396    NaN     R               4T-socket2   \n",
       "...         ...        ...    ...   ...                      ...   \n",
       "5197  29.888020  45.586308    0.0     C               4X-socket0   \n",
       "5198        NaN        NaN    NaN     O               4R-socket0   \n",
       "5199        NaN  28.330769    NaN     R               4T-socket2   \n",
       "5200  10.000000        NaN    NaN     T               4C-socket0   \n",
       "5201  51.815208  70.645950    1.0     C               4O-socket1   \n",
       "\n",
       "     5.change_lane_num  5.t_type  5.decrease_increase  5.inner_radius  \\\n",
       "0                  NaN       NaN                  NaN             NaN   \n",
       "1                  NaN       NaN                  NaN             NaN   \n",
       "2                  NaN       NaN                  NaN             NaN   \n",
       "3                  0.0       1.0                  1.0             NaN   \n",
       "4                  NaN       NaN                  NaN             NaN   \n",
       "...                ...       ...                  ...             ...   \n",
       "5197               NaN       NaN                  NaN             NaN   \n",
       "5198               NaN       NaN                  NaN        20.94009   \n",
       "5199               NaN       NaN                  NaN             NaN   \n",
       "5200               0.0       2.0                  1.0             NaN   \n",
       "5201               NaN       NaN                  NaN             NaN   \n",
       "\n",
       "      5.exit_radius  \n",
       "0               NaN  \n",
       "1               NaN  \n",
       "2               NaN  \n",
       "3               NaN  \n",
       "4               NaN  \n",
       "...             ...  \n",
       "5197            NaN  \n",
       "5198        6.98003  \n",
       "5199            NaN  \n",
       "5200            NaN  \n",
       "5201            NaN  \n",
       "\n",
       "[5202 rows x 54 columns]"
      ]
     },
     "execution_count": 13,
     "metadata": {},
     "output_type": "execute_result"
    }
   ],
   "source": [
    "scenario_columns = [\"def.map_seq\", \"def.bv_data\"]\n",
    "scenario_df = df[scenario_columns]\n",
    "\n",
    "map_df = pd.json_normalize(scenario_df[\"def.map_seq\"])\n",
    "normalized_map_df = pd.concat(\n",
    "    [pd.json_normalize(map_df[col]).add_prefix(f\"{col}.\") for col in map_df], axis=1\n",
    ")\n",
    "\n",
    "normalized_map_df = drop_boring_columns(normalized_map_df)\n",
    "normalized_map_df"
   ]
  },
  {
   "cell_type": "code",
   "execution_count": 14,
   "metadata": {},
   "outputs": [],
   "source": [
    "n_occurences = normalized_map_df.count()\n",
    "best_featuers = n_occurences.sort_values(ascending=False)\n",
    "\n",
    "N_FEATURES = 20\n",
    "best_featuers = best_featuers.iloc[:N_FEATURES].index.to_list()\n",
    "best_featuers\n",
    "\n",
    "best_featuers\n",
    "#pick best featuers\n",
    "S = normalized_map_df[best_featuers] \n",
    "\n",
    "# leave as it is\n",
    "S = normalized_map_df"
   ]
  },
  {
   "cell_type": "code",
   "execution_count": 15,
   "metadata": {},
   "outputs": [],
   "source": [
    "fid = df.reset_index()[[\"dt\", \"decision_repeat\"]]\n",
    "# fid"
   ]
  },
  {
   "cell_type": "markdown",
   "metadata": {},
   "source": [
    "## Input factorisation\n"
   ]
  },
  {
   "cell_type": "code",
   "execution_count": 16,
   "metadata": {},
   "outputs": [],
   "source": [
    "X = pd.concat([fid, S], axis=1)\n",
    "X\n",
    "\n",
    "\n",
    "X = X.apply(lambda c: pd.factorize(c)[0] if c.dtype == object else c, axis=0)"
   ]
  },
  {
   "cell_type": "code",
   "execution_count": 17,
   "metadata": {},
   "outputs": [
    {
     "data": {
      "text/plain": [
       "0       0.993165\n",
       "1       0.125072\n",
       "2       0.993434\n",
       "3       0.989208\n",
       "4       0.594541\n",
       "          ...   \n",
       "5197    0.213857\n",
       "5198    0.595677\n",
       "5199    0.073317\n",
       "5200    0.063543\n",
       "5201    0.214906\n",
       "Name: driving_score, Length: 5202, dtype: float64"
      ]
     },
     "execution_count": 17,
     "metadata": {},
     "output_type": "execute_result"
    }
   ],
   "source": [
    "y = df.reset_index()[\"driving_score\"]\n",
    "y"
   ]
  },
  {
   "cell_type": "markdown",
   "metadata": {},
   "source": [
    "# Fitting GPR\n"
   ]
  },
  {
   "cell_type": "markdown",
   "metadata": {},
   "source": [
    "### Handling NaNs\n"
   ]
  },
  {
   "cell_type": "code",
   "execution_count": 18,
   "metadata": {},
   "outputs": [
    {
     "data": {
      "text/plain": [
       "((5202, 56), (5202,))"
      ]
     },
     "execution_count": 18,
     "metadata": {},
     "output_type": "execute_result"
    }
   ],
   "source": [
    "X[pd.isna(X)] = -1\n",
    "X.shape, y.shape"
   ]
  },
  {
   "cell_type": "code",
   "execution_count": 19,
   "metadata": {},
   "outputs": [
    {
     "data": {
      "text/plain": [
       "433.5"
      ]
     },
     "execution_count": 19,
     "metadata": {},
     "output_type": "execute_result"
    }
   ],
   "source": [
    "X.shape[0] / 12"
   ]
  },
  {
   "cell_type": "code",
   "execution_count": 20,
   "metadata": {},
   "outputs": [],
   "source": [
    "X = X.to_numpy()\n",
    "y = y.to_numpy()"
   ]
  },
  {
   "cell_type": "code",
   "execution_count": 21,
   "metadata": {},
   "outputs": [],
   "source": [
    "from sklearn.gaussian_process import GaussianProcessRegressor\n",
    "from sklearn.gaussian_process.kernels import RBF\n",
    "from sklearn.neighbors import KNeighborsRegressor\n",
    "from sklearn.model_selection import train_test_split\n",
    "from sklearn.model_selection import LeaveOneOut, ShuffleSplit\n",
    "from sklearn.metrics import r2_score, root_mean_squared_error, mean_absolute_error"
   ]
  },
  {
   "cell_type": "markdown",
   "metadata": {},
   "source": [
    "# Offline testing"
   ]
  },
  {
   "cell_type": "markdown",
   "metadata": {},
   "source": [
    "## Shuffle Splits\n"
   ]
  },
  {
   "cell_type": "code",
   "execution_count": 22,
   "metadata": {},
   "outputs": [
    {
     "data": {
      "text/plain": [
       "10"
      ]
     },
     "execution_count": 22,
     "metadata": {},
     "output_type": "execute_result"
    }
   ],
   "source": [
    "# splitter = LeaveOneOut()\n",
    "# splitter.get_n_splits(X)\n",
    "\n",
    "# splitter = ShuffleSplit(test_size=100, n_splits=5, random_state=SEED)\n",
    "splitter = ShuffleSplit(random_state=SEED)\n",
    "splitter.get_n_splits(X)"
   ]
  },
  {
   "cell_type": "code",
   "execution_count": 23,
   "metadata": {},
   "outputs": [
    {
     "name": "stdout",
     "output_type": "stream",
     "text": [
      ".\n",
      ".\n",
      ".\n",
      ".\n",
      ".\n",
      ".\n",
      ".\n",
      ".\n",
      ".\n",
      ".\n"
     ]
    }
   ],
   "source": [
    "data = []\n",
    "\n",
    "for i, (train_index, test_index) in enumerate(splitter.split(X)):\n",
    "    kernel = RBF(length_scale_bounds=(1e-5, 1e5))\n",
    "    # kernel = SequenceKernel()\n",
    "    model = KNeighborsRegressor()\n",
    "    # model = GaussianProcessRegressor(\n",
    "    #     kernel=kernel, n_restarts_optimizer=9, random_state=SEED\n",
    "    # )\n",
    "\n",
    "    model.fit(X[train_index], y[train_index])\n",
    "\n",
    "    y_pred = model.predict(X[test_index])\n",
    "    # y_pred, y_std = model.predict(X[test_index], return_std=True)\n",
    "    y_true = y[test_index]\n",
    "    # print(\n",
    "    #     f\"For index: \\n{test_index} we predicted \\n{y_pred} +- \\n{y_std} but True value is: \\n{y_true}\"\n",
    "    # )\n",
    "    print(\".\")\n",
    "    data.append([test_index, y_true, y_pred])"
   ]
  },
  {
   "cell_type": "code",
   "execution_count": 24,
   "metadata": {},
   "outputs": [
    {
     "name": "stdout",
     "output_type": "stream",
     "text": [
      "r2_scores = [0.29777642 0.24710212 0.3160739  0.20855195 0.29614549 0.26564753\n",
      " 0.34796699 0.34372989 0.27654605 0.29064565]\n",
      "r2_scores.mean() = 0.29\n",
      "\n",
      "\n",
      "rmses = [0.27840309 0.29947348 0.28508318 0.29504751 0.2833709  0.2879548\n",
      " 0.27023735 0.28035435 0.28964066 0.28710182]\n",
      "rmses.mean() = 0.29\n"
     ]
    }
   ],
   "source": [
    "r2_scores = []\n",
    "rmses = []\n",
    "root_mean_squared_errors = []\n",
    "for d in data:\n",
    "    array = np.squeeze(d).T\n",
    "    # print(array)\n",
    "    results = pd.DataFrame(array, columns=[\"index\", \"y_true\", \"y_pred\"])\n",
    "    results[\"y_pred\"] = results[\"y_pred\"].clip(0, 1)\n",
    "    r2_scores.append(r2_score(results[\"y_true\"], results[\"y_pred\"]))\n",
    "    rmses.append(root_mean_squared_error(results[\"y_true\"], results[\"y_pred\"]))\n",
    "\n",
    "\n",
    "\n",
    "r2_scores = np.array(r2_scores)\n",
    "rmses = np.array(rmses)\n",
    "\n",
    "print(f\"r2_scores = {r2_scores}\")\n",
    "print(f\"{r2_scores.mean() = :.2f}\")\n",
    "print(\"\\n\")\n",
    "print(f\"rmses = {rmses}\")\n",
    "print(f\"{rmses.mean() = :.2f}\")"
   ]
  },
  {
   "cell_type": "code",
   "execution_count": 25,
   "metadata": {},
   "outputs": [
    {
     "ename": "ValueError",
     "evalue": "Shape of passed values is (521, 3), indices imply (521, 4)",
     "output_type": "error",
     "traceback": [
      "\u001b[0;31m---------------------------------------------------------------------------\u001b[0m",
      "\u001b[0;31mValueError\u001b[0m                                Traceback (most recent call last)",
      "Cell \u001b[0;32mIn[25], line 1\u001b[0m\n\u001b[0;32m----> 1\u001b[0m results \u001b[38;5;241m=\u001b[39m \u001b[43mpd\u001b[49m\u001b[38;5;241;43m.\u001b[39;49m\u001b[43mDataFrame\u001b[49m\u001b[43m(\u001b[49m\n\u001b[1;32m      2\u001b[0m \u001b[43m    \u001b[49m\u001b[43mnp\u001b[49m\u001b[38;5;241;43m.\u001b[39;49m\u001b[43msqueeze\u001b[49m\u001b[43m(\u001b[49m\u001b[43mdata\u001b[49m\u001b[43m[\u001b[49m\u001b[38;5;241;43m0\u001b[39;49m\u001b[43m]\u001b[49m\u001b[43m)\u001b[49m\u001b[38;5;241;43m.\u001b[39;49m\u001b[43mT\u001b[49m\u001b[43m,\u001b[49m\u001b[43m \u001b[49m\u001b[43mcolumns\u001b[49m\u001b[38;5;241;43m=\u001b[39;49m\u001b[43m[\u001b[49m\u001b[38;5;124;43m\"\u001b[39;49m\u001b[38;5;124;43mindex\u001b[39;49m\u001b[38;5;124;43m\"\u001b[39;49m\u001b[43m,\u001b[49m\u001b[43m \u001b[49m\u001b[38;5;124;43m\"\u001b[39;49m\u001b[38;5;124;43my_true\u001b[39;49m\u001b[38;5;124;43m\"\u001b[39;49m\u001b[43m,\u001b[49m\u001b[43m \u001b[49m\u001b[38;5;124;43m\"\u001b[39;49m\u001b[38;5;124;43my_pred\u001b[39;49m\u001b[38;5;124;43m\"\u001b[39;49m\u001b[43m,\u001b[49m\u001b[43m \u001b[49m\u001b[38;5;124;43m\"\u001b[39;49m\u001b[38;5;124;43mstd\u001b[39;49m\u001b[38;5;124;43m\"\u001b[39;49m\u001b[43m]\u001b[49m\n\u001b[1;32m      3\u001b[0m \u001b[43m)\u001b[49m\n\u001b[1;32m      4\u001b[0m results[\u001b[38;5;124m\"\u001b[39m\u001b[38;5;124my_pred\u001b[39m\u001b[38;5;124m\"\u001b[39m] \u001b[38;5;241m=\u001b[39m results[\u001b[38;5;124m\"\u001b[39m\u001b[38;5;124my_pred\u001b[39m\u001b[38;5;124m\"\u001b[39m]\u001b[38;5;241m.\u001b[39mclip(\u001b[38;5;241m0\u001b[39m, \u001b[38;5;241m1\u001b[39m)\n\u001b[1;32m      5\u001b[0m \u001b[38;5;66;03m# results\u001b[39;00m\n",
      "File \u001b[0;32m~/.miniconda3/envs/data-science/lib/python3.12/site-packages/pandas/core/frame.py:782\u001b[0m, in \u001b[0;36mDataFrame.__init__\u001b[0;34m(self, data, index, columns, dtype, copy)\u001b[0m\n\u001b[1;32m    771\u001b[0m         mgr \u001b[38;5;241m=\u001b[39m dict_to_mgr(\n\u001b[1;32m    772\u001b[0m             \u001b[38;5;66;03m# error: Item \"ndarray\" of \"Union[ndarray, Series, Index]\" has no\u001b[39;00m\n\u001b[1;32m    773\u001b[0m             \u001b[38;5;66;03m# attribute \"name\"\u001b[39;00m\n\u001b[0;32m   (...)\u001b[0m\n\u001b[1;32m    779\u001b[0m             copy\u001b[38;5;241m=\u001b[39m_copy,\n\u001b[1;32m    780\u001b[0m         )\n\u001b[1;32m    781\u001b[0m     \u001b[38;5;28;01melse\u001b[39;00m:\n\u001b[0;32m--> 782\u001b[0m         mgr \u001b[38;5;241m=\u001b[39m \u001b[43mndarray_to_mgr\u001b[49m\u001b[43m(\u001b[49m\n\u001b[1;32m    783\u001b[0m \u001b[43m            \u001b[49m\u001b[43mdata\u001b[49m\u001b[43m,\u001b[49m\n\u001b[1;32m    784\u001b[0m \u001b[43m            \u001b[49m\u001b[43mindex\u001b[49m\u001b[43m,\u001b[49m\n\u001b[1;32m    785\u001b[0m \u001b[43m            \u001b[49m\u001b[43mcolumns\u001b[49m\u001b[43m,\u001b[49m\n\u001b[1;32m    786\u001b[0m \u001b[43m            \u001b[49m\u001b[43mdtype\u001b[49m\u001b[38;5;241;43m=\u001b[39;49m\u001b[43mdtype\u001b[49m\u001b[43m,\u001b[49m\n\u001b[1;32m    787\u001b[0m \u001b[43m            \u001b[49m\u001b[43mcopy\u001b[49m\u001b[38;5;241;43m=\u001b[39;49m\u001b[43mcopy\u001b[49m\u001b[43m,\u001b[49m\n\u001b[1;32m    788\u001b[0m \u001b[43m            \u001b[49m\u001b[43mtyp\u001b[49m\u001b[38;5;241;43m=\u001b[39;49m\u001b[43mmanager\u001b[49m\u001b[43m,\u001b[49m\n\u001b[1;32m    789\u001b[0m \u001b[43m        \u001b[49m\u001b[43m)\u001b[49m\n\u001b[1;32m    791\u001b[0m \u001b[38;5;66;03m# For data is list-like, or Iterable (will consume into list)\u001b[39;00m\n\u001b[1;32m    792\u001b[0m \u001b[38;5;28;01melif\u001b[39;00m is_list_like(data):\n",
      "File \u001b[0;32m~/.miniconda3/envs/data-science/lib/python3.12/site-packages/pandas/core/internals/construction.py:336\u001b[0m, in \u001b[0;36mndarray_to_mgr\u001b[0;34m(values, index, columns, dtype, copy, typ)\u001b[0m\n\u001b[1;32m    331\u001b[0m \u001b[38;5;66;03m# _prep_ndarraylike ensures that values.ndim == 2 at this point\u001b[39;00m\n\u001b[1;32m    332\u001b[0m index, columns \u001b[38;5;241m=\u001b[39m _get_axes(\n\u001b[1;32m    333\u001b[0m     values\u001b[38;5;241m.\u001b[39mshape[\u001b[38;5;241m0\u001b[39m], values\u001b[38;5;241m.\u001b[39mshape[\u001b[38;5;241m1\u001b[39m], index\u001b[38;5;241m=\u001b[39mindex, columns\u001b[38;5;241m=\u001b[39mcolumns\n\u001b[1;32m    334\u001b[0m )\n\u001b[0;32m--> 336\u001b[0m \u001b[43m_check_values_indices_shape_match\u001b[49m\u001b[43m(\u001b[49m\u001b[43mvalues\u001b[49m\u001b[43m,\u001b[49m\u001b[43m \u001b[49m\u001b[43mindex\u001b[49m\u001b[43m,\u001b[49m\u001b[43m \u001b[49m\u001b[43mcolumns\u001b[49m\u001b[43m)\u001b[49m\n\u001b[1;32m    338\u001b[0m \u001b[38;5;28;01mif\u001b[39;00m typ \u001b[38;5;241m==\u001b[39m \u001b[38;5;124m\"\u001b[39m\u001b[38;5;124marray\u001b[39m\u001b[38;5;124m\"\u001b[39m:\n\u001b[1;32m    339\u001b[0m     \u001b[38;5;28;01mif\u001b[39;00m \u001b[38;5;28missubclass\u001b[39m(values\u001b[38;5;241m.\u001b[39mdtype\u001b[38;5;241m.\u001b[39mtype, \u001b[38;5;28mstr\u001b[39m):\n",
      "File \u001b[0;32m~/.miniconda3/envs/data-science/lib/python3.12/site-packages/pandas/core/internals/construction.py:420\u001b[0m, in \u001b[0;36m_check_values_indices_shape_match\u001b[0;34m(values, index, columns)\u001b[0m\n\u001b[1;32m    418\u001b[0m passed \u001b[38;5;241m=\u001b[39m values\u001b[38;5;241m.\u001b[39mshape\n\u001b[1;32m    419\u001b[0m implied \u001b[38;5;241m=\u001b[39m (\u001b[38;5;28mlen\u001b[39m(index), \u001b[38;5;28mlen\u001b[39m(columns))\n\u001b[0;32m--> 420\u001b[0m \u001b[38;5;28;01mraise\u001b[39;00m \u001b[38;5;167;01mValueError\u001b[39;00m(\u001b[38;5;124mf\u001b[39m\u001b[38;5;124m\"\u001b[39m\u001b[38;5;124mShape of passed values is \u001b[39m\u001b[38;5;132;01m{\u001b[39;00mpassed\u001b[38;5;132;01m}\u001b[39;00m\u001b[38;5;124m, indices imply \u001b[39m\u001b[38;5;132;01m{\u001b[39;00mimplied\u001b[38;5;132;01m}\u001b[39;00m\u001b[38;5;124m\"\u001b[39m)\n",
      "\u001b[0;31mValueError\u001b[0m: Shape of passed values is (521, 3), indices imply (521, 4)"
     ]
    }
   ],
   "source": [
    "results = pd.DataFrame(\n",
    "    np.squeeze(data[0]).T, columns=[\"index\", \"y_true\", \"y_pred\", \"std\"]\n",
    ")\n",
    "results[\"y_pred\"] = results[\"y_pred\"].clip(0, 1)\n",
    "# results"
   ]
  },
  {
   "cell_type": "code",
   "execution_count": 26,
   "metadata": {},
   "outputs": [
    {
     "data": {
      "text/plain": [
       "0.32112108424819574"
      ]
     },
     "execution_count": 26,
     "metadata": {},
     "output_type": "execute_result"
    }
   ],
   "source": [
    "r2_score(results[\"y_true\"], results[\"y_pred\"])"
   ]
  },
  {
   "cell_type": "code",
   "execution_count": 27,
   "metadata": {},
   "outputs": [
    {
     "data": {
      "text/plain": [
       "0.25064369599179526"
      ]
     },
     "execution_count": 27,
     "metadata": {},
     "output_type": "execute_result"
    }
   ],
   "source": [
    "root_mean_squared_error(results[\"y_true\"], results[\"y_pred\"])\n",
    "mean_absolute_error(results[\"y_true\"], results[\"y_pred\"])"
   ]
  },
  {
   "cell_type": "code",
   "execution_count": 28,
   "metadata": {},
   "outputs": [
    {
     "data": {
      "text/html": [
       "<div>\n",
       "<style scoped>\n",
       "    .dataframe tbody tr th:only-of-type {\n",
       "        vertical-align: middle;\n",
       "    }\n",
       "\n",
       "    .dataframe tbody tr th {\n",
       "        vertical-align: top;\n",
       "    }\n",
       "\n",
       "    .dataframe thead th {\n",
       "        text-align: right;\n",
       "    }\n",
       "</style>\n",
       "<table border=\"1\" class=\"dataframe\">\n",
       "  <thead>\n",
       "    <tr style=\"text-align: right;\">\n",
       "      <th></th>\n",
       "      <th>index</th>\n",
       "      <th>y_true</th>\n",
       "      <th>y_pred</th>\n",
       "      <th>std</th>\n",
       "    </tr>\n",
       "  </thead>\n",
       "  <tbody>\n",
       "    <tr>\n",
       "      <th>0</th>\n",
       "      <td>933.0</td>\n",
       "      <td>0.420382</td>\n",
       "      <td>0.000000</td>\n",
       "      <td>0.363885</td>\n",
       "    </tr>\n",
       "    <tr>\n",
       "      <th>1</th>\n",
       "      <td>365.0</td>\n",
       "      <td>0.644080</td>\n",
       "      <td>1.000000</td>\n",
       "      <td>0.363885</td>\n",
       "    </tr>\n",
       "    <tr>\n",
       "      <th>2</th>\n",
       "      <td>537.0</td>\n",
       "      <td>0.001012</td>\n",
       "      <td>0.235281</td>\n",
       "      <td>0.224693</td>\n",
       "    </tr>\n",
       "    <tr>\n",
       "      <th>3</th>\n",
       "      <td>524.0</td>\n",
       "      <td>0.993222</td>\n",
       "      <td>1.000000</td>\n",
       "      <td>0.224693</td>\n",
       "    </tr>\n",
       "    <tr>\n",
       "      <th>4</th>\n",
       "      <td>1128.0</td>\n",
       "      <td>0.244153</td>\n",
       "      <td>0.312478</td>\n",
       "      <td>0.363885</td>\n",
       "    </tr>\n",
       "    <tr>\n",
       "      <th>...</th>\n",
       "      <td>...</td>\n",
       "      <td>...</td>\n",
       "      <td>...</td>\n",
       "      <td>...</td>\n",
       "    </tr>\n",
       "    <tr>\n",
       "      <th>117</th>\n",
       "      <td>552.0</td>\n",
       "      <td>0.074724</td>\n",
       "      <td>0.402227</td>\n",
       "      <td>0.224693</td>\n",
       "    </tr>\n",
       "    <tr>\n",
       "      <th>118</th>\n",
       "      <td>986.0</td>\n",
       "      <td>0.273171</td>\n",
       "      <td>0.734015</td>\n",
       "      <td>0.363885</td>\n",
       "    </tr>\n",
       "    <tr>\n",
       "      <th>119</th>\n",
       "      <td>97.0</td>\n",
       "      <td>0.648457</td>\n",
       "      <td>0.339592</td>\n",
       "      <td>0.852709</td>\n",
       "    </tr>\n",
       "    <tr>\n",
       "      <th>120</th>\n",
       "      <td>172.0</td>\n",
       "      <td>0.993334</td>\n",
       "      <td>1.000000</td>\n",
       "      <td>0.363885</td>\n",
       "    </tr>\n",
       "    <tr>\n",
       "      <th>121</th>\n",
       "      <td>1115.0</td>\n",
       "      <td>0.115046</td>\n",
       "      <td>0.484944</td>\n",
       "      <td>0.363885</td>\n",
       "    </tr>\n",
       "  </tbody>\n",
       "</table>\n",
       "<p>122 rows × 4 columns</p>\n",
       "</div>"
      ],
      "text/plain": [
       "      index    y_true    y_pred       std\n",
       "0     933.0  0.420382  0.000000  0.363885\n",
       "1     365.0  0.644080  1.000000  0.363885\n",
       "2     537.0  0.001012  0.235281  0.224693\n",
       "3     524.0  0.993222  1.000000  0.224693\n",
       "4    1128.0  0.244153  0.312478  0.363885\n",
       "..      ...       ...       ...       ...\n",
       "117   552.0  0.074724  0.402227  0.224693\n",
       "118   986.0  0.273171  0.734015  0.363885\n",
       "119    97.0  0.648457  0.339592  0.852709\n",
       "120   172.0  0.993334  1.000000  0.363885\n",
       "121  1115.0  0.115046  0.484944  0.363885\n",
       "\n",
       "[122 rows x 4 columns]"
      ]
     },
     "execution_count": 28,
     "metadata": {},
     "output_type": "execute_result"
    }
   ],
   "source": [
    "results"
   ]
  }
 ],
 "metadata": {
  "kernelspec": {
   "display_name": "datascience",
   "language": "python",
   "name": "python3"
  },
  "language_info": {
   "codemirror_mode": {
    "name": "ipython",
    "version": 3
   },
   "file_extension": ".py",
   "mimetype": "text/x-python",
   "name": "python",
   "nbconvert_exporter": "python",
   "pygments_lexer": "ipython3",
   "version": "3.12.1"
  }
 },
 "nbformat": 4,
 "nbformat_minor": 2
}
