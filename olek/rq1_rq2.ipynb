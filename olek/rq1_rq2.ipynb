{
 "cells": [
  {
   "cell_type": "code",
   "execution_count": null,
   "metadata": {},
   "outputs": [],
   "source": [
    "from metadrive.envs.metadrive_env import MetaDriveEnv\n",
    "from metadrive.envs.safe_metadrive_env import SafeMetaDriveEnv\n",
    "from metadrive.policy.expert_policy import ExpertPolicy\n",
    "from metadrive.examples.ppo_expert.torch_expert import torch_expert as expert\n",
    "\n",
    "from IPython.display import Image, clear_output\n",
    "import pandas as pd\n",
    "\n",
    "from pprint import pprint"
   ]
  },
  {
   "cell_type": "markdown",
   "metadata": {},
   "source": [
    "## Run scenarios\n"
   ]
  },
  {
   "cell_type": "code",
   "execution_count": null,
   "metadata": {},
   "outputs": [],
   "source": [
    "def run_scenario_n_times_correct(\n",
    "    n_scenarios=10,\n",
    "    expert_driving=True,\n",
    "    use_same_seed=False,\n",
    "    gif: str = \"\",\n",
    "    user_config: dict = {},\n",
    ") -> list:\n",
    "    \"\"\"\n",
    "    Runs same scenario n time and collects the traces\n",
    "    \"\"\"\n",
    "\n",
    "    traces = []\n",
    "    config = user_config | {\n",
    "        \"map\": 2,\n",
    "        \"num_scenarios\": n_scenarios,\n",
    "    }\n",
    "\n",
    "    try:\n",
    "\n",
    "        for rep in range(n_scenarios):\n",
    "\n",
    "            env = MetaDriveEnv(config=config)\n",
    "            seed = 0 if use_same_seed else rep\n",
    "\n",
    "            obs, step_info = env.reset(seed)\n",
    "            step_info[\"repetition\"] = rep\n",
    "            traces.append(step_info)\n",
    "            print(f\"{env.current_seed = }\")\n",
    "            while True:\n",
    "\n",
    "                # get action from expert driving, or a dummy action\n",
    "                action = (\n",
    "                    expert(env.agent, deterministic=True)\n",
    "                    if expert_driving\n",
    "                    else [0.1, 0.33]\n",
    "                )\n",
    "                obs, reward, tm, tr, step_info = env.step(action)\n",
    "                step_info[\"repetition\"] = rep\n",
    "                traces.append(step_info)\n",
    "\n",
    "                if gif:\n",
    "                    env.render(\n",
    "                        mode=\"topdown\",\n",
    "                        # get the overview of the scene\n",
    "                        film_size=(1000, 1000),\n",
    "                        screen_size=(1000, 1000),\n",
    "                        # set camer to map center\n",
    "                        camera_position=env.current_map.get_center_point(),\n",
    "                        # auto determine the number of pixels for 1 meter\n",
    "                        scaling=None,\n",
    "                        # do not pop window\n",
    "                        screen_record=True,\n",
    "                        window=False,\n",
    "                    )\n",
    "\n",
    "                if tm or tr:\n",
    "                    break\n",
    "\n",
    "            print(f\"{gif = }\")\n",
    "            if gif:\n",
    "                env.top_down_renderer.generate_gif(\n",
    "                    gif_name=f\"gifs/{gif}_seed_{rep}.gif\", duration=30\n",
    "                )\n",
    "\n",
    "            env.close()\n",
    "    finally:\n",
    "        pass\n",
    "\n",
    "    return traces"
   ]
  },
  {
   "cell_type": "code",
   "execution_count": null,
   "metadata": {},
   "outputs": [],
   "source": [
    "def are_traces_deterministic(traces) -> bool:\n",
    "    df = pd.DataFrame(traces)\n",
    "\n",
    "    # grouping by repetition to get a list of traces\n",
    "    traces = df.groupby(\"repetition\")\n",
    "\n",
    "    # drop index and repetition ID to compare only step info later\n",
    "    stripped_traces = [\n",
    "        trace.reset_index(drop=True).drop(\"repetition\", axis=1) for _, trace in traces\n",
    "    ]\n",
    "\n",
    "    # iterate over each trace and check if it is equal to the first one\n",
    "    are_equal_to_first_trace = [\n",
    "        trace.equals(stripped_traces[0]) for trace in stripped_traces\n",
    "    ]\n",
    "\n",
    "    # if all traces are equal to the first, then all traces are equal hence deterministic\n",
    "    return all(are_equal_to_first_trace)"
   ]
  },
  {
   "cell_type": "markdown",
   "metadata": {},
   "source": [
    "## Determinism check\n"
   ]
  },
  {
   "cell_type": "code",
   "execution_count": null,
   "metadata": {},
   "outputs": [],
   "source": [
    "same_seed = True\n",
    "\n",
    "traces = run_scenario_n_times_correct(\n",
    "    n_scenarios=10,\n",
    "    use_same_seed=same_seed,\n",
    ")\n",
    "\n",
    "\n",
    "clear_output()\n",
    "if same_seed:\n",
    "    assert are_traces_deterministic(traces), \"Traces must be deterministic!\"\n",
    "\n",
    "df = pd.DataFrame(traces)\n",
    "# df"
   ]
  },
  {
   "cell_type": "markdown",
   "metadata": {},
   "source": [
    "## Fidelity parameters\n",
    "\n",
    "### Default settings\n",
    "\n",
    "- `dt = 0.02`\n",
    "- `decision_repeat = 5`\n",
    "- Step time is `dt * decision_repeat = 0.1` which is 10FPS\n"
   ]
  },
  {
   "cell_type": "code",
   "execution_count": null,
   "metadata": {},
   "outputs": [],
   "source": [
    "# low_fidelity = run_scenario_n_times_correct(\n",
    "#     n_scenarios=5, user_config={\"decision_repeat\": 10}, gif=True, use_same_seed=False\n",
    "# )\n",
    "clear_output()"
   ]
  },
  {
   "cell_type": "code",
   "execution_count": null,
   "metadata": {},
   "outputs": [],
   "source": [
    "# assert are_traces_deterministic(low_fidelity), \"Traces must be deterministic!\"\n",
    "# df = pd.DataFrame(low_fidelity)"
   ]
  },
  {
   "cell_type": "code",
   "execution_count": null,
   "metadata": {},
   "outputs": [],
   "source": [
    "# ===== Termination Scheme =====\n",
    "termination_sceme = dict(\n",
    "    out_of_route_done=False,\n",
    "    on_continuous_line_done=False,\n",
    "    crash_vehicle_done=True,\n",
    "    crash_object_done=True,\n",
    "    crash_human_done=True,\n",
    ")"
   ]
  },
  {
   "cell_type": "code",
   "execution_count": 8,
   "metadata": {},
   "outputs": [],
   "source": [
    "import time\n",
    "\n",
    "df = pd.DataFrame()\n",
    "times = []\n",
    "for dr in [5, 10, 15, 20]:\n",
    "    start = time.perf_counter()\n",
    "    traces = run_scenario_n_times_correct(\n",
    "        n_scenarios=1000,\n",
    "        user_config=termination_sceme | {\"decision_repeat\": dr, \"horizon\": 1000},\n",
    "        # gif=f\"dr_{dr}\",\n",
    "        use_same_seed=False,\n",
    "    )\n",
    "\n",
    "    traces_df = pd.DataFrame(traces)\n",
    "    traces_df[\"decision_repeat\"] = dr\n",
    "    df = pd.concat([df, traces_df])\n",
    "    times.append((dr, time.perf_counter() - start))\n",
    "    clear_output()\n",
    "\n",
    "df.to_csv(\"data/metadrive.csv\")"
   ]
  },
  {
   "cell_type": "code",
   "execution_count": 9,
   "metadata": {},
   "outputs": [],
   "source": [
    "df.to_csv(\"data/metadrive.csv\")"
   ]
  },
  {
   "cell_type": "code",
   "execution_count": 10,
   "metadata": {},
   "outputs": [
    {
     "name": "stdout",
     "output_type": "stream",
     "text": [
      "For dr = 5 it took 654.591663s\n",
      "For dr = 10 it took 430.043038s\n",
      "For dr = 15 it took 373.674586s\n",
      "For dr = 20 it took 355.669297s\n"
     ]
    }
   ],
   "source": [
    "for dr, system_time in times:\n",
    "    print(f\"For {dr = } it took {system_time:2f}s\")"
   ]
  },
  {
   "cell_type": "code",
   "execution_count": null,
   "metadata": {},
   "outputs": [],
   "source": []
  }
 ],
 "metadata": {
  "kernelspec": {
   "display_name": "metadrive",
   "language": "python",
   "name": "python3"
  },
  "language_info": {
   "codemirror_mode": {
    "name": "ipython",
    "version": 3
   },
   "file_extension": ".py",
   "mimetype": "text/x-python",
   "name": "python",
   "nbconvert_exporter": "python",
   "pygments_lexer": "ipython3",
   "version": "3.10.14"
  }
 },
 "nbformat": 4,
 "nbformat_minor": 2
}
