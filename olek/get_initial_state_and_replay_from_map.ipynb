{
 "cells": [
  {
   "cell_type": "code",
   "execution_count": 1,
   "metadata": {},
   "outputs": [],
   "source": [
    "from scenario_runner import ScenarioRunner\n",
    "from metadrive.envs.metadrive_env import MetaDriveEnv\n",
    "from metadrive.component.map.base_map import BaseMap\n",
    "from metadrive.component.map.pg_map import MapGenerateMethod\n",
    "from metadrive.examples.ppo_expert.torch_expert import torch_expert as expert\n",
    "from pprint import pprint\n",
    "from PIL import Image\n",
    "import numpy as np\n",
    "import logging"
   ]
  },
  {
   "cell_type": "code",
   "execution_count": 2,
   "metadata": {},
   "outputs": [],
   "source": [
    "def create_env(seed, map_config) -> MetaDriveEnv:\n",
    "    # ===== Fidelity Config =====\n",
    "    fidelity_params = dict(\n",
    "        # decision_repeat=self.decision_repeat, physics_world_step_size=self.dt\n",
    "    )\n",
    "\n",
    "    # ===== Termination Scheme =====\n",
    "    termination_sceme = dict(\n",
    "        out_of_route_done=False,\n",
    "        on_continuous_line_done=False,\n",
    "        crash_vehicle_done=False,\n",
    "        crash_object_done=False,\n",
    "        crash_human_done=False,\n",
    "    )\n",
    "    # # ===== Map Config =====\n",
    "    # map_config = {\n",
    "    #     BaseMap.GENERATE_TYPE: MapGenerateMethod.BIG_BLOCK_NUM,\n",
    "    #     BaseMap.GENERATE_CONFIG: 5,\n",
    "    # }\n",
    "\n",
    "    cfg = dict(\n",
    "        # use_render=True,\n",
    "        log_level=logging.INFO,  # logging.DEBUG\n",
    "        start_seed=seed,\n",
    "        map_config=map_config,\n",
    "        **termination_sceme,\n",
    "        **fidelity_params,\n",
    "    )\n",
    "    env = MetaDriveEnv(config=cfg)\n",
    "    return env"
   ]
  },
  {
   "cell_type": "code",
   "execution_count": 3,
   "metadata": {},
   "outputs": [
    {
     "name": "stderr",
     "output_type": "stream",
     "text": [
      "\u001b[38;20m[INFO] Environment: MetaDriveEnv\u001b[0m\n",
      "\u001b[38;20m[INFO] MetaDrive version: 0.4.2.3\u001b[0m\n",
      "\u001b[38;20m[INFO] Sensors: [lidar: Lidar(), side_detector: SideDetector(), lane_line_detector: LaneLineDetector()]\u001b[0m\n",
      "\u001b[38;20m[INFO] Render Mode: none\u001b[0m\n",
      "\u001b[38;20m[INFO] Horizon (Max steps per agent): None\u001b[0m\n"
     ]
    }
   ],
   "source": [
    "env = create_env(\n",
    "    123,\n",
    "    map_config={\n",
    "        BaseMap.GENERATE_TYPE: MapGenerateMethod.BIG_BLOCK_NUM,\n",
    "        BaseMap.GENERATE_CONFIG: 5,\n",
    "    },\n",
    ")"
   ]
  },
  {
   "cell_type": "code",
   "execution_count": 4,
   "metadata": {},
   "outputs": [
    {
     "name": "stderr",
     "output_type": "stream",
     "text": [
      "\u001b[38;20m[INFO] Assets version: 0.4.2.3\u001b[0m\n",
      "\u001b[38;20m[INFO] Known Pipes: glxGraphicsPipe\u001b[0m\n",
      "\u001b[38;20m[INFO] Start Scenario Index: 123, Num Scenarios : 1\u001b[0m\n"
     ]
    }
   ],
   "source": [
    "_, reset_info = env.reset()\n",
    "frames = []"
   ]
  },
  {
   "cell_type": "code",
   "execution_count": 5,
   "metadata": {},
   "outputs": [],
   "source": [
    "# for i in range(500):\n",
    "\n",
    "#     action = expert(env.agent, deterministic=True)\n",
    "#     obs, reward, terminated, truncated, info = env.step(action)\n",
    "#     frames.append(\n",
    "#         env.render(\n",
    "#             mode=\"topdown\",\n",
    "#             window=False,\n",
    "#             screen_record=True,\n",
    "#         )\n",
    "#     )\n",
    "\n",
    "#     if terminated or truncated:\n",
    "#         break"
   ]
  },
  {
   "cell_type": "code",
   "execution_count": 6,
   "metadata": {},
   "outputs": [],
   "source": [
    "def get_map_img(env) -> Image:\n",
    "    \"\"\"Get map image of the current environment\"\"\"\n",
    "    map = env.current_map.get_semantic_map(\n",
    "        env.current_map.get_center_point(),\n",
    "    )\n",
    "    map = map.squeeze()  # reduce dimensionality\n",
    "    map = (map * 255 * 4).astype(np.uint8)\n",
    "    img = Image.fromarray(map)\n",
    "    return img"
   ]
  },
  {
   "cell_type": "code",
   "execution_count": 7,
   "metadata": {},
   "outputs": [],
   "source": [
    "# env.top_down_renderer.generate_gif(gif_name=\"first.gif\")\n",
    "# Image.fromarray(frames[-1])"
   ]
  },
  {
   "cell_type": "code",
   "execution_count": 8,
   "metadata": {},
   "outputs": [
    {
     "data": {
      "text/plain": [
       "'>'"
      ]
     },
     "execution_count": 8,
     "metadata": {},
     "output_type": "execute_result"
    }
   ],
   "source": [
    "env.agent.navigation.current_road.block_ID()"
   ]
  },
  {
   "cell_type": "code",
   "execution_count": 9,
   "metadata": {},
   "outputs": [
    {
     "data": {
      "text/plain": [
       "[{'id': 'I', 'pre_block_socket_index': None},\n",
       " {'radius': 10.0,\n",
       "  'decrease_increase': 0,\n",
       "  'change_lane_num': 0,\n",
       "  'id': 'X',\n",
       "  'pre_block_socket_index': '0I-socket0'},\n",
       " {'angle': 93.49340057373047,\n",
       "  'radius': 43.858543395996094,\n",
       "  'length': 61.55261993408203,\n",
       "  'dir': 1,\n",
       "  'id': 'C',\n",
       "  'pre_block_socket_index': '1X-socket0'},\n",
       " {'angle': 60.0,\n",
       "  'inner_radius': 17.922710418701172,\n",
       "  'exit_radius': 5.974236965179443,\n",
       "  'id': 'O',\n",
       "  'pre_block_socket_index': '2C-socket0'},\n",
       " {'angle': 60.0,\n",
       "  'inner_radius': 44.49692916870117,\n",
       "  'exit_radius': 14.83230972290039,\n",
       "  'id': 'O',\n",
       "  'pre_block_socket_index': '3O-socket1'},\n",
       " {'radius': 10.0,\n",
       "  'decrease_increase': 0,\n",
       "  'change_lane_num': 0,\n",
       "  'id': 'X',\n",
       "  'pre_block_socket_index': '4O-socket2'}]"
      ]
     },
     "execution_count": 9,
     "metadata": {},
     "output_type": "execute_result"
    }
   ],
   "source": [
    "block_sequence = env.current_map.get_meta_data()[\"block_sequence\"]\n",
    "block_sequence"
   ]
  },
  {
   "cell_type": "code",
   "execution_count": 10,
   "metadata": {},
   "outputs": [
    {
     "name": "stdout",
     "output_type": "stream",
     "text": [
      "('>', '>>') ('5X2_0_', '5X2_1_')\n",
      "('-1X2_1_', '-1X2_0_') ('->>>', '->>')\n",
      "('-1X1_1_', '-1X1_0_') ('->>>', '->>')\n",
      "('1X0_1_', '2C0_0_') ('5X2_0_', '5X2_1_')\n",
      "('1X0_1_', '2C0_0_') ('5X2_0_', '5X2_1_')\n",
      "('1X0_1_', '2C0_0_') ('5X2_0_', '5X2_1_')\n",
      "('1X0_1_', '2C0_0_') ('5X2_0_', '5X2_1_')\n",
      "('-3O2_3_', '-3O2_2_') ('->>>', '->>')\n",
      "('-3O0_3_', '-3O0_2_') ('->>>', '->>')\n",
      "('3O0_0_', '3O0_1_') ('5X2_0_', '5X2_1_')\n",
      "('-3O2_3_', '-3O2_2_') ('->>>', '->>')\n",
      "('4O1_0_', '4O1_1_') ('5X2_0_', '5X2_1_')\n",
      "('4O0_0_', '4O0_1_') ('5X2_0_', '5X2_1_')\n",
      "('4O0_0_', '4O0_1_') ('5X2_0_', '5X2_1_')\n",
      "('4O1_0_', '4O1_1_') ('5X2_0_', '5X2_1_')\n",
      "('4O1_0_', '4O1_1_') ('5X2_0_', '5X2_1_')\n",
      "('-5X2_1_', '-5X2_0_') ('->>>', '->>')\n",
      "('-5X0_1_', '-5X0_0_') ('->>>', '->>')\n",
      "('-5X0_1_', '-5X0_0_') ('->>>', '->>')\n"
     ]
    }
   ],
   "source": [
    "first_npcs = env.agent_manager.get_objects()\n",
    "for vehicles in first_npcs.values():\n",
    "    s = vehicles.get_state()\n",
    "    print(s[\"spawn_road\"], s[\"destination\"])"
   ]
  },
  {
   "cell_type": "code",
   "execution_count": 11,
   "metadata": {},
   "outputs": [],
   "source": [
    "# get_map_img(env)"
   ]
  },
  {
   "cell_type": "code",
   "execution_count": 12,
   "metadata": {},
   "outputs": [],
   "source": [
    "env.close()"
   ]
  },
  {
   "cell_type": "code",
   "execution_count": 13,
   "metadata": {},
   "outputs": [
    {
     "name": "stderr",
     "output_type": "stream",
     "text": [
      "\u001b[38;20m[INFO] Environment: MetaDriveEnv\u001b[0m\n",
      "\u001b[38;20m[INFO] MetaDrive version: 0.4.2.3\u001b[0m\n",
      "\u001b[38;20m[INFO] Sensors: [lidar: Lidar(), side_detector: SideDetector(), lane_line_detector: LaneLineDetector()]\u001b[0m\n",
      "\u001b[38;20m[INFO] Render Mode: none\u001b[0m\n",
      "\u001b[38;20m[INFO] Horizon (Max steps per agent): None\u001b[0m\n"
     ]
    }
   ],
   "source": [
    "env = create_env(\n",
    "    1,\n",
    "    map_config={\n",
    "        BaseMap.GENERATE_TYPE: MapGenerateMethod.PG_MAP_FILE,\n",
    "        BaseMap.GENERATE_CONFIG: block_sequence,\n",
    "    },\n",
    ")"
   ]
  },
  {
   "cell_type": "code",
   "execution_count": 14,
   "metadata": {},
   "outputs": [],
   "source": [
    "# get_map_img(env)"
   ]
  },
  {
   "cell_type": "code",
   "execution_count": 15,
   "metadata": {},
   "outputs": [
    {
     "name": "stderr",
     "output_type": "stream",
     "text": [
      "\u001b[38;20m[INFO] Assets version: 0.4.2.3\u001b[0m\n",
      "\u001b[38;20m[INFO] Known Pipes: glxGraphicsPipe\u001b[0m\n",
      "\u001b[38;20m[INFO] Start Scenario Index: 1, Num Scenarios : 1\u001b[0m\n"
     ]
    }
   ],
   "source": [
    "_, reset_info = env.reset()\n",
    "frames = []"
   ]
  },
  {
   "cell_type": "code",
   "execution_count": 16,
   "metadata": {},
   "outputs": [],
   "source": [
    "# for i in range(500):\n",
    "\n",
    "#     action = expert(env.agent, deterministic=True)\n",
    "#     obs, reward, terminated, truncated, info = env.step(action)\n",
    "#     frames.append(\n",
    "#         env.render(\n",
    "#             mode=\"topdown\",\n",
    "#             window=False,\n",
    "#             screen_record=True,\n",
    "#         )\n",
    "#     )\n",
    "\n",
    "#     if terminated or truncated:\n",
    "#         break"
   ]
  },
  {
   "cell_type": "code",
   "execution_count": 17,
   "metadata": {},
   "outputs": [],
   "source": [
    "# env.top_down_renderer.generate_gif(gif_name=\"replayed_diffrent_seed.gif\")\n",
    "# Image.fromarray(frames[-1])"
   ]
  },
  {
   "cell_type": "code",
   "execution_count": 18,
   "metadata": {},
   "outputs": [
    {
     "data": {
      "text/plain": [
       "FirstPGBlock, ID:0I"
      ]
     },
     "execution_count": 18,
     "metadata": {},
     "output_type": "execute_result"
    }
   ],
   "source": [
    "env.current_map.blocks[0]"
   ]
  },
  {
   "cell_type": "code",
   "execution_count": 19,
   "metadata": {},
   "outputs": [
    {
     "name": "stdout",
     "output_type": "stream",
     "text": [
      "length = 4.515, width = 1.852, height = 1.19\n",
      "length = 5.74, width = 2.3, height = 2.8\n",
      "length = 4.6, width = 1.85, height = 1.37\n",
      "length = 5.74, width = 2.3, height = 2.8\n",
      "length = 4.6, width = 1.85, height = 1.37\n",
      "length = 4.87, width = 2.046, height = 1.85\n",
      "length = 5.74, width = 2.3, height = 2.8\n",
      "length = 4.87, width = 2.046, height = 1.85\n",
      "length = 4.6, width = 1.85, height = 1.37\n",
      "length = 4.3, width = 1.7, height = 1.7\n",
      "length = 4.3, width = 1.7, height = 1.7\n",
      "length = 4.87, width = 2.046, height = 1.85\n",
      "length = 4.6, width = 1.85, height = 1.37\n",
      "length = 5.74, width = 2.3, height = 2.8\n",
      "length = 4.6, width = 1.85, height = 1.37\n",
      "length = 4.87, width = 2.046, height = 1.85\n",
      "length = 4.87, width = 2.046, height = 1.85\n",
      "length = 4.6, width = 1.85, height = 1.37\n",
      "length = 4.87, width = 2.046, height = 1.85\n"
     ]
    }
   ],
   "source": [
    "new_npc = env.agent_manager.get_objects()\n",
    "for vehicles in new_npc.values():\n",
    "    s = vehicles.get_state()\n",
    "    length, width, height = s[\"size\"]\n",
    "    print(f\"{length = }, {width = }, {height = }\")\n",
    "    # print(f\"{s['spawn_road'] = }, {s['destination'] = }\")"
   ]
  },
  {
   "cell_type": "code",
   "execution_count": null,
   "metadata": {},
   "outputs": [],
   "source": []
  },
  {
   "cell_type": "code",
   "execution_count": null,
   "metadata": {},
   "outputs": [],
   "source": []
  }
 ],
 "metadata": {
  "kernelspec": {
   "display_name": "metadrive",
   "language": "python",
   "name": "python3"
  },
  "language_info": {
   "codemirror_mode": {
    "name": "ipython",
    "version": 3
   },
   "file_extension": ".py",
   "mimetype": "text/x-python",
   "name": "python",
   "nbconvert_exporter": "python",
   "pygments_lexer": "ipython3",
   "version": "3.10.14"
  }
 },
 "nbformat": 4,
 "nbformat_minor": 2
}
