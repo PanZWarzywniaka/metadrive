{
 "cells": [
  {
   "cell_type": "code",
   "execution_count": 1,
   "metadata": {},
   "outputs": [],
   "source": [
    "import pandas as pd\n",
    "from pathlib import Path\n",
    "import json\n",
    "from pprint import pprint\n",
    "import math\n",
    "from tqdm import tqdm\n",
    "import seaborn as sns"
   ]
  },
  {
   "cell_type": "code",
   "execution_count": 2,
   "metadata": {},
   "outputs": [],
   "source": [
    "def get_in_road_percentage(steps_df: pd.DataFrame) -> float:\n",
    "    ret = steps_df[\"out_of_road\"].value_counts(normalize=True).at[False]\n",
    "    return ret"
   ]
  },
  {
   "cell_type": "code",
   "execution_count": 3,
   "metadata": {},
   "outputs": [],
   "source": [
    "def get_n_crashes(steps_df: pd.DataFrame) -> int:\n",
    "    \"\"\"Count number of crash episodes to not count same crash multiple times\"\"\"\n",
    "    try:\n",
    "        # count number of times \"crash\" becomes True for some time\n",
    "        n_crashes = steps_df[\"crash\"].diff().value_counts().at[True]\n",
    "\n",
    "        # need to divide by 2 beacouse diff counts twice\n",
    "        n_crashes /= 2\n",
    "\n",
    "        # just in case crash is last episode and we have 3.5 crash episodes make it 4\n",
    "        n_crashes = math.ceil(n_crashes)\n",
    "    except KeyError:\n",
    "        n_crashes = 0\n",
    "\n",
    "    return n_crashes"
   ]
  },
  {
   "cell_type": "code",
   "execution_count": 4,
   "metadata": {},
   "outputs": [],
   "source": [
    "def process_steps(steps_infos: list) -> dict:\n",
    "    \"\"\"Accepts a list of steps and returns a dict of interesting data\"\"\"\n",
    "\n",
    "    steps_df = pd.DataFrame(steps_infos)\n",
    "    steps_data = {}\n",
    "    last_step = steps_df.iloc[-1]\n",
    "\n",
    "    steps_data = {\n",
    "        \"termination.arrive_dest\": last_step[\"arrive_dest\"],\n",
    "        \"termination.timeout\": last_step[\"max_step\"],\n",
    "        \"route_completion\": last_step[\"route_completion\"],\n",
    "        \"seed\": last_step[\"env_seed\"],\n",
    "        \"in_road_percentage\": get_in_road_percentage(steps_df),\n",
    "        \"n_crashes\": get_n_crashes(steps_df),\n",
    "    }\n",
    "\n",
    "    return steps_data"
   ]
  },
  {
   "cell_type": "code",
   "execution_count": 5,
   "metadata": {},
   "outputs": [],
   "source": [
    "def get_scenarios_df(dir: Path):\n",
    "    paths = list(dir.glob(\"*/*.json\"))\n",
    "\n",
    "    scenarios = []\n",
    "    for file_path in tqdm(paths):\n",
    "\n",
    "        with open(file_path, \"r\") as f:\n",
    "            try:\n",
    "                scenario_data = json.load(f)\n",
    "            except json.JSONDecodeError:\n",
    "                print(file_path)\n",
    "                raise ValueError\n",
    "\n",
    "        dir = file_path.__str__().split(\"/\")[-2]\n",
    "        _, dr, _, dt = dir.split(\"_\")\n",
    "        scenario_data[\"decision_repeat\"] = int(dr)\n",
    "        scenario_data[\"dt\"] = float(dt)\n",
    "\n",
    "        steps_infos = scenario_data.pop(\"steps_infos\")\n",
    "        scenario_data.update(process_steps(steps_infos))\n",
    "        scenarios.append(scenario_data)\n",
    "    return pd.DataFrame(scenarios)"
   ]
  },
  {
   "cell_type": "code",
   "execution_count": 6,
   "metadata": {},
   "outputs": [
    {
     "name": "stderr",
     "output_type": "stream",
     "text": [
      "100%|██████████| 1200/1200 [00:03<00:00, 355.37it/s]\n",
      "100%|██████████| 1200/1200 [00:03<00:00, 360.70it/s]\n"
     ]
    }
   ],
   "source": [
    "df_1 = get_scenarios_df(Path(\"data/benchmarking\"))\n",
    "df_2 = get_scenarios_df(Path(\"data/benchmarking_2\"))"
   ]
  },
  {
   "cell_type": "code",
   "execution_count": 7,
   "metadata": {},
   "outputs": [],
   "source": [
    "def process(df):\n",
    "    return (\n",
    "        df.set_index(\n",
    "            [\n",
    "                \"dt\",\n",
    "                \"decision_repeat\",\n",
    "                \"seed\",\n",
    "            ],\n",
    "            verify_integrity=True,\n",
    "        )\n",
    "        .sort_index()\n",
    "        .drop(\n",
    "            columns=[\n",
    "                \"start_ts\",\n",
    "                \"initialized_ts\",\n",
    "                \"scenario_done_ts\",\n",
    "                \"init_time\",\n",
    "                \"scenario_time\",\n",
    "                \"total_time\",\n",
    "            ],\n",
    "            axis=1,\n",
    "        )\n",
    "    )"
   ]
  },
  {
   "cell_type": "code",
   "execution_count": 8,
   "metadata": {},
   "outputs": [],
   "source": [
    "df_1 = process(df_1)\n",
    "df_2 = process(df_2)"
   ]
  },
  {
   "cell_type": "code",
   "execution_count": 9,
   "metadata": {},
   "outputs": [
    {
     "data": {
      "text/html": [
       "<div>\n",
       "<style scoped>\n",
       "    .dataframe tbody tr th:only-of-type {\n",
       "        vertical-align: middle;\n",
       "    }\n",
       "\n",
       "    .dataframe tbody tr th {\n",
       "        vertical-align: top;\n",
       "    }\n",
       "\n",
       "    .dataframe thead tr th {\n",
       "        text-align: left;\n",
       "    }\n",
       "\n",
       "    .dataframe thead tr:last-of-type th {\n",
       "        text-align: right;\n",
       "    }\n",
       "</style>\n",
       "<table border=\"1\" class=\"dataframe\">\n",
       "  <thead>\n",
       "    <tr>\n",
       "      <th></th>\n",
       "      <th></th>\n",
       "      <th></th>\n",
       "      <th colspan=\"2\" halign=\"left\">termination.arrive_dest</th>\n",
       "      <th colspan=\"2\" halign=\"left\">route_completion</th>\n",
       "      <th colspan=\"2\" halign=\"left\">in_road_percentage</th>\n",
       "      <th colspan=\"2\" halign=\"left\">n_crashes</th>\n",
       "    </tr>\n",
       "    <tr>\n",
       "      <th></th>\n",
       "      <th></th>\n",
       "      <th></th>\n",
       "      <th>self</th>\n",
       "      <th>other</th>\n",
       "      <th>self</th>\n",
       "      <th>other</th>\n",
       "      <th>self</th>\n",
       "      <th>other</th>\n",
       "      <th>self</th>\n",
       "      <th>other</th>\n",
       "    </tr>\n",
       "    <tr>\n",
       "      <th>dt</th>\n",
       "      <th>decision_repeat</th>\n",
       "      <th>seed</th>\n",
       "      <th></th>\n",
       "      <th></th>\n",
       "      <th></th>\n",
       "      <th></th>\n",
       "      <th></th>\n",
       "      <th></th>\n",
       "      <th></th>\n",
       "      <th></th>\n",
       "    </tr>\n",
       "  </thead>\n",
       "  <tbody>\n",
       "    <tr>\n",
       "      <th>0.04</th>\n",
       "      <th>20</th>\n",
       "      <th>50</th>\n",
       "      <td>False</td>\n",
       "      <td>True</td>\n",
       "      <td>0.562882</td>\n",
       "      <td>0.994</td>\n",
       "      <td>0.990385</td>\n",
       "      <td>1.0</td>\n",
       "      <td>2.0</td>\n",
       "      <td>3.0</td>\n",
       "    </tr>\n",
       "  </tbody>\n",
       "</table>\n",
       "</div>"
      ],
      "text/plain": [
       "                          termination.arrive_dest       route_completion  \\\n",
       "                                             self other             self   \n",
       "dt   decision_repeat seed                                                  \n",
       "0.04 20              50                     False  True         0.562882   \n",
       "\n",
       "                                 in_road_percentage       n_crashes        \n",
       "                           other               self other      self other  \n",
       "dt   decision_repeat seed                                                  \n",
       "0.04 20              50    0.994           0.990385   1.0       2.0   3.0  "
      ]
     },
     "execution_count": 9,
     "metadata": {},
     "output_type": "execute_result"
    }
   ],
   "source": [
    "df_1.compare(df_2)"
   ]
  },
  {
   "cell_type": "code",
   "execution_count": null,
   "metadata": {},
   "outputs": [],
   "source": []
  }
 ],
 "metadata": {
  "kernelspec": {
   "display_name": "metadrive",
   "language": "python",
   "name": "python3"
  },
  "language_info": {
   "codemirror_mode": {
    "name": "ipython",
    "version": 3
   },
   "file_extension": ".py",
   "mimetype": "text/x-python",
   "name": "python",
   "nbconvert_exporter": "python",
   "pygments_lexer": "ipython3",
   "version": "3.10.14"
  }
 },
 "nbformat": 4,
 "nbformat_minor": 2
}
