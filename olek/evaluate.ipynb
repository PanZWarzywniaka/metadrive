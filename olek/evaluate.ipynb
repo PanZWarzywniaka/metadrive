{
 "cells": [
  {
   "cell_type": "code",
   "execution_count": 15,
   "metadata": {},
   "outputs": [],
   "source": [
    "from metadrive.envs.metadrive_env import MetaDriveEnv\n",
    "from metadrive.policy.expert_policy import ExpertPolicy\n",
    "from IPython.display import Image\n",
    "from pprint import pprint"
   ]
  },
  {
   "cell_type": "code",
   "execution_count": 16,
   "metadata": {},
   "outputs": [
    {
     "name": "stderr",
     "output_type": "stream",
     "text": [
      "\u001b[38;20m[INFO] Environment: MetaDriveEnv\u001b[0m\n",
      "\u001b[38;20m[INFO] MetaDrive version: 0.4.2.3\u001b[0m\n",
      "\u001b[38;20m[INFO] Sensors: [lidar: Lidar(), side_detector: SideDetector(), lane_line_detector: LaneLineDetector()]\u001b[0m\n",
      "\u001b[38;20m[INFO] Render Mode: none\u001b[0m\n",
      "\u001b[38;20m[INFO] Horizon (Max steps per agent): None\u001b[0m\n",
      "\u001b[38;20m[INFO] Assets version: 0.4.2.3\u001b[0m\n",
      "\u001b[38;20m[INFO] Known Pipes: glxGraphicsPipe\u001b[0m\n",
      "\u001b[38;20m[INFO] Start Scenario Index: 0, Num Scenarios : 10\u001b[0m\n"
     ]
    },
    {
     "name": "stdout",
     "output_type": "stream",
     "text": [
      "env.current_seed = 7\n"
     ]
    },
    {
     "name": "stderr",
     "output_type": "stream",
     "text": [
      "\u001b[38;20m[INFO] Episode ended! Scenario Index: 7 Reason: out_of_road.\u001b[0m\n"
     ]
    },
    {
     "name": "stdout",
     "output_type": "stream",
     "text": [
      "env.current_seed = 7\n"
     ]
    },
    {
     "name": "stderr",
     "output_type": "stream",
     "text": [
      "\u001b[38;20m[INFO] Episode ended! Scenario Index: 7 Reason: out_of_road.\u001b[0m\n"
     ]
    },
    {
     "name": "stdout",
     "output_type": "stream",
     "text": [
      "env.current_seed = 7\n"
     ]
    },
    {
     "name": "stderr",
     "output_type": "stream",
     "text": [
      "\u001b[38;20m[INFO] Episode ended! Scenario Index: 7 Reason: out_of_road.\u001b[0m\n"
     ]
    },
    {
     "name": "stdout",
     "output_type": "stream",
     "text": [
      "env.current_seed = 7\n"
     ]
    },
    {
     "name": "stderr",
     "output_type": "stream",
     "text": [
      "\u001b[38;20m[INFO] Episode ended! Scenario Index: 7 Reason: out_of_road.\u001b[0m\n"
     ]
    },
    {
     "name": "stdout",
     "output_type": "stream",
     "text": [
      "env.current_seed = 7\n"
     ]
    },
    {
     "name": "stderr",
     "output_type": "stream",
     "text": [
      "\u001b[38;20m[INFO] Episode ended! Scenario Index: 7 Reason: out_of_road.\u001b[0m\n"
     ]
    },
    {
     "name": "stdout",
     "output_type": "stream",
     "text": [
      "env.current_seed = 7\n"
     ]
    },
    {
     "name": "stderr",
     "output_type": "stream",
     "text": [
      "\u001b[38;20m[INFO] Episode ended! Scenario Index: 7 Reason: out_of_road.\u001b[0m\n"
     ]
    },
    {
     "name": "stdout",
     "output_type": "stream",
     "text": [
      "env.current_seed = 7\n"
     ]
    },
    {
     "name": "stderr",
     "output_type": "stream",
     "text": [
      "\u001b[38;20m[INFO] Episode ended! Scenario Index: 7 Reason: out_of_road.\u001b[0m\n"
     ]
    },
    {
     "name": "stdout",
     "output_type": "stream",
     "text": [
      "env.current_seed = 7\n"
     ]
    },
    {
     "name": "stderr",
     "output_type": "stream",
     "text": [
      "\u001b[38;20m[INFO] Episode ended! Scenario Index: 7 Reason: out_of_road.\u001b[0m\n"
     ]
    },
    {
     "name": "stdout",
     "output_type": "stream",
     "text": [
      "env.current_seed = 7\n"
     ]
    },
    {
     "name": "stderr",
     "output_type": "stream",
     "text": [
      "\u001b[38;20m[INFO] Episode ended! Scenario Index: 7 Reason: out_of_road.\u001b[0m\n"
     ]
    },
    {
     "name": "stdout",
     "output_type": "stream",
     "text": [
      "env.current_seed = 7\n"
     ]
    },
    {
     "name": "stderr",
     "output_type": "stream",
     "text": [
      "\u001b[38;20m[INFO] Episode ended! Scenario Index: 7 Reason: out_of_road.\u001b[0m\n"
     ]
    }
   ],
   "source": [
    "\n",
    "\n",
    "traces = []\n",
    "n_scenarios = 10\n",
    "try:\n",
    "    env=MetaDriveEnv(config={\"map\":\"C\",\n",
    "                             \"num_scenarios\": n_scenarios,\n",
    "                             \"use_render\": False}\n",
    "    )\n",
    "\n",
    "    for rep in range(n_scenarios):\n",
    "\n",
    "        obs, step_info = env.reset(seed=7)\n",
    "        step_info['rep'] = rep\n",
    "        traces.append(step_info)\n",
    "        print(f'{env.current_seed = }')\n",
    "        while True:\n",
    "            obs, reward, tm, tr, step_info = env.step([0,1])\n",
    "            step_info['rep'] = rep\n",
    "            traces.append(step_info)\n",
    "\n",
    "            env.render(mode=\"topdown\", \n",
    "                    window=False,\n",
    "                    screen_record=True,\n",
    "                    # scaling = 1,\n",
    "                    # screen_size=(700, 870),\n",
    "                    # camera_position=(60,-63)\n",
    "                    )\n",
    "        \n",
    "            \n",
    "            if tm or tr:\n",
    "                break\n",
    "\n",
    "        # env.top_down_renderer.generate_gif(f\"{rep}.gif\")\n",
    "\n",
    "        # print(f'{obs = }')\n",
    "        # pprint(step_info)\n",
    "\n",
    "finally:\n",
    "    env.close()"
   ]
  },
  {
   "cell_type": "code",
   "execution_count": 17,
   "metadata": {},
   "outputs": [
    {
     "name": "stdout",
     "output_type": "stream",
     "text": [
      "previous.equals(next) = True\n",
      "previous.equals(next) = True\n",
      "previous.equals(next) = True\n",
      "previous.equals(next) = True\n",
      "previous.equals(next) = True\n",
      "previous.equals(next) = True\n",
      "previous.equals(next) = True\n",
      "previous.equals(next) = True\n",
      "previous.equals(next) = True\n"
     ]
    }
   ],
   "source": [
    "import pandas as pd\n",
    "\n",
    "df = pd.DataFrame(traces)\n",
    "df = df.select_dtypes('number')\n",
    "grouped = df.groupby('rep')\n",
    "\n",
    "for rep in range(1, n_scenarios):\n",
    "    previous = grouped.get_group(rep-1).reset_index(drop=True).drop('rep', axis=1)\n",
    "    next = grouped.get_group(rep).reset_index(drop=True).drop('rep', axis=1)\n",
    "    print(f'{previous.equals(next) = }')\n",
    "\n"
   ]
  },
  {
   "cell_type": "markdown",
   "metadata": {},
   "source": [
    "## Deterministic so far\n"
   ]
  },
  {
   "cell_type": "markdown",
   "metadata": {},
   "source": [
    "# Using ADS\n"
   ]
  },
  {
   "cell_type": "code",
   "execution_count": 18,
   "metadata": {},
   "outputs": [],
   "source": [
    "from metadrive.examples import expert\n",
    "\n",
    "# expert(deterministic=True)"
   ]
  },
  {
   "cell_type": "code",
   "execution_count": 19,
   "metadata": {},
   "outputs": [
    {
     "name": "stderr",
     "output_type": "stream",
     "text": [
      "\u001b[38;20m[INFO] Environment: MetaDriveEnv\u001b[0m\n",
      "\u001b[38;20m[INFO] MetaDrive version: 0.4.2.3\u001b[0m\n",
      "\u001b[38;20m[INFO] Sensors: [lidar: Lidar(), side_detector: SideDetector(), lane_line_detector: LaneLineDetector()]\u001b[0m\n",
      "\u001b[38;20m[INFO] Render Mode: none\u001b[0m\n",
      "\u001b[38;20m[INFO] Horizon (Max steps per agent): None\u001b[0m\n",
      "\u001b[38;20m[INFO] Assets version: 0.4.2.3\u001b[0m\n",
      "\u001b[38;20m[INFO] Known Pipes: glxGraphicsPipe\u001b[0m\n",
      "\u001b[38;20m[INFO] Start Scenario Index: 0, Num Scenarios : 10\u001b[0m\n"
     ]
    },
    {
     "name": "stdout",
     "output_type": "stream",
     "text": [
      "env.current_seed = 0\n"
     ]
    },
    {
     "name": "stderr",
     "output_type": "stream",
     "text": [
      "\u001b[38;20m[INFO] Episode ended! Scenario Index: 0 Reason: arrive_dest.\u001b[0m\n"
     ]
    },
    {
     "name": "stdout",
     "output_type": "stream",
     "text": [
      "env.current_seed = 0\n"
     ]
    },
    {
     "name": "stderr",
     "output_type": "stream",
     "text": [
      "\u001b[38;20m[INFO] Episode ended! Scenario Index: 0 Reason: arrive_dest.\u001b[0m\n"
     ]
    },
    {
     "name": "stdout",
     "output_type": "stream",
     "text": [
      "env.current_seed = 0\n"
     ]
    },
    {
     "name": "stderr",
     "output_type": "stream",
     "text": [
      "\u001b[38;20m[INFO] Episode ended! Scenario Index: 0 Reason: arrive_dest.\u001b[0m\n"
     ]
    },
    {
     "name": "stdout",
     "output_type": "stream",
     "text": [
      "env.current_seed = 0\n"
     ]
    },
    {
     "name": "stderr",
     "output_type": "stream",
     "text": [
      "\u001b[38;20m[INFO] Episode ended! Scenario Index: 0 Reason: arrive_dest.\u001b[0m\n"
     ]
    },
    {
     "name": "stdout",
     "output_type": "stream",
     "text": [
      "env.current_seed = 0\n"
     ]
    },
    {
     "name": "stderr",
     "output_type": "stream",
     "text": [
      "\u001b[38;20m[INFO] Episode ended! Scenario Index: 0 Reason: arrive_dest.\u001b[0m\n"
     ]
    },
    {
     "name": "stdout",
     "output_type": "stream",
     "text": [
      "env.current_seed = 0\n"
     ]
    },
    {
     "name": "stderr",
     "output_type": "stream",
     "text": [
      "\u001b[38;20m[INFO] Episode ended! Scenario Index: 0 Reason: arrive_dest.\u001b[0m\n"
     ]
    },
    {
     "name": "stdout",
     "output_type": "stream",
     "text": [
      "env.current_seed = 0\n"
     ]
    },
    {
     "name": "stderr",
     "output_type": "stream",
     "text": [
      "\u001b[38;20m[INFO] Episode ended! Scenario Index: 0 Reason: arrive_dest.\u001b[0m\n"
     ]
    },
    {
     "name": "stdout",
     "output_type": "stream",
     "text": [
      "env.current_seed = 0\n"
     ]
    },
    {
     "name": "stderr",
     "output_type": "stream",
     "text": [
      "\u001b[38;20m[INFO] Episode ended! Scenario Index: 0 Reason: arrive_dest.\u001b[0m\n"
     ]
    },
    {
     "name": "stdout",
     "output_type": "stream",
     "text": [
      "env.current_seed = 0\n"
     ]
    },
    {
     "name": "stderr",
     "output_type": "stream",
     "text": [
      "\u001b[38;20m[INFO] Episode ended! Scenario Index: 0 Reason: arrive_dest.\u001b[0m\n"
     ]
    },
    {
     "name": "stdout",
     "output_type": "stream",
     "text": [
      "env.current_seed = 0\n"
     ]
    },
    {
     "name": "stderr",
     "output_type": "stream",
     "text": [
      "\u001b[38;20m[INFO] Episode ended! Scenario Index: 0 Reason: arrive_dest.\u001b[0m\n"
     ]
    }
   ],
   "source": [
    "\n",
    "\n",
    "traces = []\n",
    "n_scenarios = 10\n",
    "try:\n",
    "    env=MetaDriveEnv(config={\"map\":\"C\",\n",
    "                             \"use_render\": False,\n",
    "                             \"num_scenarios\": n_scenarios}\n",
    "    )\n",
    "\n",
    "    for rep in range(n_scenarios):\n",
    "        obs, step_info = env.reset(seed=0)\n",
    "        step_info['rep'] = rep\n",
    "        traces.append(step_info)\n",
    "        print(f'{env.current_seed = }')\n",
    "        while True:\n",
    "            action = expert(env.agent, deterministic=True)\n",
    "            obs, reward, tm, tr, step_info = env.step(action)\n",
    "            step_info['rep'] = rep\n",
    "            traces.append(step_info)\n",
    "\n",
    "            env.render(mode=\"topdown\", \n",
    "                    window=False,\n",
    "                    screen_record=True,\n",
    "                    )\n",
    "        \n",
    "            if tm or tr:\n",
    "                break\n",
    "\n",
    "        # env.top_down_renderer.generate_gif(f\"ads_drive_{rep}.gif\")\n",
    "\n",
    "finally:\n",
    "    env.close()"
   ]
  },
  {
   "cell_type": "code",
   "execution_count": 20,
   "metadata": {},
   "outputs": [
    {
     "name": "stdout",
     "output_type": "stream",
     "text": [
      "previous.equals(next) = False\n",
      "previous.equals(next) = False\n",
      "previous.equals(next) = False\n",
      "previous.equals(next) = False\n",
      "previous.equals(next) = False\n",
      "previous.equals(next) = False\n",
      "previous.equals(next) = False\n",
      "previous.equals(next) = False\n",
      "previous.equals(next) = False\n"
     ]
    }
   ],
   "source": [
    "\n",
    "df = pd.DataFrame(traces)\n",
    "df = df.select_dtypes('number')\n",
    "grouped = df.groupby('rep')\n",
    "\n",
    "def strip(df):\n",
    "    return df.reset_index(drop=True).drop('rep', axis=1).round(3)\n",
    "\n",
    "for rep in range(1, n_scenarios):\n",
    "    previous = strip(grouped.get_group(rep-1))\n",
    "    next = strip(grouped.get_group(rep))\n",
    "    print(f'{previous.equals(next) = }')"
   ]
  },
  {
   "cell_type": "code",
   "execution_count": 21,
   "metadata": {},
   "outputs": [
    {
     "data": {
      "text/html": [
       "<div>\n",
       "<style scoped>\n",
       "    .dataframe tbody tr th:only-of-type {\n",
       "        vertical-align: middle;\n",
       "    }\n",
       "\n",
       "    .dataframe tbody tr th {\n",
       "        vertical-align: top;\n",
       "    }\n",
       "\n",
       "    .dataframe thead tr th {\n",
       "        text-align: left;\n",
       "    }\n",
       "</style>\n",
       "<table border=\"1\" class=\"dataframe\">\n",
       "  <thead>\n",
       "    <tr>\n",
       "      <th></th>\n",
       "      <th colspan=\"2\" halign=\"left\">velocity</th>\n",
       "      <th colspan=\"2\" halign=\"left\">episode_energy</th>\n",
       "      <th colspan=\"2\" halign=\"left\">episode_reward</th>\n",
       "    </tr>\n",
       "    <tr>\n",
       "      <th></th>\n",
       "      <th>self</th>\n",
       "      <th>other</th>\n",
       "      <th>self</th>\n",
       "      <th>other</th>\n",
       "      <th>self</th>\n",
       "      <th>other</th>\n",
       "    </tr>\n",
       "  </thead>\n",
       "  <tbody>\n",
       "    <tr>\n",
       "      <th>113</th>\n",
       "      <td>13.719</td>\n",
       "      <td>13.718</td>\n",
       "      <td>NaN</td>\n",
       "      <td>NaN</td>\n",
       "      <td>NaN</td>\n",
       "      <td>NaN</td>\n",
       "    </tr>\n",
       "    <tr>\n",
       "      <th>124</th>\n",
       "      <td>14.141</td>\n",
       "      <td>14.140</td>\n",
       "      <td>NaN</td>\n",
       "      <td>NaN</td>\n",
       "      <td>NaN</td>\n",
       "      <td>NaN</td>\n",
       "    </tr>\n",
       "    <tr>\n",
       "      <th>135</th>\n",
       "      <td>NaN</td>\n",
       "      <td>NaN</td>\n",
       "      <td>NaN</td>\n",
       "      <td>NaN</td>\n",
       "      <td>146.948</td>\n",
       "      <td>146.947</td>\n",
       "    </tr>\n",
       "    <tr>\n",
       "      <th>136</th>\n",
       "      <td>NaN</td>\n",
       "      <td>NaN</td>\n",
       "      <td>NaN</td>\n",
       "      <td>NaN</td>\n",
       "      <td>148.413</td>\n",
       "      <td>148.412</td>\n",
       "    </tr>\n",
       "    <tr>\n",
       "      <th>148</th>\n",
       "      <td>NaN</td>\n",
       "      <td>NaN</td>\n",
       "      <td>NaN</td>\n",
       "      <td>NaN</td>\n",
       "      <td>165.696</td>\n",
       "      <td>165.695</td>\n",
       "    </tr>\n",
       "    <tr>\n",
       "      <th>149</th>\n",
       "      <td>NaN</td>\n",
       "      <td>NaN</td>\n",
       "      <td>NaN</td>\n",
       "      <td>NaN</td>\n",
       "      <td>167.121</td>\n",
       "      <td>167.120</td>\n",
       "    </tr>\n",
       "    <tr>\n",
       "      <th>150</th>\n",
       "      <td>NaN</td>\n",
       "      <td>NaN</td>\n",
       "      <td>NaN</td>\n",
       "      <td>NaN</td>\n",
       "      <td>168.528</td>\n",
       "      <td>168.527</td>\n",
       "    </tr>\n",
       "    <tr>\n",
       "      <th>152</th>\n",
       "      <td>NaN</td>\n",
       "      <td>NaN</td>\n",
       "      <td>NaN</td>\n",
       "      <td>NaN</td>\n",
       "      <td>171.285</td>\n",
       "      <td>171.284</td>\n",
       "    </tr>\n",
       "    <tr>\n",
       "      <th>163</th>\n",
       "      <td>NaN</td>\n",
       "      <td>NaN</td>\n",
       "      <td>NaN</td>\n",
       "      <td>NaN</td>\n",
       "      <td>185.488</td>\n",
       "      <td>185.487</td>\n",
       "    </tr>\n",
       "    <tr>\n",
       "      <th>166</th>\n",
       "      <td>NaN</td>\n",
       "      <td>NaN</td>\n",
       "      <td>9.058</td>\n",
       "      <td>9.057</td>\n",
       "      <td>NaN</td>\n",
       "      <td>NaN</td>\n",
       "    </tr>\n",
       "    <tr>\n",
       "      <th>170</th>\n",
       "      <td>NaN</td>\n",
       "      <td>NaN</td>\n",
       "      <td>NaN</td>\n",
       "      <td>NaN</td>\n",
       "      <td>194.805</td>\n",
       "      <td>194.804</td>\n",
       "    </tr>\n",
       "    <tr>\n",
       "      <th>173</th>\n",
       "      <td>NaN</td>\n",
       "      <td>NaN</td>\n",
       "      <td>NaN</td>\n",
       "      <td>NaN</td>\n",
       "      <td>198.843</td>\n",
       "      <td>198.842</td>\n",
       "    </tr>\n",
       "    <tr>\n",
       "      <th>179</th>\n",
       "      <td>NaN</td>\n",
       "      <td>NaN</td>\n",
       "      <td>NaN</td>\n",
       "      <td>NaN</td>\n",
       "      <td>206.528</td>\n",
       "      <td>206.527</td>\n",
       "    </tr>\n",
       "    <tr>\n",
       "      <th>188</th>\n",
       "      <td>NaN</td>\n",
       "      <td>NaN</td>\n",
       "      <td>NaN</td>\n",
       "      <td>NaN</td>\n",
       "      <td>217.645</td>\n",
       "      <td>217.644</td>\n",
       "    </tr>\n",
       "    <tr>\n",
       "      <th>205</th>\n",
       "      <td>NaN</td>\n",
       "      <td>NaN</td>\n",
       "      <td>NaN</td>\n",
       "      <td>NaN</td>\n",
       "      <td>233.910</td>\n",
       "      <td>233.909</td>\n",
       "    </tr>\n",
       "    <tr>\n",
       "      <th>208</th>\n",
       "      <td>8.382</td>\n",
       "      <td>8.383</td>\n",
       "      <td>NaN</td>\n",
       "      <td>NaN</td>\n",
       "      <td>NaN</td>\n",
       "      <td>NaN</td>\n",
       "    </tr>\n",
       "  </tbody>\n",
       "</table>\n",
       "</div>"
      ],
      "text/plain": [
       "    velocity         episode_energy        episode_reward         \n",
       "        self   other           self  other           self    other\n",
       "113   13.719  13.718            NaN    NaN            NaN      NaN\n",
       "124   14.141  14.140            NaN    NaN            NaN      NaN\n",
       "135      NaN     NaN            NaN    NaN        146.948  146.947\n",
       "136      NaN     NaN            NaN    NaN        148.413  148.412\n",
       "148      NaN     NaN            NaN    NaN        165.696  165.695\n",
       "149      NaN     NaN            NaN    NaN        167.121  167.120\n",
       "150      NaN     NaN            NaN    NaN        168.528  168.527\n",
       "152      NaN     NaN            NaN    NaN        171.285  171.284\n",
       "163      NaN     NaN            NaN    NaN        185.488  185.487\n",
       "166      NaN     NaN          9.058  9.057            NaN      NaN\n",
       "170      NaN     NaN            NaN    NaN        194.805  194.804\n",
       "173      NaN     NaN            NaN    NaN        198.843  198.842\n",
       "179      NaN     NaN            NaN    NaN        206.528  206.527\n",
       "188      NaN     NaN            NaN    NaN        217.645  217.644\n",
       "205      NaN     NaN            NaN    NaN        233.910  233.909\n",
       "208    8.382   8.383            NaN    NaN            NaN      NaN"
      ]
     },
     "execution_count": 21,
     "metadata": {},
     "output_type": "execute_result"
    }
   ],
   "source": [
    "previous.compare(next, keep_equal=False)"
   ]
  },
  {
   "cell_type": "code",
   "execution_count": null,
   "metadata": {},
   "outputs": [],
   "source": []
  }
 ],
 "metadata": {
  "kernelspec": {
   "display_name": "metadrive",
   "language": "python",
   "name": "python3"
  },
  "language_info": {
   "codemirror_mode": {
    "name": "ipython",
    "version": 3
   },
   "file_extension": ".py",
   "mimetype": "text/x-python",
   "name": "python",
   "nbconvert_exporter": "python",
   "pygments_lexer": "ipython3",
   "version": "3.10.14"
  }
 },
 "nbformat": 4,
 "nbformat_minor": 2
}
