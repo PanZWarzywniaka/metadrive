{
 "cells": [
  {
   "cell_type": "code",
   "execution_count": null,
   "metadata": {},
   "outputs": [],
   "source": [
    "from metadrive.envs.metadrive_env import MetaDriveEnv\n",
    "from metadrive.component.map.base_map import BaseMap\n",
    "from metadrive.component.map.pg_map import MapGenerateMethod\n",
    "from metadrive.examples.ppo_expert.torch_expert import torch_expert as expert\n",
    "from metadrive.engine.logger import get_logger\n",
    "from IPython.display import Image, clear_output\n",
    "import pandas as pd\n",
    "from pprint import pprint\n",
    "\n",
    "import json\n",
    "\n",
    "from PIL import Image\n",
    "import numpy as np\n",
    "import logging\n",
    "import time"
   ]
  },
  {
   "cell_type": "code",
   "execution_count": null,
   "metadata": {},
   "outputs": [],
   "source": [
    "logger = get_logger()"
   ]
  },
  {
   "cell_type": "code",
   "execution_count": null,
   "metadata": {},
   "outputs": [],
   "source": [
    "def create_env(seed=0):\n",
    "    # ===== Termination Scheme =====\n",
    "    termination_sceme = dict(\n",
    "        out_of_route_done=False,\n",
    "        on_continuous_line_done=False,\n",
    "        crash_vehicle_done=True,\n",
    "        crash_object_done=True,\n",
    "        crash_human_done=True,\n",
    "    )\n",
    "    # ===== Map Config =====\n",
    "    map_config = {\n",
    "        BaseMap.GENERATE_TYPE: MapGenerateMethod.BIG_BLOCK_NUM,\n",
    "        BaseMap.GENERATE_CONFIG: 5,  # 20 block\n",
    "    }\n",
    "\n",
    "    cfg = dict(\n",
    "        # use_render=True,\n",
    "        log_level=logging.INFO,  # logging.DEBUG\n",
    "        start_seed=seed,\n",
    "        map_config=map_config,\n",
    "        **termination_sceme\n",
    "    )\n",
    "    env = MetaDriveEnv(config=cfg)\n",
    "    return env"
   ]
  },
  {
   "cell_type": "code",
   "execution_count": null,
   "metadata": {},
   "outputs": [],
   "source": [
    "def get_max_steps(env: MetaDriveEnv):\n",
    "    decision_repeat = env.config[\"decision_repeat\"]\n",
    "    dt = env.config[\"physics_world_step_size\"]\n",
    "    distance = env.agent.navigation.total_length\n",
    "    V_min = 2.0  # [m/s]  # set minimal velocity to 2m/s\n",
    "\n",
    "    max_steps = distance / (V_min * decision_repeat * dt)\n",
    "    logger.info(f\"Calculating max steps with: \")\n",
    "    logger.info(f\"{V_min=}, {decision_repeat=}, {dt=}, {distance=}, {max_steps=}\")\n",
    "    return round(max_steps)"
   ]
  },
  {
   "cell_type": "code",
   "execution_count": null,
   "metadata": {},
   "outputs": [],
   "source": [
    "def serialize_step_info(info) -> dict:\n",
    "\n",
    "    info[\"action\"] = [float(x) for x in info[\"action\"]]\n",
    "    info[\"raw_action\"] = [float(x) for x in info[\"raw_action\"]]\n",
    "    return info\n",
    "\n",
    "\n",
    "def state_action_loop(env: MetaDriveEnv, max_step: int) -> list:\n",
    "\n",
    "    steps_info = []\n",
    "    while True:\n",
    "\n",
    "        action = expert(env.agent, deterministic=True)\n",
    "        obs, reward, terminated, truncated, info = env.step(action)\n",
    "\n",
    "        if info[\"episode_length\"] == max_step:\n",
    "            truncated = True\n",
    "            info[\"max_step\"] = True\n",
    "\n",
    "        steps_info.append(serialize_step_info(info))\n",
    "\n",
    "        if terminated or truncated:\n",
    "            break\n",
    "\n",
    "    return steps_info\n",
    "\n",
    "\n",
    "# state_action_loop(env)"
   ]
  },
  {
   "cell_type": "code",
   "execution_count": null,
   "metadata": {},
   "outputs": [],
   "source": [
    "def process_timestamps(start_ts, initialized_ts, scenario_done_ts):\n",
    "\n",
    "    init_time = initialized_ts - start_ts\n",
    "    logger.info(f\"Initializing the env took {init_time:.2f}s\")\n",
    "\n",
    "    scenario_time = scenario_done_ts - initialized_ts\n",
    "    logger.info(f\"Running the scenario took {scenario_time:.2f}s\")\n",
    "\n",
    "    return locals()"
   ]
  },
  {
   "cell_type": "code",
   "execution_count": null,
   "metadata": {},
   "outputs": [],
   "source": [
    "def get_map_img(env):\n",
    "    map = env.current_map.get_semantic_map(\n",
    "        env.current_map.get_center_point(),\n",
    "    )\n",
    "    map = map.squeeze()  # reduce dimensionality\n",
    "    map = (map * 255 * 4).astype(np.uint8)\n",
    "    img = Image.fromarray(map)\n",
    "    return img"
   ]
  },
  {
   "cell_type": "code",
   "execution_count": null,
   "metadata": {},
   "outputs": [],
   "source": [
    "def run_scenario(seed: int = 0):\n",
    "\n",
    "    start_ts = time.perf_counter()\n",
    "\n",
    "    # initialize\n",
    "    env = create_env(seed)\n",
    "    _, reset_info = env.reset()\n",
    "\n",
    "    initialized_ts = time.perf_counter()\n",
    "\n",
    "    # running loop\n",
    "    max_step = get_max_steps(env)\n",
    "    steps_info = state_action_loop(env, max_step)\n",
    "    scenario_done_ts = time.perf_counter()\n",
    "\n",
    "    # save metadata\n",
    "    scenario_data = process_timestamps(start_ts, initialized_ts, scenario_done_ts)\n",
    "\n",
    "    steps_info.insert(0, reset_info)\n",
    "    scenario_data[\"steps_infos\"] = steps_info\n",
    "    scenario_data[\"map_data\"] = env.current_map.get_meta_data()[\"block_sequence\"]\n",
    "    scenario_data[\"max_steps\"] = max_step\n",
    "\n",
    "    with open(f\"eval_data/{seed}.json\", \"w\") as f:\n",
    "        json.dump(scenario_data, f, indent=4)\n",
    "\n",
    "    get_map_img(env).save(f\"eval_data/{seed}.png\")\n",
    "\n",
    "    data_saved_ts = time.perf_counter()\n",
    "    logger.info(f\"Saving data took {data_saved_ts-scenario_done_ts:.2f}s\")\n",
    "    logger.info(f\"Running scenario finished.\")\n",
    "\n",
    "    env.close()"
   ]
  },
  {
   "cell_type": "code",
   "execution_count": null,
   "metadata": {},
   "outputs": [],
   "source": [
    "run_scenario(seed=10)\n",
    "run_scenario(seed=69)\n",
    "run_scenario(seed=2137)"
   ]
  }
 ],
 "metadata": {
  "kernelspec": {
   "display_name": "metadrive",
   "language": "python",
   "name": "python3"
  },
  "language_info": {
   "codemirror_mode": {
    "name": "ipython",
    "version": 3
   },
   "file_extension": ".py",
   "mimetype": "text/x-python",
   "name": "python",
   "nbconvert_exporter": "python",
   "pygments_lexer": "ipython3",
   "version": "3.10.14"
  }
 },
 "nbformat": 4,
 "nbformat_minor": 2
}
