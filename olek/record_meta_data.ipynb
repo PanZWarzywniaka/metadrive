{
 "cells": [
  {
   "cell_type": "code",
   "execution_count": 2,
   "metadata": {},
   "outputs": [],
   "source": [
    "from metadrive.envs.metadrive_env import MetaDriveEnv\n",
    "from metadrive.component.map.base_map import BaseMap\n",
    "from metadrive.component.map.pg_map import MapGenerateMethod\n",
    "from metadrive.examples.ppo_expert.torch_expert import torch_expert as expert\n",
    "\n",
    "import logging\n",
    "from IPython.display import Image, clear_output\n",
    "import pandas as pd\n",
    "from pprint import pprint\n",
    "\n",
    "from PIL import Image\n",
    "import numpy as np"
   ]
  },
  {
   "cell_type": "code",
   "execution_count": 3,
   "metadata": {},
   "outputs": [],
   "source": [
    "def create_env(seed=0):\n",
    "    # ===== Termination Scheme =====\n",
    "    termination_sceme = dict(\n",
    "        out_of_route_done=False,\n",
    "        on_continuous_line_done=False,\n",
    "        crash_vehicle_done=True,\n",
    "        crash_object_done=True,\n",
    "        crash_human_done=True,\n",
    "    )\n",
    "    # ===== Map Config =====\n",
    "    map_config = {\n",
    "        BaseMap.GENERATE_TYPE: MapGenerateMethod.BIG_BLOCK_NUM,\n",
    "        BaseMap.GENERATE_CONFIG: 5,  # 20 block\n",
    "    }\n",
    "\n",
    "    cfg = dict(\n",
    "        # use_render=True,\n",
    "        start_seed=seed,\n",
    "        map_config=map_config,\n",
    "        **termination_sceme\n",
    "    )\n",
    "    env = MetaDriveEnv(config=cfg)\n",
    "    return env"
   ]
  },
  {
   "cell_type": "code",
   "execution_count": 4,
   "metadata": {},
   "outputs": [],
   "source": [
    "def run_scenario(seed: int = 0):\n",
    "    env = create_env(seed)\n",
    "    _, step_info = env.reset(seed)\n",
    "\n",
    "    while True:\n",
    "        # get action from expert driving\n",
    "        action = expert(env.agent, deterministic=True)\n",
    "        obs, reward, tm, tr, step_info = env.step(action)\n",
    "\n",
    "        if tm or tr:\n",
    "            break\n",
    "\n",
    "    # save_map_data(env)\n",
    "    env.close()"
   ]
  },
  {
   "cell_type": "code",
   "execution_count": null,
   "metadata": {},
   "outputs": [],
   "source": [
    "def state_action_loop(env: MetaDriveEnv):\n",
    "    for _ in range()"
   ]
  },
  {
   "cell_type": "code",
   "execution_count": null,
   "metadata": {},
   "outputs": [],
   "source": [
    "# start time\n",
    "\n",
    "# initialize\n",
    "# reset\n",
    "\n",
    "# calculate max step\n",
    "# scenario loop\n",
    "# time stamp\n",
    "# close\n",
    "# time stamp\n",
    "# save data"
   ]
  },
  {
   "cell_type": "code",
   "execution_count": 5,
   "metadata": {},
   "outputs": [],
   "source": [
    "# run_scenario(10)"
   ]
  },
  {
   "cell_type": "code",
   "execution_count": 6,
   "metadata": {},
   "outputs": [
    {
     "name": "stderr",
     "output_type": "stream",
     "text": [
      "\u001b[38;20m[INFO] Environment: MetaDriveEnv\u001b[0m\n",
      "\u001b[38;20m[INFO] MetaDrive version: 0.4.2.3\u001b[0m\n",
      "\u001b[38;20m[INFO] Sensors: [lidar: Lidar(), side_detector: SideDetector(), lane_line_detector: LaneLineDetector()]\u001b[0m\n",
      "\u001b[38;20m[INFO] Render Mode: none\u001b[0m\n",
      "\u001b[38;20m[INFO] Horizon (Max steps per agent): 1000\u001b[0m\n",
      "\u001b[38;20m[INFO] Assets version: 0.4.2.3\u001b[0m\n",
      "\u001b[38;20m[INFO] Known Pipes: glxGraphicsPipe\u001b[0m\n",
      "\u001b[38;20m[INFO] Start Scenario Index: 123, Num Scenarios : 1\u001b[0m\n"
     ]
    }
   ],
   "source": [
    "env = create_env(seed=123)\n",
    "obs, step_info = env.reset()"
   ]
  },
  {
   "cell_type": "code",
   "execution_count": 7,
   "metadata": {},
   "outputs": [
    {
     "data": {
      "text/plain": [
       "{'navigation_command': 'forward',\n",
       " 'navigation_forward': True,\n",
       " 'navigation_left': False,\n",
       " 'navigation_right': False,\n",
       " 'overtake_vehicle_num': 0,\n",
       " 'velocity': 0.0,\n",
       " 'steering': 0.0,\n",
       " 'acceleration': 0.0,\n",
       " 'step_energy': 0.0,\n",
       " 'episode_energy': 0.0,\n",
       " 'policy': 'EnvInputPolicy',\n",
       " 'crash_vehicle': False,\n",
       " 'crash_object': False,\n",
       " 'crash_building': False,\n",
       " 'crash_human': False,\n",
       " 'crash_sidewalk': False,\n",
       " 'out_of_road': False,\n",
       " 'arrive_dest': False,\n",
       " 'max_step': False,\n",
       " 'env_seed': 123,\n",
       " 'crash': False,\n",
       " 'step_reward': 0.0,\n",
       " 'route_completion': 0.007659240007649569,\n",
       " 'cost': 0}"
      ]
     },
     "execution_count": 7,
     "metadata": {},
     "output_type": "execute_result"
    }
   ],
   "source": [
    "step_info"
   ]
  },
  {
   "cell_type": "code",
   "execution_count": 13,
   "metadata": {},
   "outputs": [
    {
     "data": {
      "text/plain": [
       "3264"
      ]
     },
     "execution_count": 13,
     "metadata": {},
     "output_type": "execute_result"
    }
   ],
   "source": [
    "def get_max_steps(env: MetaDriveEnv, decision_repeat=5, dt=0.02):\n",
    "    distance = env.agent.navigation.total_length\n",
    "    V_min = 2  # set minimal velocity to 2m/s\n",
    "\n",
    "    max_steps = distance / (V_min * decision_repeat * dt)\n",
    "    return round(max_steps)\n",
    "\n",
    "\n",
    "get_max_steps(env)"
   ]
  },
  {
   "cell_type": "code",
   "execution_count": null,
   "metadata": {},
   "outputs": [],
   "source": [
    "for step in range(5):\n",
    "\n",
    "    # get action from expert driving, or a dummy action\n",
    "    action = expert(env.agent, deterministic=True)\n",
    "    obs, reward, tm, tr, step_info = env.step(action)\n",
    "\n",
    "    if tm or tr:\n",
    "        break"
   ]
  },
  {
   "cell_type": "code",
   "execution_count": null,
   "metadata": {},
   "outputs": [],
   "source": [
    "def get_map_img(env):\n",
    "    map = env.current_map.get_semantic_map(\n",
    "        env.current_map.get_center_point(),\n",
    "    )\n",
    "    map = map.squeeze()  # reduce dimensionality\n",
    "    map = (map * 255 * 4).astype(np.uint8)\n",
    "    img = Image.fromarray(map)\n",
    "    return img\n",
    "\n",
    "\n",
    "get_map_img(env)"
   ]
  },
  {
   "cell_type": "code",
   "execution_count": null,
   "metadata": {},
   "outputs": [],
   "source": [
    "step_info"
   ]
  },
  {
   "cell_type": "code",
   "execution_count": null,
   "metadata": {},
   "outputs": [],
   "source": [
    "import json\n",
    "\n",
    "map = env.current_map\n",
    "map_data = map.get_meta_data()\n",
    "# pprint(map_data[\"block_sequence\"])"
   ]
  },
  {
   "cell_type": "code",
   "execution_count": null,
   "metadata": {},
   "outputs": [],
   "source": [
    "total_length = env.agent.navigation.total_length\n",
    "travelled = env.agent.navigation.travelled_length\n",
    "\n",
    "travelled / total_length"
   ]
  },
  {
   "cell_type": "code",
   "execution_count": null,
   "metadata": {},
   "outputs": [],
   "source": [
    "# with open(\"dupa.json\", \"w\") as f:\n",
    "#     json.dump(map_data[\"block_sequence\"], f, indent=4)"
   ]
  }
 ],
 "metadata": {
  "kernelspec": {
   "display_name": "metadrive",
   "language": "python",
   "name": "python3"
  },
  "language_info": {
   "codemirror_mode": {
    "name": "ipython",
    "version": 3
   },
   "file_extension": ".py",
   "mimetype": "text/x-python",
   "name": "python",
   "nbconvert_exporter": "python",
   "pygments_lexer": "ipython3",
   "version": "3.10.14"
  }
 },
 "nbformat": 4,
 "nbformat_minor": 2
}
