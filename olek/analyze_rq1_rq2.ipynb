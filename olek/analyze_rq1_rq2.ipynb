{
 "cells": [
  {
   "cell_type": "code",
   "execution_count": 1,
   "metadata": {},
   "outputs": [],
   "source": [
    "import pandas as pd\n",
    "from pathlib import Path\n",
    "import json\n",
    "from pprint import pprint\n",
    "import math\n",
    "from tqdm import tqdm\n",
    "import seaborn as sns\n",
    "import matplotlib.pyplot as plt\n",
    "from matplotlib import cm\n",
    "\n",
    "DATA_DIR = Path(\"data/benchmarking/nogif\")"
   ]
  },
  {
   "cell_type": "markdown",
   "metadata": {},
   "source": [
    "## Load data\n"
   ]
  },
  {
   "cell_type": "code",
   "execution_count": 2,
   "metadata": {},
   "outputs": [],
   "source": [
    "def get_in_road_percentage(steps_df: pd.DataFrame) -> float:\n",
    "    ret = steps_df[\"out_of_road\"].value_counts(normalize=True).at[False]\n",
    "    return ret"
   ]
  },
  {
   "cell_type": "code",
   "execution_count": 3,
   "metadata": {},
   "outputs": [],
   "source": [
    "def get_n_sidewalk_crashes(steps_df: pd.DataFrame) -> int:\n",
    "    \"\"\"Count number of crash episodes to not count same crash multiple times\"\"\"\n",
    "    try:\n",
    "        # count number of times \"crash\" becomes True for some time\n",
    "        n_crashes = steps_df[\"crash_sidewalk\"].diff().value_counts().at[True]\n",
    "\n",
    "        # need to divide by 2 beacouse diff counts twice\n",
    "        n_crashes /= 2\n",
    "\n",
    "        # just in case crash is last episode and we have 3.5 crash episodes make it 4\n",
    "        n_crashes = math.ceil(n_crashes)\n",
    "    except KeyError:\n",
    "        n_crashes = 0\n",
    "\n",
    "    return n_crashes"
   ]
  },
  {
   "cell_type": "code",
   "execution_count": 4,
   "metadata": {},
   "outputs": [],
   "source": [
    "def process_steps(steps_infos: list) -> dict:\n",
    "    \"\"\"Accepts a list of steps and returns a dict of interesting data\"\"\"\n",
    "\n",
    "    steps_df = pd.DataFrame(steps_infos)\n",
    "    steps_data = {}\n",
    "    last_step = steps_df.iloc[-1]\n",
    "\n",
    "    steps_data = {\n",
    "        \"termination.arrive_dest\": last_step[\"arrive_dest\"],\n",
    "        \"termination.timeout\": last_step[\"max_step\"],\n",
    "        \"route_completion\": last_step[\"route_completion\"],\n",
    "        \"seed\": last_step[\"env_seed\"],\n",
    "        \"in_road_percentage\": get_in_road_percentage(steps_df),\n",
    "        \"n_sidewalk_crashes\": get_n_sidewalk_crashes(steps_df),\n",
    "    }\n",
    "\n",
    "    return steps_data"
   ]
  },
  {
   "cell_type": "code",
   "execution_count": 5,
   "metadata": {},
   "outputs": [],
   "source": [
    "def get_scenarios_df(dir: Path):\n",
    "    paths = list(dir.glob(\"*/*.json\"))\n",
    "\n",
    "    scenarios = []\n",
    "    for file_path in tqdm(paths):\n",
    "\n",
    "        with open(file_path, \"r\") as f:\n",
    "            scenario_data = json.load(f)\n",
    "\n",
    "        dir = file_path.__str__().split(\"/\")[-2]\n",
    "        _, dr, _, dt = dir.split(\"_\")\n",
    "        scenario_data[\"decision_repeat\"] = int(dr)\n",
    "        scenario_data[\"dt\"] = float(dt)\n",
    "\n",
    "        steps_infos = scenario_data.pop(\"steps_infos\")\n",
    "        scenario_data.update(process_steps(steps_infos))\n",
    "        scenarios.append(scenario_data)\n",
    "    return pd.DataFrame(scenarios)"
   ]
  },
  {
   "cell_type": "code",
   "execution_count": 6,
   "metadata": {},
   "outputs": [
    {
     "name": "stderr",
     "output_type": "stream",
     "text": [
      "  0%|          | 0/1200 [00:00<?, ?it/s]"
     ]
    },
    {
     "name": "stderr",
     "output_type": "stream",
     "text": [
      "100%|██████████| 1200/1200 [00:13<00:00, 88.68it/s] \n"
     ]
    }
   ],
   "source": [
    "df = get_scenarios_df(DATA_DIR)"
   ]
  },
  {
   "cell_type": "code",
   "execution_count": 7,
   "metadata": {},
   "outputs": [],
   "source": [
    "df = df.set_index(\n",
    "    [\n",
    "        \"dt\",\n",
    "        \"decision_repeat\",\n",
    "        \"seed\",\n",
    "    ],\n",
    "    verify_integrity=True,\n",
    ")\n",
    "\n",
    "df = df.sort_index()"
   ]
  },
  {
   "cell_type": "code",
   "execution_count": 8,
   "metadata": {},
   "outputs": [
    {
     "data": {
      "text/plain": [
       "count    1200.000000\n",
       "mean        0.556667\n",
       "std         1.204712\n",
       "min         0.000000\n",
       "25%         0.000000\n",
       "50%         0.000000\n",
       "75%         1.000000\n",
       "max        11.000000\n",
       "Name: n_sidewalk_crashes, dtype: float64"
      ]
     },
     "execution_count": 8,
     "metadata": {},
     "output_type": "execute_result"
    }
   ],
   "source": [
    "df[\"n_crashed_vehicles\"].describe()\n",
    "df[\"n_sidewalk_crashes\"].describe()"
   ]
  },
  {
   "cell_type": "code",
   "execution_count": 9,
   "metadata": {},
   "outputs": [],
   "source": [
    "# calculate driving score\n",
    "# ! Problem changing the values here in the analysis can change % error\n",
    "\n",
    "df[\"driving_score\"] = (\n",
    "    df[\"route_completion\"]\n",
    "    * df[\"in_road_percentage\"]\n",
    "    * (0.65) ** df[\"n_sidewalk_crashes\"]\n",
    "    * (0.60) ** df[\"n_crashed_vehicles\"]\n",
    ")"
   ]
  },
  {
   "cell_type": "code",
   "execution_count": 10,
   "metadata": {},
   "outputs": [
    {
     "data": {
      "text/plain": [
       "count   100.000\n",
       "mean      0.757\n",
       "std       0.277\n",
       "min       0.050\n",
       "25%       0.595\n",
       "50%       0.989\n",
       "75%       0.991\n",
       "max       0.995\n",
       "Name: driving_score, dtype: float64"
      ]
     },
     "execution_count": 10,
     "metadata": {},
     "output_type": "execute_result"
    }
   ],
   "source": [
    "# oracle if the one of default parameters\n",
    "oracle_ds = df.xs((0.02, 5))[\"driving_score\"]\n",
    "pd.set_option(\"display.float_format\", lambda x: \"%.3f\" % x)\n",
    "oracle_ds.describe()"
   ]
  },
  {
   "cell_type": "code",
   "execution_count": 11,
   "metadata": {},
   "outputs": [],
   "source": [
    "df[\"driving_score_error\"] = (df[\"driving_score\"] - oracle_ds).abs()\n",
    "# df"
   ]
  },
  {
   "cell_type": "code",
   "execution_count": 12,
   "metadata": {},
   "outputs": [
    {
     "data": {
      "text/plain": [
       "[5, 10, 15, 20]"
      ]
     },
     "execution_count": 12,
     "metadata": {},
     "output_type": "execute_result"
    }
   ],
   "source": [
    "palette = sns.color_palette(\"hls\", 3)\n",
    "x_ticks = df.index.get_level_values(\"decision_repeat\").unique().to_list()\n",
    "x_ticks"
   ]
  },
  {
   "cell_type": "markdown",
   "metadata": {},
   "source": [
    "## Original plotting\n"
   ]
  },
  {
   "cell_type": "code",
   "execution_count": 13,
   "metadata": {},
   "outputs": [
    {
     "data": {
      "text/html": [
       "<div>\n",
       "<style scoped>\n",
       "    .dataframe tbody tr th:only-of-type {\n",
       "        vertical-align: middle;\n",
       "    }\n",
       "\n",
       "    .dataframe tbody tr th {\n",
       "        vertical-align: top;\n",
       "    }\n",
       "\n",
       "    .dataframe thead th {\n",
       "        text-align: right;\n",
       "    }\n",
       "</style>\n",
       "<table border=\"1\" class=\"dataframe\">\n",
       "  <thead>\n",
       "    <tr style=\"text-align: right;\">\n",
       "      <th></th>\n",
       "      <th></th>\n",
       "      <th>def.max_steps</th>\n",
       "      <th>start_ts</th>\n",
       "      <th>initialized_ts</th>\n",
       "      <th>scenario_done_ts</th>\n",
       "      <th>init_time</th>\n",
       "      <th>scenario_time</th>\n",
       "      <th>total_time</th>\n",
       "      <th>n_crashed_vehicles</th>\n",
       "      <th>route_completion</th>\n",
       "      <th>in_road_percentage</th>\n",
       "      <th>n_sidewalk_crashes</th>\n",
       "      <th>driving_score</th>\n",
       "      <th>driving_score_error</th>\n",
       "    </tr>\n",
       "    <tr>\n",
       "      <th>dt</th>\n",
       "      <th>decision_repeat</th>\n",
       "      <th></th>\n",
       "      <th></th>\n",
       "      <th></th>\n",
       "      <th></th>\n",
       "      <th></th>\n",
       "      <th></th>\n",
       "      <th></th>\n",
       "      <th></th>\n",
       "      <th></th>\n",
       "      <th></th>\n",
       "      <th></th>\n",
       "      <th></th>\n",
       "      <th></th>\n",
       "    </tr>\n",
       "  </thead>\n",
       "  <tbody>\n",
       "    <tr>\n",
       "      <th rowspan=\"4\" valign=\"top\">0.020</th>\n",
       "      <th>5</th>\n",
       "      <td>2738.680</td>\n",
       "      <td>4050.879</td>\n",
       "      <td>4051.235</td>\n",
       "      <td>4056.094</td>\n",
       "      <td>0.355</td>\n",
       "      <td>4.860</td>\n",
       "      <td>5.215</td>\n",
       "      <td>0.620</td>\n",
       "      <td>0.967</td>\n",
       "      <td>1.000</td>\n",
       "      <td>0.050</td>\n",
       "      <td>0.757</td>\n",
       "      <td>0.000</td>\n",
       "    </tr>\n",
       "    <tr>\n",
       "      <th>10</th>\n",
       "      <td>1369.320</td>\n",
       "      <td>4063.517</td>\n",
       "      <td>4063.867</td>\n",
       "      <td>4066.896</td>\n",
       "      <td>0.350</td>\n",
       "      <td>3.029</td>\n",
       "      <td>3.378</td>\n",
       "      <td>0.650</td>\n",
       "      <td>0.968</td>\n",
       "      <td>1.000</td>\n",
       "      <td>0.070</td>\n",
       "      <td>0.744</td>\n",
       "      <td>0.160</td>\n",
       "    </tr>\n",
       "    <tr>\n",
       "      <th>15</th>\n",
       "      <td>912.860</td>\n",
       "      <td>4072.549</td>\n",
       "      <td>4072.905</td>\n",
       "      <td>4075.543</td>\n",
       "      <td>0.356</td>\n",
       "      <td>2.638</td>\n",
       "      <td>2.994</td>\n",
       "      <td>0.850</td>\n",
       "      <td>0.953</td>\n",
       "      <td>1.000</td>\n",
       "      <td>0.280</td>\n",
       "      <td>0.642</td>\n",
       "      <td>0.200</td>\n",
       "    </tr>\n",
       "    <tr>\n",
       "      <th>20</th>\n",
       "      <td>684.650</td>\n",
       "      <td>4080.325</td>\n",
       "      <td>4080.676</td>\n",
       "      <td>4083.068</td>\n",
       "      <td>0.351</td>\n",
       "      <td>2.393</td>\n",
       "      <td>2.744</td>\n",
       "      <td>0.890</td>\n",
       "      <td>0.972</td>\n",
       "      <td>1.000</td>\n",
       "      <td>0.480</td>\n",
       "      <td>0.603</td>\n",
       "      <td>0.258</td>\n",
       "    </tr>\n",
       "    <tr>\n",
       "      <th rowspan=\"4\" valign=\"top\">0.030</th>\n",
       "      <th>5</th>\n",
       "      <td>1825.790</td>\n",
       "      <td>4056.395</td>\n",
       "      <td>4056.735</td>\n",
       "      <td>4060.016</td>\n",
       "      <td>0.340</td>\n",
       "      <td>3.281</td>\n",
       "      <td>3.621</td>\n",
       "      <td>0.620</td>\n",
       "      <td>0.974</td>\n",
       "      <td>1.000</td>\n",
       "      <td>0.130</td>\n",
       "      <td>0.744</td>\n",
       "      <td>0.141</td>\n",
       "    </tr>\n",
       "    <tr>\n",
       "      <th>10</th>\n",
       "      <td>912.860</td>\n",
       "      <td>4067.182</td>\n",
       "      <td>4067.533</td>\n",
       "      <td>4069.729</td>\n",
       "      <td>0.350</td>\n",
       "      <td>2.196</td>\n",
       "      <td>2.547</td>\n",
       "      <td>0.870</td>\n",
       "      <td>0.962</td>\n",
       "      <td>1.000</td>\n",
       "      <td>0.350</td>\n",
       "      <td>0.635</td>\n",
       "      <td>0.241</td>\n",
       "    </tr>\n",
       "    <tr>\n",
       "      <th>15</th>\n",
       "      <td>608.620</td>\n",
       "      <td>4075.827</td>\n",
       "      <td>4076.181</td>\n",
       "      <td>4078.107</td>\n",
       "      <td>0.354</td>\n",
       "      <td>1.926</td>\n",
       "      <td>2.280</td>\n",
       "      <td>1.180</td>\n",
       "      <td>0.914</td>\n",
       "      <td>0.998</td>\n",
       "      <td>0.700</td>\n",
       "      <td>0.466</td>\n",
       "      <td>0.366</td>\n",
       "    </tr>\n",
       "    <tr>\n",
       "      <th>20</th>\n",
       "      <td>456.450</td>\n",
       "      <td>4083.351</td>\n",
       "      <td>4083.700</td>\n",
       "      <td>4085.176</td>\n",
       "      <td>0.349</td>\n",
       "      <td>1.476</td>\n",
       "      <td>1.825</td>\n",
       "      <td>1.210</td>\n",
       "      <td>0.818</td>\n",
       "      <td>0.995</td>\n",
       "      <td>0.890</td>\n",
       "      <td>0.365</td>\n",
       "      <td>0.435</td>\n",
       "    </tr>\n",
       "    <tr>\n",
       "      <th rowspan=\"4\" valign=\"top\">0.040</th>\n",
       "      <th>5</th>\n",
       "      <td>1369.320</td>\n",
       "      <td>4060.313</td>\n",
       "      <td>4060.657</td>\n",
       "      <td>4063.227</td>\n",
       "      <td>0.343</td>\n",
       "      <td>2.570</td>\n",
       "      <td>2.913</td>\n",
       "      <td>0.730</td>\n",
       "      <td>0.972</td>\n",
       "      <td>1.000</td>\n",
       "      <td>0.300</td>\n",
       "      <td>0.685</td>\n",
       "      <td>0.229</td>\n",
       "    </tr>\n",
       "    <tr>\n",
       "      <th>10</th>\n",
       "      <td>684.650</td>\n",
       "      <td>4070.016</td>\n",
       "      <td>4070.371</td>\n",
       "      <td>4072.263</td>\n",
       "      <td>0.355</td>\n",
       "      <td>1.892</td>\n",
       "      <td>2.247</td>\n",
       "      <td>1.230</td>\n",
       "      <td>0.940</td>\n",
       "      <td>0.999</td>\n",
       "      <td>0.900</td>\n",
       "      <td>0.445</td>\n",
       "      <td>0.381</td>\n",
       "    </tr>\n",
       "    <tr>\n",
       "      <th>15</th>\n",
       "      <td>456.450</td>\n",
       "      <td>4078.385</td>\n",
       "      <td>4078.732</td>\n",
       "      <td>4080.043</td>\n",
       "      <td>0.348</td>\n",
       "      <td>1.310</td>\n",
       "      <td>1.658</td>\n",
       "      <td>1.430</td>\n",
       "      <td>0.884</td>\n",
       "      <td>0.996</td>\n",
       "      <td>1.180</td>\n",
       "      <td>0.336</td>\n",
       "      <td>0.474</td>\n",
       "    </tr>\n",
       "    <tr>\n",
       "      <th>20</th>\n",
       "      <td>342.370</td>\n",
       "      <td>4085.454</td>\n",
       "      <td>4085.800</td>\n",
       "      <td>4086.746</td>\n",
       "      <td>0.345</td>\n",
       "      <td>0.946</td>\n",
       "      <td>1.291</td>\n",
       "      <td>0.940</td>\n",
       "      <td>0.668</td>\n",
       "      <td>0.990</td>\n",
       "      <td>1.350</td>\n",
       "      <td>0.271</td>\n",
       "      <td>0.508</td>\n",
       "    </tr>\n",
       "  </tbody>\n",
       "</table>\n",
       "</div>"
      ],
      "text/plain": [
       "                       def.max_steps  start_ts  initialized_ts  \\\n",
       "dt    decision_repeat                                            \n",
       "0.020 5                     2738.680  4050.879        4051.235   \n",
       "      10                    1369.320  4063.517        4063.867   \n",
       "      15                     912.860  4072.549        4072.905   \n",
       "      20                     684.650  4080.325        4080.676   \n",
       "0.030 5                     1825.790  4056.395        4056.735   \n",
       "      10                     912.860  4067.182        4067.533   \n",
       "      15                     608.620  4075.827        4076.181   \n",
       "      20                     456.450  4083.351        4083.700   \n",
       "0.040 5                     1369.320  4060.313        4060.657   \n",
       "      10                     684.650  4070.016        4070.371   \n",
       "      15                     456.450  4078.385        4078.732   \n",
       "      20                     342.370  4085.454        4085.800   \n",
       "\n",
       "                       scenario_done_ts  init_time  scenario_time  total_time  \\\n",
       "dt    decision_repeat                                                           \n",
       "0.020 5                        4056.094      0.355          4.860       5.215   \n",
       "      10                       4066.896      0.350          3.029       3.378   \n",
       "      15                       4075.543      0.356          2.638       2.994   \n",
       "      20                       4083.068      0.351          2.393       2.744   \n",
       "0.030 5                        4060.016      0.340          3.281       3.621   \n",
       "      10                       4069.729      0.350          2.196       2.547   \n",
       "      15                       4078.107      0.354          1.926       2.280   \n",
       "      20                       4085.176      0.349          1.476       1.825   \n",
       "0.040 5                        4063.227      0.343          2.570       2.913   \n",
       "      10                       4072.263      0.355          1.892       2.247   \n",
       "      15                       4080.043      0.348          1.310       1.658   \n",
       "      20                       4086.746      0.345          0.946       1.291   \n",
       "\n",
       "                       n_crashed_vehicles  route_completion  \\\n",
       "dt    decision_repeat                                         \n",
       "0.020 5                             0.620             0.967   \n",
       "      10                            0.650             0.968   \n",
       "      15                            0.850             0.953   \n",
       "      20                            0.890             0.972   \n",
       "0.030 5                             0.620             0.974   \n",
       "      10                            0.870             0.962   \n",
       "      15                            1.180             0.914   \n",
       "      20                            1.210             0.818   \n",
       "0.040 5                             0.730             0.972   \n",
       "      10                            1.230             0.940   \n",
       "      15                            1.430             0.884   \n",
       "      20                            0.940             0.668   \n",
       "\n",
       "                       in_road_percentage  n_sidewalk_crashes  driving_score  \\\n",
       "dt    decision_repeat                                                          \n",
       "0.020 5                             1.000               0.050          0.757   \n",
       "      10                            1.000               0.070          0.744   \n",
       "      15                            1.000               0.280          0.642   \n",
       "      20                            1.000               0.480          0.603   \n",
       "0.030 5                             1.000               0.130          0.744   \n",
       "      10                            1.000               0.350          0.635   \n",
       "      15                            0.998               0.700          0.466   \n",
       "      20                            0.995               0.890          0.365   \n",
       "0.040 5                             1.000               0.300          0.685   \n",
       "      10                            0.999               0.900          0.445   \n",
       "      15                            0.996               1.180          0.336   \n",
       "      20                            0.990               1.350          0.271   \n",
       "\n",
       "                       driving_score_error  \n",
       "dt    decision_repeat                       \n",
       "0.020 5                              0.000  \n",
       "      10                             0.160  \n",
       "      15                             0.200  \n",
       "      20                             0.258  \n",
       "0.030 5                              0.141  \n",
       "      10                             0.241  \n",
       "      15                             0.366  \n",
       "      20                             0.435  \n",
       "0.040 5                              0.229  \n",
       "      10                             0.381  \n",
       "      15                             0.474  \n",
       "      20                             0.508  "
      ]
     },
     "execution_count": 13,
     "metadata": {},
     "output_type": "execute_result"
    }
   ],
   "source": [
    "agg = df.select_dtypes(\"number\").groupby(by=[\"dt\", \"decision_repeat\"]).mean()\n",
    "agg"
   ]
  },
  {
   "cell_type": "markdown",
   "metadata": {},
   "source": [
    "### RQ1\n"
   ]
  },
  {
   "cell_type": "code",
   "execution_count": 14,
   "metadata": {},
   "outputs": [
    {
     "data": {
      "text/plain": [
       "Text(0.5, 0, 'Decision repeat')"
      ]
     },
     "execution_count": 14,
     "metadata": {},
     "output_type": "execute_result"
    },
    {
     "data": {
      "image/png": "[encoded data removed]",
      "text/plain": [
       "<Figure size 640x480 with 1 Axes>"
      ]
     },
     "metadata": {},
     "output_type": "display_data"
    }
   ],
   "source": [
    "ax = sns.scatterplot(\n",
    "    agg, x=\"decision_repeat\", y=\"total_time\", hue=\"dt\", palette=palette\n",
    ")\n",
    "ax.set_ylim(0)\n",
    "ax.set_ylabel(\"System time [s]\")\n",
    "ax.set_xlabel(\"Decision repeat\")\n",
    "# ax.set_xticks(x_ticks)"
   ]
  },
  {
   "cell_type": "markdown",
   "metadata": {},
   "source": [
    "### RQ2\n"
   ]
  },
  {
   "cell_type": "code",
   "execution_count": 15,
   "metadata": {},
   "outputs": [
    {
     "data": {
      "text/plain": [
       "Text(0, 0.5, 'Driving Score Error')"
      ]
     },
     "execution_count": 15,
     "metadata": {},
     "output_type": "execute_result"
    },
    {
     "data": {
      "image/png": "[encoded data removed]",
      "text/plain": [
       "<Figure size 640x480 with 1 Axes>"
      ]
     },
     "metadata": {},
     "output_type": "display_data"
    }
   ],
   "source": [
    "ax = sns.scatterplot(\n",
    "    agg, x=\"decision_repeat\", y=\"driving_score_error\", hue=\"dt\", palette=palette\n",
    ")\n",
    "\n",
    "ax.set_xlabel(\"Decision repeat\")\n",
    "ax.set_ylabel(\"Driving Score Error\")"
   ]
  },
  {
   "cell_type": "markdown",
   "metadata": {},
   "source": [
    "### Pareto optimality RQ1&2\n"
   ]
  },
  {
   "cell_type": "code",
   "execution_count": 16,
   "metadata": {},
   "outputs": [
    {
     "data": {
      "text/plain": [
       "Text(24.000000000000007, 0.5, 'Driving Score Error')"
      ]
     },
     "execution_count": 16,
     "metadata": {},
     "output_type": "execute_result"
    },
    {
     "data": {
      "image/png": "[encoded data removed]",
      "text/plain": [
       "<Figure size 640x480 with 1 Axes>"
      ]
     },
     "metadata": {},
     "output_type": "display_data"
    }
   ],
   "source": [
    "eax = sns.scatterplot(\n",
    "    agg,\n",
    "    x=\"total_time\",\n",
    "    y=\"driving_score_error\",\n",
    "    style=\"decision_repeat\",\n",
    "    hue=\"dt\",\n",
    "    palette=palette,\n",
    ")\n",
    "\n",
    "ax.set_xlabel(\"System time [s]\")\n",
    "ax.set_ylabel(\"Driving Score Error\")"
   ]
  }
 ],
 "metadata": {
  "kernelspec": {
   "display_name": "metadrive",
   "language": "python",
   "name": "python3"
  },
  "language_info": {
   "codemirror_mode": {
    "name": "ipython",
    "version": 3
   },
   "file_extension": ".py",
   "mimetype": "text/x-python",
   "name": "python",
   "nbconvert_exporter": "python",
   "pygments_lexer": "ipython3",
   "version": "3.10.14"
  }
 },
 "nbformat": 4,
 "nbformat_minor": 2
}
