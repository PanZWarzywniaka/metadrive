{
 "cells": [
  {
   "cell_type": "code",
   "execution_count": 1,
   "metadata": {},
   "outputs": [],
   "source": [
    "import pandas as pd\n",
    "from pathlib import Path\n",
    "import json\n",
    "from pprint import pprint\n",
    "import math\n",
    "from tqdm import tqdm\n",
    "import seaborn as sns\n",
    "import matplotlib.pyplot as plt\n",
    "from matplotlib import cm\n",
    "import numpy as np\n",
    "\n",
    "DATA_DIR = Path(\"data/benchmarking/nogif_1000\")\n",
    "DATA_DIR = Path(\"data/benchmarking/nocars\")\n",
    "SEED = 2137\n",
    "np.random.seed(SEED)"
   ]
  },
  {
   "cell_type": "code",
   "execution_count": 2,
   "metadata": {},
   "outputs": [],
   "source": [
    "def get_in_road_percentage(steps_df: pd.DataFrame) -> float:\n",
    "    ret = steps_df[\"out_of_road\"].value_counts(normalize=True).at[False]\n",
    "    return ret"
   ]
  },
  {
   "cell_type": "code",
   "execution_count": 3,
   "metadata": {},
   "outputs": [],
   "source": [
    "def get_n_sidewalk_crashes(steps_df: pd.DataFrame) -> int:\n",
    "    \"\"\"Count number of crash episodes to not count same crash multiple times\"\"\"\n",
    "    try:\n",
    "        # count number of times \"crash\" becomes True for some time\n",
    "        n_crashes = steps_df[\"crash_sidewalk\"].diff().value_counts().at[True]\n",
    "\n",
    "        # need to divide by 2 beacouse diff counts twice\n",
    "        n_crashes /= 2\n",
    "\n",
    "        # just in case crash is last episode and we have 3.5 crash episodes make it 4\n",
    "        n_crashes = math.ceil(n_crashes)\n",
    "    except KeyError:\n",
    "        n_crashes = 0\n",
    "\n",
    "    return n_crashes"
   ]
  },
  {
   "cell_type": "code",
   "execution_count": 4,
   "metadata": {},
   "outputs": [],
   "source": [
    "def process_steps(steps_infos: list) -> dict:\n",
    "    \"\"\"Accepts a list of steps and returns a dict of interesting data\"\"\"\n",
    "\n",
    "    steps_df = pd.DataFrame(steps_infos)\n",
    "    steps_data = {}\n",
    "    last_step = steps_df.iloc[-1]\n",
    "\n",
    "    steps_data = {\n",
    "        \"termination.arrive_dest\": last_step[\"arrive_dest\"],\n",
    "        \"termination.timeout\": last_step[\"max_step\"],\n",
    "        \"route_completion\": last_step[\"route_completion\"],\n",
    "        \"seed\": last_step[\"env_seed\"],\n",
    "        \"in_road_percentage\": get_in_road_percentage(steps_df),\n",
    "        \"n_sidewalk_crashes\": get_n_sidewalk_crashes(steps_df),\n",
    "    }\n",
    "\n",
    "    return steps_data"
   ]
  },
  {
   "cell_type": "code",
   "execution_count": 5,
   "metadata": {},
   "outputs": [],
   "source": [
    "def get_scenarios_df(dir: Path):\n",
    "    paths = list(dir.glob(\"*/*.json\"))\n",
    "\n",
    "    scenarios = []\n",
    "    for file_path in tqdm(paths):\n",
    "\n",
    "        with open(file_path, \"r\") as f:\n",
    "            scenario_data = json.load(f)\n",
    "\n",
    "        dir = file_path.__str__().split(\"/\")[-2]\n",
    "        _, dr, _, dt = dir.split(\"_\")\n",
    "        scenario_data[\"decision_repeat\"] = int(dr)\n",
    "        scenario_data[\"dt\"] = float(dt)\n",
    "\n",
    "        steps_infos = scenario_data.pop(\"steps_infos\")\n",
    "        scenario_data.update(process_steps(steps_infos))\n",
    "        scenarios.append(scenario_data)\n",
    "    return pd.DataFrame(scenarios)"
   ]
  },
  {
   "cell_type": "code",
   "execution_count": 6,
   "metadata": {},
   "outputs": [
    {
     "name": "stderr",
     "output_type": "stream",
     "text": [
      "  0%|          | 0/10032 [00:00<?, ?it/s]"
     ]
    },
    {
     "name": "stderr",
     "output_type": "stream",
     "text": [
      "100%|██████████| 10032/10032 [00:30<00:00, 328.68it/s]\n"
     ]
    }
   ],
   "source": [
    "df = get_scenarios_df(DATA_DIR)"
   ]
  },
  {
   "cell_type": "code",
   "execution_count": 7,
   "metadata": {},
   "outputs": [],
   "source": [
    "df = df.set_index(\n",
    "    [\n",
    "        \"dt\",\n",
    "        \"decision_repeat\",\n",
    "        \"seed\",\n",
    "    ],\n",
    "    verify_integrity=True,\n",
    ")\n",
    "\n",
    "df = df.sort_index()"
   ]
  },
  {
   "cell_type": "code",
   "execution_count": 8,
   "metadata": {},
   "outputs": [],
   "source": [
    "idx = pd.IndexSlice"
   ]
  },
  {
   "cell_type": "code",
   "execution_count": 9,
   "metadata": {},
   "outputs": [],
   "source": [
    "# MAX_SCENARIOS = 100\n",
    "# df = df.loc[idx[:, :, :MAX_SCENARIOS]]"
   ]
  },
  {
   "cell_type": "code",
   "execution_count": 10,
   "metadata": {},
   "outputs": [],
   "source": [
    "# calculate driving score\n",
    "# ! Problem changing the values here in the analysis can change % error\n",
    "def calculate_driving_score(df):\n",
    "    df[\"driving_score\"] = (\n",
    "        df[\"route_completion\"]\n",
    "        * df[\"in_road_percentage\"]\n",
    "        * (0.65) ** df[\"n_sidewalk_crashes\"]\n",
    "        * (0.60) ** df[\"n_crashed_vehicles\"]\n",
    "    )\n",
    "    return df\n",
    "\n",
    "\n",
    "df = calculate_driving_score(df)"
   ]
  },
  {
   "cell_type": "code",
   "execution_count": 11,
   "metadata": {},
   "outputs": [
    {
     "data": {
      "text/plain": [
       "count    10032.000000\n",
       "mean         0.688012\n",
       "std          0.387943\n",
       "min          0.000180\n",
       "25%          0.271996\n",
       "50%          0.990132\n",
       "75%          0.993000\n",
       "max          1.003083\n",
       "Name: driving_score, dtype: float64"
      ]
     },
     "execution_count": 11,
     "metadata": {},
     "output_type": "execute_result"
    }
   ],
   "source": [
    "df[\"driving_score\"].describe()"
   ]
  },
  {
   "cell_type": "markdown",
   "metadata": {},
   "source": [
    "# Getting featuers\n"
   ]
  },
  {
   "cell_type": "code",
   "execution_count": 12,
   "metadata": {},
   "outputs": [],
   "source": [
    "def drop_boring_columns(df):\n",
    "    # if a column has one elements its boring lets drop it\n",
    "    for series_name, series in df.items():\n",
    "        if len(series.unique()) == 1:\n",
    "            df = df.drop(series_name, axis=1)\n",
    "            print(f\"Dropped: {series_name}\")\n",
    "\n",
    "    return df"
   ]
  },
  {
   "cell_type": "code",
   "execution_count": 13,
   "metadata": {},
   "outputs": [
    {
     "name": "stdout",
     "output_type": "stream",
     "text": [
      "Dropped: 0.id\n",
      "Dropped: 0.pre_block_socket_index\n",
      "Dropped: 1.pre_block_socket_index\n"
     ]
    },
    {
     "data": {
      "text/html": [
       "<div>\n",
       "<style scoped>\n",
       "    .dataframe tbody tr th:only-of-type {\n",
       "        vertical-align: middle;\n",
       "    }\n",
       "\n",
       "    .dataframe tbody tr th {\n",
       "        vertical-align: top;\n",
       "    }\n",
       "\n",
       "    .dataframe thead th {\n",
       "        text-align: right;\n",
       "    }\n",
       "</style>\n",
       "<table border=\"1\" class=\"dataframe\">\n",
       "  <thead>\n",
       "    <tr style=\"text-align: right;\">\n",
       "      <th></th>\n",
       "      <th>1.radius</th>\n",
       "      <th>1.length</th>\n",
       "      <th>1.dir</th>\n",
       "      <th>1.angle</th>\n",
       "      <th>1.id</th>\n",
       "      <th>1.change_lane_num</th>\n",
       "      <th>1.decrease_increase</th>\n",
       "      <th>1.t_type</th>\n",
       "      <th>1.exit_radius</th>\n",
       "      <th>1.inner_radius</th>\n",
       "      <th>...</th>\n",
       "      <th>5.length</th>\n",
       "      <th>5.dir</th>\n",
       "      <th>5.angle</th>\n",
       "      <th>5.id</th>\n",
       "      <th>5.pre_block_socket_index</th>\n",
       "      <th>5.change_lane_num</th>\n",
       "      <th>5.decrease_increase</th>\n",
       "      <th>5.t_type</th>\n",
       "      <th>5.exit_radius</th>\n",
       "      <th>5.inner_radius</th>\n",
       "    </tr>\n",
       "  </thead>\n",
       "  <tbody>\n",
       "    <tr>\n",
       "      <th>0</th>\n",
       "      <td>56.134972</td>\n",
       "      <td>75.582825</td>\n",
       "      <td>1.0</td>\n",
       "      <td>125.061348</td>\n",
       "      <td>C</td>\n",
       "      <td>NaN</td>\n",
       "      <td>NaN</td>\n",
       "      <td>NaN</td>\n",
       "      <td>NaN</td>\n",
       "      <td>NaN</td>\n",
       "      <td>...</td>\n",
       "      <td>58.112240</td>\n",
       "      <td>0.0</td>\n",
       "      <td>85.752541</td>\n",
       "      <td>C</td>\n",
       "      <td>4X-socket0</td>\n",
       "      <td>NaN</td>\n",
       "      <td>NaN</td>\n",
       "      <td>NaN</td>\n",
       "      <td>NaN</td>\n",
       "      <td>NaN</td>\n",
       "    </tr>\n",
       "    <tr>\n",
       "      <th>1</th>\n",
       "      <td>10.000000</td>\n",
       "      <td>NaN</td>\n",
       "      <td>NaN</td>\n",
       "      <td>NaN</td>\n",
       "      <td>T</td>\n",
       "      <td>0.0</td>\n",
       "      <td>0.0</td>\n",
       "      <td>1.0</td>\n",
       "      <td>NaN</td>\n",
       "      <td>NaN</td>\n",
       "      <td>...</td>\n",
       "      <td>65.340332</td>\n",
       "      <td>NaN</td>\n",
       "      <td>NaN</td>\n",
       "      <td>S</td>\n",
       "      <td>4T-socket1</td>\n",
       "      <td>NaN</td>\n",
       "      <td>NaN</td>\n",
       "      <td>NaN</td>\n",
       "      <td>NaN</td>\n",
       "      <td>NaN</td>\n",
       "    </tr>\n",
       "    <tr>\n",
       "      <th>2</th>\n",
       "      <td>10.000000</td>\n",
       "      <td>NaN</td>\n",
       "      <td>NaN</td>\n",
       "      <td>NaN</td>\n",
       "      <td>T</td>\n",
       "      <td>0.0</td>\n",
       "      <td>0.0</td>\n",
       "      <td>0.0</td>\n",
       "      <td>NaN</td>\n",
       "      <td>NaN</td>\n",
       "      <td>...</td>\n",
       "      <td>26.290545</td>\n",
       "      <td>NaN</td>\n",
       "      <td>NaN</td>\n",
       "      <td>r</td>\n",
       "      <td>4C-socket0</td>\n",
       "      <td>NaN</td>\n",
       "      <td>NaN</td>\n",
       "      <td>NaN</td>\n",
       "      <td>NaN</td>\n",
       "      <td>NaN</td>\n",
       "    </tr>\n",
       "    <tr>\n",
       "      <th>3</th>\n",
       "      <td>10.000000</td>\n",
       "      <td>NaN</td>\n",
       "      <td>NaN</td>\n",
       "      <td>NaN</td>\n",
       "      <td>X</td>\n",
       "      <td>0.0</td>\n",
       "      <td>1.0</td>\n",
       "      <td>NaN</td>\n",
       "      <td>NaN</td>\n",
       "      <td>NaN</td>\n",
       "      <td>...</td>\n",
       "      <td>NaN</td>\n",
       "      <td>NaN</td>\n",
       "      <td>NaN</td>\n",
       "      <td>T</td>\n",
       "      <td>4C-socket0</td>\n",
       "      <td>0.0</td>\n",
       "      <td>1.0</td>\n",
       "      <td>1.0</td>\n",
       "      <td>NaN</td>\n",
       "      <td>NaN</td>\n",
       "    </tr>\n",
       "    <tr>\n",
       "      <th>4</th>\n",
       "      <td>10.000000</td>\n",
       "      <td>NaN</td>\n",
       "      <td>NaN</td>\n",
       "      <td>NaN</td>\n",
       "      <td>T</td>\n",
       "      <td>0.0</td>\n",
       "      <td>1.0</td>\n",
       "      <td>2.0</td>\n",
       "      <td>NaN</td>\n",
       "      <td>NaN</td>\n",
       "      <td>...</td>\n",
       "      <td>28.557396</td>\n",
       "      <td>NaN</td>\n",
       "      <td>NaN</td>\n",
       "      <td>R</td>\n",
       "      <td>4T-socket2</td>\n",
       "      <td>NaN</td>\n",
       "      <td>NaN</td>\n",
       "      <td>NaN</td>\n",
       "      <td>NaN</td>\n",
       "      <td>NaN</td>\n",
       "    </tr>\n",
       "    <tr>\n",
       "      <th>...</th>\n",
       "      <td>...</td>\n",
       "      <td>...</td>\n",
       "      <td>...</td>\n",
       "      <td>...</td>\n",
       "      <td>...</td>\n",
       "      <td>...</td>\n",
       "      <td>...</td>\n",
       "      <td>...</td>\n",
       "      <td>...</td>\n",
       "      <td>...</td>\n",
       "      <td>...</td>\n",
       "      <td>...</td>\n",
       "      <td>...</td>\n",
       "      <td>...</td>\n",
       "      <td>...</td>\n",
       "      <td>...</td>\n",
       "      <td>...</td>\n",
       "      <td>...</td>\n",
       "      <td>...</td>\n",
       "      <td>...</td>\n",
       "      <td>...</td>\n",
       "    </tr>\n",
       "    <tr>\n",
       "      <th>10027</th>\n",
       "      <td>NaN</td>\n",
       "      <td>78.279800</td>\n",
       "      <td>NaN</td>\n",
       "      <td>NaN</td>\n",
       "      <td>S</td>\n",
       "      <td>NaN</td>\n",
       "      <td>NaN</td>\n",
       "      <td>NaN</td>\n",
       "      <td>NaN</td>\n",
       "      <td>NaN</td>\n",
       "      <td>...</td>\n",
       "      <td>53.760792</td>\n",
       "      <td>0.0</td>\n",
       "      <td>75.961784</td>\n",
       "      <td>C</td>\n",
       "      <td>4X-socket0</td>\n",
       "      <td>NaN</td>\n",
       "      <td>NaN</td>\n",
       "      <td>NaN</td>\n",
       "      <td>NaN</td>\n",
       "      <td>NaN</td>\n",
       "    </tr>\n",
       "    <tr>\n",
       "      <th>10028</th>\n",
       "      <td>NaN</td>\n",
       "      <td>38.739941</td>\n",
       "      <td>NaN</td>\n",
       "      <td>NaN</td>\n",
       "      <td>R</td>\n",
       "      <td>NaN</td>\n",
       "      <td>NaN</td>\n",
       "      <td>NaN</td>\n",
       "      <td>NaN</td>\n",
       "      <td>NaN</td>\n",
       "      <td>...</td>\n",
       "      <td>NaN</td>\n",
       "      <td>NaN</td>\n",
       "      <td>NaN</td>\n",
       "      <td>T</td>\n",
       "      <td>4C-socket0</td>\n",
       "      <td>0.0</td>\n",
       "      <td>1.0</td>\n",
       "      <td>2.0</td>\n",
       "      <td>NaN</td>\n",
       "      <td>NaN</td>\n",
       "    </tr>\n",
       "    <tr>\n",
       "      <th>10029</th>\n",
       "      <td>46.643707</td>\n",
       "      <td>64.735664</td>\n",
       "      <td>1.0</td>\n",
       "      <td>100.655251</td>\n",
       "      <td>C</td>\n",
       "      <td>NaN</td>\n",
       "      <td>NaN</td>\n",
       "      <td>NaN</td>\n",
       "      <td>NaN</td>\n",
       "      <td>NaN</td>\n",
       "      <td>...</td>\n",
       "      <td>35.488621</td>\n",
       "      <td>NaN</td>\n",
       "      <td>NaN</td>\n",
       "      <td>R</td>\n",
       "      <td>4C-socket0</td>\n",
       "      <td>NaN</td>\n",
       "      <td>NaN</td>\n",
       "      <td>NaN</td>\n",
       "      <td>NaN</td>\n",
       "      <td>NaN</td>\n",
       "    </tr>\n",
       "    <tr>\n",
       "      <th>10030</th>\n",
       "      <td>10.000000</td>\n",
       "      <td>NaN</td>\n",
       "      <td>NaN</td>\n",
       "      <td>NaN</td>\n",
       "      <td>T</td>\n",
       "      <td>0.0</td>\n",
       "      <td>0.0</td>\n",
       "      <td>0.0</td>\n",
       "      <td>NaN</td>\n",
       "      <td>NaN</td>\n",
       "      <td>...</td>\n",
       "      <td>NaN</td>\n",
       "      <td>NaN</td>\n",
       "      <td>NaN</td>\n",
       "      <td>T</td>\n",
       "      <td>4X-socket2</td>\n",
       "      <td>0.0</td>\n",
       "      <td>0.0</td>\n",
       "      <td>0.0</td>\n",
       "      <td>NaN</td>\n",
       "      <td>NaN</td>\n",
       "    </tr>\n",
       "    <tr>\n",
       "      <th>10031</th>\n",
       "      <td>NaN</td>\n",
       "      <td>22.855421</td>\n",
       "      <td>NaN</td>\n",
       "      <td>NaN</td>\n",
       "      <td>R</td>\n",
       "      <td>NaN</td>\n",
       "      <td>NaN</td>\n",
       "      <td>NaN</td>\n",
       "      <td>NaN</td>\n",
       "      <td>NaN</td>\n",
       "      <td>...</td>\n",
       "      <td>60.145363</td>\n",
       "      <td>1.0</td>\n",
       "      <td>90.327065</td>\n",
       "      <td>C</td>\n",
       "      <td>4C-socket0</td>\n",
       "      <td>NaN</td>\n",
       "      <td>NaN</td>\n",
       "      <td>NaN</td>\n",
       "      <td>NaN</td>\n",
       "      <td>NaN</td>\n",
       "    </tr>\n",
       "  </tbody>\n",
       "</table>\n",
       "<p>10032 rows × 54 columns</p>\n",
       "</div>"
      ],
      "text/plain": [
       "        1.radius   1.length  1.dir     1.angle 1.id  1.change_lane_num  \\\n",
       "0      56.134972  75.582825    1.0  125.061348    C                NaN   \n",
       "1      10.000000        NaN    NaN         NaN    T                0.0   \n",
       "2      10.000000        NaN    NaN         NaN    T                0.0   \n",
       "3      10.000000        NaN    NaN         NaN    X                0.0   \n",
       "4      10.000000        NaN    NaN         NaN    T                0.0   \n",
       "...          ...        ...    ...         ...  ...                ...   \n",
       "10027        NaN  78.279800    NaN         NaN    S                NaN   \n",
       "10028        NaN  38.739941    NaN         NaN    R                NaN   \n",
       "10029  46.643707  64.735664    1.0  100.655251    C                NaN   \n",
       "10030  10.000000        NaN    NaN         NaN    T                0.0   \n",
       "10031        NaN  22.855421    NaN         NaN    R                NaN   \n",
       "\n",
       "       1.decrease_increase  1.t_type  1.exit_radius  1.inner_radius  ...  \\\n",
       "0                      NaN       NaN            NaN             NaN  ...   \n",
       "1                      0.0       1.0            NaN             NaN  ...   \n",
       "2                      0.0       0.0            NaN             NaN  ...   \n",
       "3                      1.0       NaN            NaN             NaN  ...   \n",
       "4                      1.0       2.0            NaN             NaN  ...   \n",
       "...                    ...       ...            ...             ...  ...   \n",
       "10027                  NaN       NaN            NaN             NaN  ...   \n",
       "10028                  NaN       NaN            NaN             NaN  ...   \n",
       "10029                  NaN       NaN            NaN             NaN  ...   \n",
       "10030                  0.0       0.0            NaN             NaN  ...   \n",
       "10031                  NaN       NaN            NaN             NaN  ...   \n",
       "\n",
       "        5.length  5.dir    5.angle  5.id 5.pre_block_socket_index  \\\n",
       "0      58.112240    0.0  85.752541     C               4X-socket0   \n",
       "1      65.340332    NaN        NaN     S               4T-socket1   \n",
       "2      26.290545    NaN        NaN     r               4C-socket0   \n",
       "3            NaN    NaN        NaN     T               4C-socket0   \n",
       "4      28.557396    NaN        NaN     R               4T-socket2   \n",
       "...          ...    ...        ...   ...                      ...   \n",
       "10027  53.760792    0.0  75.961784     C               4X-socket0   \n",
       "10028        NaN    NaN        NaN     T               4C-socket0   \n",
       "10029  35.488621    NaN        NaN     R               4C-socket0   \n",
       "10030        NaN    NaN        NaN     T               4X-socket2   \n",
       "10031  60.145363    1.0  90.327065     C               4C-socket0   \n",
       "\n",
       "      5.change_lane_num  5.decrease_increase  5.t_type  5.exit_radius  \\\n",
       "0                   NaN                  NaN       NaN            NaN   \n",
       "1                   NaN                  NaN       NaN            NaN   \n",
       "2                   NaN                  NaN       NaN            NaN   \n",
       "3                   0.0                  1.0       1.0            NaN   \n",
       "4                   NaN                  NaN       NaN            NaN   \n",
       "...                 ...                  ...       ...            ...   \n",
       "10027               NaN                  NaN       NaN            NaN   \n",
       "10028               0.0                  1.0       2.0            NaN   \n",
       "10029               NaN                  NaN       NaN            NaN   \n",
       "10030               0.0                  0.0       0.0            NaN   \n",
       "10031               NaN                  NaN       NaN            NaN   \n",
       "\n",
       "       5.inner_radius  \n",
       "0                 NaN  \n",
       "1                 NaN  \n",
       "2                 NaN  \n",
       "3                 NaN  \n",
       "4                 NaN  \n",
       "...               ...  \n",
       "10027             NaN  \n",
       "10028             NaN  \n",
       "10029             NaN  \n",
       "10030             NaN  \n",
       "10031             NaN  \n",
       "\n",
       "[10032 rows x 54 columns]"
      ]
     },
     "execution_count": 13,
     "metadata": {},
     "output_type": "execute_result"
    }
   ],
   "source": [
    "scenario_columns = [\"def.map_seq\", \"def.bv_data\"]\n",
    "scenario_df = df[scenario_columns]\n",
    "\n",
    "map_df = pd.json_normalize(scenario_df[\"def.map_seq\"])\n",
    "normalized_map_df = pd.concat(\n",
    "    [pd.json_normalize(map_df[col]).add_prefix(f\"{col}.\") for col in map_df], axis=1\n",
    ")\n",
    "\n",
    "normalized_map_df = drop_boring_columns(normalized_map_df)\n",
    "normalized_map_df"
   ]
  },
  {
   "cell_type": "code",
   "execution_count": 14,
   "metadata": {},
   "outputs": [
    {
     "data": {
      "text/plain": [
       "['3.pre_block_socket_index',\n",
       " '4.id',\n",
       " '4.pre_block_socket_index',\n",
       " '1.id',\n",
       " '5.pre_block_socket_index',\n",
       " '5.id',\n",
       " '2.pre_block_socket_index',\n",
       " '2.id',\n",
       " '3.id',\n",
       " '5.length',\n",
       " '1.length',\n",
       " '3.length',\n",
       " '2.radius',\n",
       " '4.radius',\n",
       " '3.radius',\n",
       " '2.length',\n",
       " '5.radius',\n",
       " '1.radius',\n",
       " '4.length',\n",
       " '3.angle']"
      ]
     },
     "execution_count": 14,
     "metadata": {},
     "output_type": "execute_result"
    }
   ],
   "source": [
    "n_occurences = normalized_map_df.count()\n",
    "best_featuers = n_occurences.sort_values(ascending=False)\n",
    "\n",
    "N_FEATURES = 20\n",
    "best_featuers = best_featuers.iloc[:N_FEATURES].index.to_list()\n",
    "best_featuers\n",
    "\n",
    "S = normalized_map_df[best_featuers]\n",
    "best_featuers"
   ]
  },
  {
   "cell_type": "code",
   "execution_count": 15,
   "metadata": {},
   "outputs": [],
   "source": [
    "fid = df.reset_index()[[\"dt\", \"decision_repeat\"]]\n",
    "# fid"
   ]
  },
  {
   "cell_type": "markdown",
   "metadata": {},
   "source": [
    "## Input factorisation\n"
   ]
  },
  {
   "cell_type": "code",
   "execution_count": 16,
   "metadata": {},
   "outputs": [],
   "source": [
    "X = pd.concat([fid, S], axis=1)\n",
    "X\n",
    "\n",
    "\n",
    "X = X.apply(lambda c: pd.factorize(c)[0] if c.dtype == object else c, axis=0)"
   ]
  },
  {
   "cell_type": "code",
   "execution_count": 17,
   "metadata": {},
   "outputs": [
    {
     "data": {
      "text/plain": [
       "0        0.992768\n",
       "1        0.989633\n",
       "2        0.993424\n",
       "3        0.989005\n",
       "4        0.991921\n",
       "           ...   \n",
       "10027    0.321407\n",
       "10028    0.405315\n",
       "10029    0.644866\n",
       "10030    0.993334\n",
       "10031    0.228466\n",
       "Name: driving_score, Length: 10032, dtype: float64"
      ]
     },
     "execution_count": 17,
     "metadata": {},
     "output_type": "execute_result"
    }
   ],
   "source": [
    "y = df.reset_index()[\"driving_score\"]\n",
    "y"
   ]
  },
  {
   "cell_type": "markdown",
   "metadata": {},
   "source": [
    "# Fitting GPR\n"
   ]
  },
  {
   "cell_type": "markdown",
   "metadata": {},
   "source": [
    "### Handling NaNs\n"
   ]
  },
  {
   "cell_type": "code",
   "execution_count": 18,
   "metadata": {},
   "outputs": [
    {
     "data": {
      "text/plain": [
       "((10032, 22), (10032,))"
      ]
     },
     "execution_count": 18,
     "metadata": {},
     "output_type": "execute_result"
    }
   ],
   "source": [
    "X[pd.isna(X)] = -1\n",
    "X.shape, y.shape"
   ]
  },
  {
   "cell_type": "code",
   "execution_count": 19,
   "metadata": {},
   "outputs": [
    {
     "data": {
      "text/plain": [
       "836.0"
      ]
     },
     "execution_count": 19,
     "metadata": {},
     "output_type": "execute_result"
    }
   ],
   "source": [
    "X.shape[0] / 12"
   ]
  },
  {
   "cell_type": "code",
   "execution_count": 20,
   "metadata": {},
   "outputs": [],
   "source": [
    "X = X.to_numpy()\n",
    "y = y.to_numpy()"
   ]
  },
  {
   "cell_type": "code",
   "execution_count": 21,
   "metadata": {},
   "outputs": [],
   "source": [
    "from sklearn.gaussian_process import GaussianProcessRegressor\n",
    "from sklearn.gaussian_process.kernels import RBF\n",
    "\n",
    "from sklearn.model_selection import train_test_split\n",
    "from sklearn.model_selection import LeaveOneOut, ShuffleSplit\n",
    "from sklearn.metrics import r2_score"
   ]
  },
  {
   "cell_type": "markdown",
   "metadata": {},
   "source": [
    "## Shuffle Splits\n"
   ]
  },
  {
   "cell_type": "code",
   "execution_count": 22,
   "metadata": {},
   "outputs": [],
   "source": [
    "import numpy as np\n",
    "\n",
    "from sklearn.base import clone\n",
    "from sklearn.gaussian_process import GaussianProcessClassifier, GaussianProcessRegressor\n",
    "from sklearn.gaussian_process.kernels import GenericKernelMixin, Hyperparameter, Kernel\n",
    "\n",
    "\n",
    "class SequenceKernel(GenericKernelMixin, Kernel):\n",
    "    \"\"\"\n",
    "    A minimal (but valid) convolutional kernel for sequences of variable\n",
    "    lengths.\"\"\"\n",
    "\n",
    "    def __init__(self, baseline_similarity=0.5, baseline_similarity_bounds=(1e-5, 1)):\n",
    "        self.baseline_similarity = baseline_similarity\n",
    "        self.baseline_similarity_bounds = baseline_similarity_bounds\n",
    "\n",
    "    @property\n",
    "    def hyperparameter_baseline_similarity(self):\n",
    "        return Hyperparameter(\n",
    "            \"baseline_similarity\", \"numeric\", self.baseline_similarity_bounds\n",
    "        )\n",
    "\n",
    "    def _f(self, s1, s2):\n",
    "        \"\"\"\n",
    "        kernel value between a pair of sequences\n",
    "        \"\"\"\n",
    "        return sum(\n",
    "            [1.0 if c1 == c2 else self.baseline_similarity for c1 in s1 for c2 in s2]\n",
    "        )\n",
    "\n",
    "    def _g(self, s1, s2):\n",
    "        \"\"\"\n",
    "        kernel derivative between a pair of sequences\n",
    "        \"\"\"\n",
    "        return sum([0.0 if c1 == c2 else 1.0 for c1 in s1 for c2 in s2])\n",
    "\n",
    "    def __call__(self, X, Y=None, eval_gradient=False):\n",
    "        if Y is None:\n",
    "            Y = X\n",
    "\n",
    "        if eval_gradient:\n",
    "            return (\n",
    "                np.array([[self._f(x, y) for y in Y] for x in X]),\n",
    "                np.array([[[self._g(x, y)] for y in Y] for x in X]),\n",
    "            )\n",
    "        else:\n",
    "            return np.array([[self._f(x, y) for y in Y] for x in X])\n",
    "\n",
    "    def diag(self, X):\n",
    "        return np.array([self._f(x, x) for x in X])\n",
    "\n",
    "    def is_stationary(self):\n",
    "        return False\n",
    "\n",
    "    def clone_with_theta(self, theta):\n",
    "        cloned = clone(self)\n",
    "        cloned.theta = theta\n",
    "        return cloned\n",
    "\n",
    "\n",
    "kernel = SequenceKernel()"
   ]
  },
  {
   "cell_type": "code",
   "execution_count": 23,
   "metadata": {},
   "outputs": [
    {
     "data": {
      "text/plain": [
       "10"
      ]
     },
     "execution_count": 23,
     "metadata": {},
     "output_type": "execute_result"
    }
   ],
   "source": [
    "# splitter = LeaveOneOut()\n",
    "# splitter.get_n_splits(X)\n",
    "\n",
    "splitter = ShuffleSplit(test_size=100, n_splits=5, random_state=SEED)\n",
    "splitter = ShuffleSplit(random_state=SEED)\n",
    "splitter.get_n_splits(X)"
   ]
  },
  {
   "cell_type": "code",
   "execution_count": 24,
   "metadata": {},
   "outputs": [],
   "source": [
    "data = []\n",
    "\n",
    "for i, (train_index, test_index) in enumerate(splitter.split(X)):\n",
    "    kernel = RBF(length_scale_bounds=(1e-5, 1e5))\n",
    "    # kernel = SequenceKernel()\n",
    "    gaussian_process = GaussianProcessRegressor(\n",
    "        kernel=kernel, n_restarts_optimizer=9, random_state=SEED\n",
    "    )\n",
    "\n",
    "    gaussian_process.fit(X[train_index], y[train_index])\n",
    "\n",
    "    y_pred, y_std = gaussian_process.predict(X[test_index], return_std=True)\n",
    "    y_true = y[test_index]\n",
    "    # print(\n",
    "    #     f\"For index: \\n{test_index} we predicted \\n{y_pred} +- \\n{y_std} but True value is: \\n{y_true}\"\n",
    "    # )\n",
    "    print(\".\")\n",
    "    data.append([test_index, y_true, y_pred, y_std])"
   ]
  },
  {
   "cell_type": "code",
   "execution_count": 25,
   "metadata": {},
   "outputs": [
    {
     "name": "stdout",
     "output_type": "stream",
     "text": [
      "r2_scores = [0.32112108 0.39518821 0.27563    0.09064001 0.07562609 0.02367214\n",
      " 0.22799263 0.02897976 0.30235733 0.28358121]\n",
      "r2_scores.mean() = 0.20\n"
     ]
    }
   ],
   "source": [
    "r2_scores = []\n",
    "\n",
    "for d in data:\n",
    "    array = np.squeeze(d).T\n",
    "    # print(array)\n",
    "    results = pd.DataFrame(array, columns=[\"index\", \"y_true\", \"y_pred\", \"std\"])\n",
    "    results[\"y_pred\"] = results[\"y_pred\"].clip(0, 1)\n",
    "    r2_scores.append(r2_score(results[\"y_true\"], results[\"y_pred\"]))\n",
    "\n",
    "\n",
    "r2_scores = np.array(r2_scores)\n",
    "print(f\"r2_scores = {r2_scores}\")\n",
    "print(f\"{r2_scores.mean() = :.2f}\")"
   ]
  },
  {
   "cell_type": "code",
   "execution_count": 26,
   "metadata": {},
   "outputs": [],
   "source": [
    "results = pd.DataFrame(\n",
    "    np.squeeze(data[0]).T, columns=[\"index\", \"y_true\", \"y_pred\", \"std\"]\n",
    ")\n",
    "results[\"y_pred\"] = results[\"y_pred\"].clip(0, 1)\n",
    "# results"
   ]
  },
  {
   "cell_type": "code",
   "execution_count": 27,
   "metadata": {},
   "outputs": [
    {
     "data": {
      "text/plain": [
       "0.32112108424819574"
      ]
     },
     "execution_count": 27,
     "metadata": {},
     "output_type": "execute_result"
    }
   ],
   "source": [
    "r2_score(results[\"y_true\"], results[\"y_pred\"])"
   ]
  },
  {
   "cell_type": "code",
   "execution_count": 28,
   "metadata": {},
   "outputs": [
    {
     "data": {
      "text/plain": [
       "0.25064369599179526"
      ]
     },
     "execution_count": 28,
     "metadata": {},
     "output_type": "execute_result"
    }
   ],
   "source": [
    "rmse = (results[\"y_true\"] - results[\"y_pred\"]).abs()\n",
    "rmse.mean()"
   ]
  },
  {
   "cell_type": "code",
   "execution_count": 29,
   "metadata": {},
   "outputs": [
    {
     "data": {
      "text/html": [
       "<div>\n",
       "<style scoped>\n",
       "    .dataframe tbody tr th:only-of-type {\n",
       "        vertical-align: middle;\n",
       "    }\n",
       "\n",
       "    .dataframe tbody tr th {\n",
       "        vertical-align: top;\n",
       "    }\n",
       "\n",
       "    .dataframe thead th {\n",
       "        text-align: right;\n",
       "    }\n",
       "</style>\n",
       "<table border=\"1\" class=\"dataframe\">\n",
       "  <thead>\n",
       "    <tr style=\"text-align: right;\">\n",
       "      <th></th>\n",
       "      <th>index</th>\n",
       "      <th>y_true</th>\n",
       "      <th>y_pred</th>\n",
       "      <th>std</th>\n",
       "    </tr>\n",
       "  </thead>\n",
       "  <tbody>\n",
       "    <tr>\n",
       "      <th>0</th>\n",
       "      <td>933.0</td>\n",
       "      <td>0.420382</td>\n",
       "      <td>0.000000</td>\n",
       "      <td>0.363885</td>\n",
       "    </tr>\n",
       "    <tr>\n",
       "      <th>1</th>\n",
       "      <td>365.0</td>\n",
       "      <td>0.644080</td>\n",
       "      <td>1.000000</td>\n",
       "      <td>0.363885</td>\n",
       "    </tr>\n",
       "    <tr>\n",
       "      <th>2</th>\n",
       "      <td>537.0</td>\n",
       "      <td>0.001012</td>\n",
       "      <td>0.235281</td>\n",
       "      <td>0.224693</td>\n",
       "    </tr>\n",
       "    <tr>\n",
       "      <th>3</th>\n",
       "      <td>524.0</td>\n",
       "      <td>0.993222</td>\n",
       "      <td>1.000000</td>\n",
       "      <td>0.224693</td>\n",
       "    </tr>\n",
       "    <tr>\n",
       "      <th>4</th>\n",
       "      <td>1128.0</td>\n",
       "      <td>0.244153</td>\n",
       "      <td>0.312478</td>\n",
       "      <td>0.363885</td>\n",
       "    </tr>\n",
       "    <tr>\n",
       "      <th>...</th>\n",
       "      <td>...</td>\n",
       "      <td>...</td>\n",
       "      <td>...</td>\n",
       "      <td>...</td>\n",
       "    </tr>\n",
       "    <tr>\n",
       "      <th>117</th>\n",
       "      <td>552.0</td>\n",
       "      <td>0.074724</td>\n",
       "      <td>0.402227</td>\n",
       "      <td>0.224693</td>\n",
       "    </tr>\n",
       "    <tr>\n",
       "      <th>118</th>\n",
       "      <td>986.0</td>\n",
       "      <td>0.273171</td>\n",
       "      <td>0.734015</td>\n",
       "      <td>0.363885</td>\n",
       "    </tr>\n",
       "    <tr>\n",
       "      <th>119</th>\n",
       "      <td>97.0</td>\n",
       "      <td>0.648457</td>\n",
       "      <td>0.339592</td>\n",
       "      <td>0.852709</td>\n",
       "    </tr>\n",
       "    <tr>\n",
       "      <th>120</th>\n",
       "      <td>172.0</td>\n",
       "      <td>0.993334</td>\n",
       "      <td>1.000000</td>\n",
       "      <td>0.363885</td>\n",
       "    </tr>\n",
       "    <tr>\n",
       "      <th>121</th>\n",
       "      <td>1115.0</td>\n",
       "      <td>0.115046</td>\n",
       "      <td>0.484944</td>\n",
       "      <td>0.363885</td>\n",
       "    </tr>\n",
       "  </tbody>\n",
       "</table>\n",
       "<p>122 rows × 4 columns</p>\n",
       "</div>"
      ],
      "text/plain": [
       "      index    y_true    y_pred       std\n",
       "0     933.0  0.420382  0.000000  0.363885\n",
       "1     365.0  0.644080  1.000000  0.363885\n",
       "2     537.0  0.001012  0.235281  0.224693\n",
       "3     524.0  0.993222  1.000000  0.224693\n",
       "4    1128.0  0.244153  0.312478  0.363885\n",
       "..      ...       ...       ...       ...\n",
       "117   552.0  0.074724  0.402227  0.224693\n",
       "118   986.0  0.273171  0.734015  0.363885\n",
       "119    97.0  0.648457  0.339592  0.852709\n",
       "120   172.0  0.993334  1.000000  0.363885\n",
       "121  1115.0  0.115046  0.484944  0.363885\n",
       "\n",
       "[122 rows x 4 columns]"
      ]
     },
     "execution_count": 29,
     "metadata": {},
     "output_type": "execute_result"
    }
   ],
   "source": [
    "results"
   ]
  }
 ],
 "metadata": {
  "kernelspec": {
   "display_name": "metadrive",
   "language": "python",
   "name": "python3"
  },
  "language_info": {
   "codemirror_mode": {
    "name": "ipython",
    "version": 3
   },
   "file_extension": ".py",
   "mimetype": "text/x-python",
   "name": "python",
   "nbconvert_exporter": "python",
   "pygments_lexer": "ipython3",
   "version": "3.12.1"
  }
 },
 "nbformat": 4,
 "nbformat_minor": 2
}
