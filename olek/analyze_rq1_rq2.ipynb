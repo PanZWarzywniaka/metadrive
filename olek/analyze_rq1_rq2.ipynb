{
 "cells": [
  {
   "cell_type": "code",
   "execution_count": 1,
   "metadata": {},
   "outputs": [],
   "source": [
    "import pandas as pd\n",
    "from pathlib import Path\n",
    "import json\n",
    "from pprint import pprint\n",
    "import math\n",
    "from tqdm import tqdm\n",
    "import seaborn as sns\n",
    "import matplotlib.pyplot as plt\n",
    "from matplotlib import cm\n",
    "\n",
    "DATA_DIR = Path(\"data/benchmarking\")"
   ]
  },
  {
   "cell_type": "code",
   "execution_count": 2,
   "metadata": {},
   "outputs": [],
   "source": [
    "def get_in_road_percentage(steps_df: pd.DataFrame) -> float:\n",
    "    ret = steps_df[\"out_of_road\"].value_counts(normalize=True).at[False]\n",
    "    return ret"
   ]
  },
  {
   "cell_type": "code",
   "execution_count": 3,
   "metadata": {},
   "outputs": [],
   "source": [
    "def get_n_crashes(steps_df: pd.DataFrame) -> int:\n",
    "    \"\"\"Count number of crash episodes to not count same crash multiple times\"\"\"\n",
    "    try:\n",
    "        # count number of times \"crash\" becomes True for some time\n",
    "        n_crashes = steps_df[\"crash\"].diff().value_counts().at[True]\n",
    "\n",
    "        # need to divide by 2 beacouse diff counts twice\n",
    "        n_crashes /= 2\n",
    "\n",
    "        # just in case crash is last episode and we have 3.5 crash episodes make it 4\n",
    "        n_crashes = math.ceil(n_crashes)\n",
    "    except KeyError:\n",
    "        n_crashes = 0\n",
    "\n",
    "    return n_crashes"
   ]
  },
  {
   "cell_type": "code",
   "execution_count": 4,
   "metadata": {},
   "outputs": [],
   "source": [
    "def process_steps(steps_infos: list) -> dict:\n",
    "    \"\"\"Accepts a list of steps and returns a dict of interesting data\"\"\"\n",
    "\n",
    "    steps_df = pd.DataFrame(steps_infos)\n",
    "    steps_data = {}\n",
    "    last_step = steps_df.iloc[-1]\n",
    "\n",
    "    steps_data = {\n",
    "        \"termination.arrive_dest\": last_step[\"arrive_dest\"],\n",
    "        \"termination.timeout\": last_step[\"max_step\"],\n",
    "        \"route_completion\": last_step[\"route_completion\"],\n",
    "        \"seed\": last_step[\"env_seed\"],\n",
    "        \"in_road_percentage\": get_in_road_percentage(steps_df),\n",
    "        \"n_crashes\": get_n_crashes(steps_df),\n",
    "    }\n",
    "\n",
    "    return steps_data"
   ]
  },
  {
   "cell_type": "code",
   "execution_count": 5,
   "metadata": {},
   "outputs": [],
   "source": [
    "def get_scenarios_df(dir: Path):\n",
    "    paths = list(dir.glob(\"*/*.json\"))\n",
    "\n",
    "    scenarios = []\n",
    "    for file_path in tqdm(paths):\n",
    "\n",
    "        with open(file_path, \"r\") as f:\n",
    "            scenario_data = json.load(f)\n",
    "\n",
    "        dir = file_path.__str__().split(\"/\")[-2]\n",
    "        _, dr, _, dt = dir.split(\"_\")\n",
    "        scenario_data[\"decision_repeat\"] = int(dr)\n",
    "        scenario_data[\"dt\"] = float(dt)\n",
    "\n",
    "        steps_infos = scenario_data.pop(\"steps_infos\")\n",
    "        scenario_data.update(process_steps(steps_infos))\n",
    "        scenarios.append(scenario_data)\n",
    "    return pd.DataFrame(scenarios)"
   ]
  },
  {
   "cell_type": "code",
   "execution_count": null,
   "metadata": {},
   "outputs": [],
   "source": [
    "df = get_scenarios_df(DATA_DIR)"
   ]
  },
  {
   "cell_type": "code",
   "execution_count": 7,
   "metadata": {},
   "outputs": [],
   "source": [
    "df = df.set_index(\n",
    "    [\n",
    "        \"dt\",\n",
    "        \"decision_repeat\",\n",
    "        \"seed\",\n",
    "    ],\n",
    "    verify_integrity=True,\n",
    ")\n",
    "\n",
    "df = df.sort_index()"
   ]
  },
  {
   "cell_type": "code",
   "execution_count": null,
   "metadata": {},
   "outputs": [],
   "source": [
    "df[\"n_crashes\"].sort_values(ascending=False).head(20)"
   ]
  },
  {
   "cell_type": "code",
   "execution_count": 9,
   "metadata": {},
   "outputs": [],
   "source": [
    "# ! Problem changing the values here in the analysis can change % error\n",
    "\n",
    "df[\"driving_score\"] = (\n",
    "    df[\"route_completion\"] * df[\"in_road_percentage\"] * (0.9) ** df[\"n_crashes\"]\n",
    ")"
   ]
  },
  {
   "cell_type": "code",
   "execution_count": null,
   "metadata": {},
   "outputs": [],
   "source": [
    "oracle_ds = df.xs((0.02, 5))[\"driving_score\"]\n",
    "pd.set_option(\"display.float_format\", lambda x: \"%.3f\" % x)\n",
    "oracle_ds.describe()"
   ]
  },
  {
   "cell_type": "code",
   "execution_count": null,
   "metadata": {},
   "outputs": [],
   "source": [
    "df[\"driving_score_error\"] = (df[\"driving_score\"] - oracle_ds).abs()\n",
    "df"
   ]
  },
  {
   "cell_type": "code",
   "execution_count": null,
   "metadata": {},
   "outputs": [],
   "source": [
    "palette = sns.color_palette(\"hls\", 3)\n",
    "x_ticks = df.index.get_level_values(\"decision_repeat\").unique().to_list()\n",
    "x_ticks"
   ]
  },
  {
   "cell_type": "markdown",
   "metadata": {},
   "source": [
    "## Bloxplots\n"
   ]
  },
  {
   "cell_type": "code",
   "execution_count": null,
   "metadata": {},
   "outputs": [],
   "source": [
    "ax = sns.boxplot(df, x=\"decision_repeat\", y=\"total_time\", hue=\"dt\", palette=palette)\n",
    "ax.set_ylim(0)\n",
    "ax.set_ylabel(\"System time [s]\")\n",
    "ax.set_xlabel(\"Decision repeat\")\n",
    "# ax.set_xticks(x_ticks)"
   ]
  },
  {
   "cell_type": "markdown",
   "metadata": {},
   "source": [
    "## Original plotting\n"
   ]
  },
  {
   "cell_type": "code",
   "execution_count": null,
   "metadata": {},
   "outputs": [],
   "source": [
    "agg = df.select_dtypes(\"number\").groupby(by=[\"dt\", \"decision_repeat\"]).mean()\n",
    "agg"
   ]
  },
  {
   "cell_type": "code",
   "execution_count": null,
   "metadata": {},
   "outputs": [],
   "source": [
    "ax = sns.scatterplot(\n",
    "    agg, x=\"decision_repeat\", y=\"total_time\", hue=\"dt\", palette=palette\n",
    ")\n",
    "ax.set_ylim(0)\n",
    "ax.set_ylabel(\"System time [s]\")\n",
    "ax.set_xlabel(\"Decision repeat\")\n",
    "ax.set_xticks(x_ticks)"
   ]
  },
  {
   "cell_type": "code",
   "execution_count": null,
   "metadata": {},
   "outputs": [],
   "source": [
    "ax = sns.scatterplot(\n",
    "    agg, x=\"decision_repeat\", y=\"driving_score_error\", hue=\"dt\", palette=palette\n",
    ")\n",
    "\n",
    "ax.set_xlabel(\"Decision repeat\")\n",
    "ax.set_xticks(x_ticks)\n",
    "\n",
    "ax.set_ylabel(\"Driving Score Error\")"
   ]
  }
 ],
 "metadata": {
  "kernelspec": {
   "display_name": "metadrive",
   "language": "python",
   "name": "python3"
  },
  "language_info": {
   "codemirror_mode": {
    "name": "ipython",
    "version": 3
   },
   "file_extension": ".py",
   "mimetype": "text/x-python",
   "name": "python",
   "nbconvert_exporter": "python",
   "pygments_lexer": "ipython3",
   "version": "3.10.14"
  }
 },
 "nbformat": 4,
 "nbformat_minor": 2
}
