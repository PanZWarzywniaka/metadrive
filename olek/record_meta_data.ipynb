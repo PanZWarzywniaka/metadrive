{
 "cells": [
  {
   "cell_type": "code",
   "execution_count": null,
   "metadata": {},
   "outputs": [],
   "source": [
    "from metadrive.envs.metadrive_env import MetaDriveEnv\n",
    "from metadrive.component.map.base_map import BaseMap\n",
    "from metadrive.component.map.pg_map import MapGenerateMethod\n",
    "from metadrive.examples.ppo_expert.torch_expert import torch_expert as expert\n",
    "\n",
    "import logging\n",
    "from IPython.display import Image, clear_output\n",
    "import pandas as pd\n",
    "from pprint import pprint\n",
    "\n",
    "from PIL import Image\n",
    "import numpy as np"
   ]
  },
  {
   "cell_type": "code",
   "execution_count": null,
   "metadata": {},
   "outputs": [],
   "source": [
    "def create_env(seed=0):\n",
    "    # ===== Termination Scheme =====\n",
    "    termination_sceme = dict(\n",
    "        out_of_route_done=False,\n",
    "        on_continuous_line_done=False,\n",
    "        crash_vehicle_done=True,\n",
    "        crash_object_done=True,\n",
    "        crash_human_done=True,\n",
    "    )\n",
    "    # ===== Map Config =====\n",
    "    map_config = {\n",
    "        BaseMap.GENERATE_TYPE: MapGenerateMethod.BIG_BLOCK_NUM,\n",
    "        BaseMap.GENERATE_CONFIG: 10,  # 20 block\n",
    "    }\n",
    "\n",
    "    cfg = dict(\n",
    "        # use_render=True,\n",
    "        horizon=1000,  # figure out what do do aboutit\n",
    "        record_episode=True,\n",
    "        start_seed=seed,\n",
    "        map_config=map_config,\n",
    "        **termination_sceme\n",
    "    )\n",
    "    env = MetaDriveEnv(config=cfg)\n",
    "    return env"
   ]
  },
  {
   "cell_type": "code",
   "execution_count": null,
   "metadata": {},
   "outputs": [],
   "source": [
    "def run_scenario(seed: int = 0):\n",
    "    env = create_env(seed)\n",
    "    _, step_info = env.reset(seed)\n",
    "\n",
    "    while True:\n",
    "        # get action from expert driving\n",
    "        action = expert(env.agent, deterministic=True)\n",
    "        obs, reward, tm, tr, step_info = env.step(action)\n",
    "\n",
    "        if tm or tr:\n",
    "            break\n",
    "\n",
    "    # save_map_data(env)\n",
    "    env.close()"
   ]
  },
  {
   "cell_type": "code",
   "execution_count": null,
   "metadata": {},
   "outputs": [],
   "source": [
    "run_scenario(10)"
   ]
  },
  {
   "cell_type": "code",
   "execution_count": null,
   "metadata": {},
   "outputs": [],
   "source": [
    "env = create_env()\n",
    "obs, step_info = env.reset(0)"
   ]
  },
  {
   "cell_type": "code",
   "execution_count": null,
   "metadata": {},
   "outputs": [],
   "source": [
    "for step in range(5):\n",
    "\n",
    "    # get action from expert driving, or a dummy action\n",
    "    action = expert(env.agent, deterministic=True)\n",
    "    obs, reward, tm, tr, step_info = env.step(action)\n",
    "\n",
    "    if tm or tr:\n",
    "        break"
   ]
  },
  {
   "cell_type": "code",
   "execution_count": null,
   "metadata": {},
   "outputs": [],
   "source": [
    "def get_map_img(env):\n",
    "    map = env.current_map.get_semantic_map(\n",
    "        env.current_map.get_center_point(),\n",
    "        size=1024 * 2,\n",
    "        pixels_per_meter=4,\n",
    "    )\n",
    "    map = map.squeeze()  # reduce dimensionality\n",
    "    map = (map * 255).astype(np.uint8)\n",
    "    img = Image.fromarray(map)\n",
    "    return img\n",
    "\n",
    "\n",
    "get_map_img(env)"
   ]
  },
  {
   "cell_type": "code",
   "execution_count": null,
   "metadata": {},
   "outputs": [],
   "source": [
    "map = env.current_map\n",
    "map_data = map.get_meta_data()\n",
    "pprint(map_data[\"block_sequence\"])"
   ]
  },
  {
   "cell_type": "code",
   "execution_count": null,
   "metadata": {},
   "outputs": [],
   "source": [
    "map.show_coordinates()"
   ]
  },
  {
   "cell_type": "code",
   "execution_count": null,
   "metadata": {},
   "outputs": [],
   "source": []
  }
 ],
 "metadata": {
  "kernelspec": {
   "display_name": "metadrive",
   "language": "python",
   "name": "python3"
  },
  "language_info": {
   "codemirror_mode": {
    "name": "ipython",
    "version": 3
   },
   "file_extension": ".py",
   "mimetype": "text/x-python",
   "name": "python",
   "nbconvert_exporter": "python",
   "pygments_lexer": "ipython3",
   "version": "3.10.14"
  }
 },
 "nbformat": 4,
 "nbformat_minor": 2
}
