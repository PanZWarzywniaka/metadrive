{
 "cells": [
  {
   "cell_type": "code",
   "execution_count": 1,
   "metadata": {},
   "outputs": [],
   "source": [
    "import pandas as pd\n",
    "from pathlib import Path\n",
    "import json\n",
    "from pprint import pprint\n",
    "import math\n",
    "from tqdm import tqdm\n",
    "import seaborn as sns\n",
    "import matplotlib.pyplot as plt\n",
    "from matplotlib import cm\n",
    "\n",
    "DATA_DIR = Path(\"data/benchmarking_2\")"
   ]
  },
  {
   "cell_type": "code",
   "execution_count": 2,
   "metadata": {},
   "outputs": [],
   "source": [
    "def get_in_road_percentage(steps_df: pd.DataFrame) -> float:\n",
    "    ret = steps_df[\"out_of_road\"].value_counts(normalize=True).at[False]\n",
    "    return ret"
   ]
  },
  {
   "cell_type": "code",
   "execution_count": 3,
   "metadata": {},
   "outputs": [],
   "source": [
    "def get_n_sidewalk_crashes(steps_df: pd.DataFrame) -> int:\n",
    "    \"\"\"Count number of crash episodes to not count same crash multiple times\"\"\"\n",
    "    try:\n",
    "        # count number of times \"crash\" becomes True for some time\n",
    "        n_crashes = steps_df[\"crash_sidewalk\"].diff().value_counts().at[True]\n",
    "\n",
    "        # need to divide by 2 beacouse diff counts twice\n",
    "        n_crashes /= 2\n",
    "\n",
    "        # just in case crash is last episode and we have 3.5 crash episodes make it 4\n",
    "        n_crashes = math.ceil(n_crashes)\n",
    "    except KeyError:\n",
    "        n_crashes = 0\n",
    "\n",
    "    return n_crashes"
   ]
  },
  {
   "cell_type": "code",
   "execution_count": 4,
   "metadata": {},
   "outputs": [],
   "source": [
    "def process_steps(steps_infos: list) -> dict:\n",
    "    \"\"\"Accepts a list of steps and returns a dict of interesting data\"\"\"\n",
    "\n",
    "    steps_df = pd.DataFrame(steps_infos)\n",
    "    steps_data = {}\n",
    "    last_step = steps_df.iloc[-1]\n",
    "\n",
    "    steps_data = {\n",
    "        \"termination.arrive_dest\": last_step[\"arrive_dest\"],\n",
    "        \"termination.timeout\": last_step[\"max_step\"],\n",
    "        \"route_completion\": last_step[\"route_completion\"],\n",
    "        \"seed\": last_step[\"env_seed\"],\n",
    "        \"in_road_percentage\": get_in_road_percentage(steps_df),\n",
    "        \"n_sidewalk_crashes\": get_n_sidewalk_crashes(steps_df),\n",
    "    }\n",
    "\n",
    "    return steps_data"
   ]
  },
  {
   "cell_type": "code",
   "execution_count": 5,
   "metadata": {},
   "outputs": [],
   "source": [
    "def get_scenarios_df(dir: Path):\n",
    "    paths = list(dir.glob(\"*/*.json\"))\n",
    "\n",
    "    scenarios = []\n",
    "    for file_path in tqdm(paths):\n",
    "\n",
    "        with open(file_path, \"r\") as f:\n",
    "            scenario_data = json.load(f)\n",
    "\n",
    "        dir = file_path.__str__().split(\"/\")[-2]\n",
    "        _, dr, _, dt = dir.split(\"_\")\n",
    "        scenario_data[\"decision_repeat\"] = int(dr)\n",
    "        scenario_data[\"dt\"] = float(dt)\n",
    "\n",
    "        steps_infos = scenario_data.pop(\"steps_infos\")\n",
    "        scenario_data.update(process_steps(steps_infos))\n",
    "        scenarios.append(scenario_data)\n",
    "    return pd.DataFrame(scenarios)"
   ]
  },
  {
   "cell_type": "code",
   "execution_count": 6,
   "metadata": {},
   "outputs": [
    {
     "name": "stderr",
     "output_type": "stream",
     "text": [
      "100%|██████████| 1200/1200 [00:06<00:00, 189.66it/s]\n"
     ]
    }
   ],
   "source": [
    "df = get_scenarios_df(DATA_DIR)"
   ]
  },
  {
   "cell_type": "code",
   "execution_count": 7,
   "metadata": {},
   "outputs": [],
   "source": [
    "df = df.set_index(\n",
    "    [\n",
    "        \"dt\",\n",
    "        \"decision_repeat\",\n",
    "        \"seed\",\n",
    "    ],\n",
    "    verify_integrity=True,\n",
    ")\n",
    "\n",
    "df = df.sort_index()"
   ]
  },
  {
   "cell_type": "code",
   "execution_count": 8,
   "metadata": {},
   "outputs": [
    {
     "data": {
      "text/html": [
       "<div>\n",
       "<style scoped>\n",
       "    .dataframe tbody tr th:only-of-type {\n",
       "        vertical-align: middle;\n",
       "    }\n",
       "\n",
       "    .dataframe tbody tr th {\n",
       "        vertical-align: top;\n",
       "    }\n",
       "\n",
       "    .dataframe thead th {\n",
       "        text-align: right;\n",
       "    }\n",
       "</style>\n",
       "<table border=\"1\" class=\"dataframe\">\n",
       "  <thead>\n",
       "    <tr style=\"text-align: right;\">\n",
       "      <th></th>\n",
       "      <th></th>\n",
       "      <th></th>\n",
       "      <th>def.map_seq</th>\n",
       "      <th>def.bv_data</th>\n",
       "      <th>def.max_steps</th>\n",
       "      <th>start_ts</th>\n",
       "      <th>initialized_ts</th>\n",
       "      <th>scenario_done_ts</th>\n",
       "      <th>init_time</th>\n",
       "      <th>scenario_time</th>\n",
       "      <th>total_time</th>\n",
       "      <th>n_crashed_vehicles</th>\n",
       "      <th>termination.arrive_dest</th>\n",
       "      <th>termination.timeout</th>\n",
       "      <th>route_completion</th>\n",
       "      <th>in_road_percentage</th>\n",
       "      <th>n_sidewalk_crashes</th>\n",
       "    </tr>\n",
       "    <tr>\n",
       "      <th>dt</th>\n",
       "      <th>decision_repeat</th>\n",
       "      <th>seed</th>\n",
       "      <th></th>\n",
       "      <th></th>\n",
       "      <th></th>\n",
       "      <th></th>\n",
       "      <th></th>\n",
       "      <th></th>\n",
       "      <th></th>\n",
       "      <th></th>\n",
       "      <th></th>\n",
       "      <th></th>\n",
       "      <th></th>\n",
       "      <th></th>\n",
       "      <th></th>\n",
       "      <th></th>\n",
       "      <th></th>\n",
       "    </tr>\n",
       "  </thead>\n",
       "  <tbody>\n",
       "    <tr>\n",
       "      <th rowspan=\"5\" valign=\"top\">0.02</th>\n",
       "      <th rowspan=\"5\" valign=\"top\">5</th>\n",
       "      <th>0</th>\n",
       "      <td>[{'id': 'I', 'pre_block_socket_index': None}, ...</td>\n",
       "      <td>[{'length': 4.515, 'width': 1.852, 'height': 1...</td>\n",
       "      <td>3364</td>\n",
       "      <td>14297.994562</td>\n",
       "      <td>14298.385102</td>\n",
       "      <td>14335.377040</td>\n",
       "      <td>0.390540</td>\n",
       "      <td>36.991938</td>\n",
       "      <td>37.382478</td>\n",
       "      <td>0</td>\n",
       "      <td>True</td>\n",
       "      <td>False</td>\n",
       "      <td>0.993165</td>\n",
       "      <td>1.000000</td>\n",
       "      <td>0</td>\n",
       "    </tr>\n",
       "    <tr>\n",
       "      <th>1</th>\n",
       "      <td>[{'id': 'I', 'pre_block_socket_index': None}, ...</td>\n",
       "      <td>[{'length': 4.515, 'width': 1.852, 'height': 1...</td>\n",
       "      <td>1892</td>\n",
       "      <td>14497.187548</td>\n",
       "      <td>14497.460049</td>\n",
       "      <td>14568.143965</td>\n",
       "      <td>0.272501</td>\n",
       "      <td>70.683916</td>\n",
       "      <td>70.956416</td>\n",
       "      <td>2</td>\n",
       "      <td>False</td>\n",
       "      <td>True</td>\n",
       "      <td>0.347422</td>\n",
       "      <td>1.000000</td>\n",
       "      <td>0</td>\n",
       "    </tr>\n",
       "    <tr>\n",
       "      <th>2</th>\n",
       "      <td>[{'id': 'I', 'pre_block_socket_index': None}, ...</td>\n",
       "      <td>[{'length': 4.515, 'width': 1.852, 'height': 1...</td>\n",
       "      <td>3574</td>\n",
       "      <td>14664.514194</td>\n",
       "      <td>14664.816701</td>\n",
       "      <td>14703.971781</td>\n",
       "      <td>0.302506</td>\n",
       "      <td>39.155080</td>\n",
       "      <td>39.457586</td>\n",
       "      <td>0</td>\n",
       "      <td>True</td>\n",
       "      <td>False</td>\n",
       "      <td>0.993434</td>\n",
       "      <td>1.000000</td>\n",
       "      <td>0</td>\n",
       "    </tr>\n",
       "    <tr>\n",
       "      <th>3</th>\n",
       "      <td>[{'id': 'I', 'pre_block_socket_index': None}, ...</td>\n",
       "      <td>[{'length': 4.515, 'width': 1.852, 'height': 1...</td>\n",
       "      <td>2092</td>\n",
       "      <td>14936.599530</td>\n",
       "      <td>14936.911753</td>\n",
       "      <td>14964.727519</td>\n",
       "      <td>0.312222</td>\n",
       "      <td>27.815767</td>\n",
       "      <td>28.127989</td>\n",
       "      <td>0</td>\n",
       "      <td>True</td>\n",
       "      <td>False</td>\n",
       "      <td>0.989208</td>\n",
       "      <td>1.000000</td>\n",
       "      <td>0</td>\n",
       "    </tr>\n",
       "    <tr>\n",
       "      <th>4</th>\n",
       "      <td>[{'id': 'I', 'pre_block_socket_index': None}, ...</td>\n",
       "      <td>[{'length': 4.515, 'width': 1.852, 'height': 1...</td>\n",
       "      <td>2815</td>\n",
       "      <td>15083.427330</td>\n",
       "      <td>15083.768677</td>\n",
       "      <td>15122.644177</td>\n",
       "      <td>0.341347</td>\n",
       "      <td>38.875499</td>\n",
       "      <td>39.216847</td>\n",
       "      <td>1</td>\n",
       "      <td>True</td>\n",
       "      <td>False</td>\n",
       "      <td>0.990902</td>\n",
       "      <td>1.000000</td>\n",
       "      <td>0</td>\n",
       "    </tr>\n",
       "    <tr>\n",
       "      <th>...</th>\n",
       "      <th>...</th>\n",
       "      <th>...</th>\n",
       "      <td>...</td>\n",
       "      <td>...</td>\n",
       "      <td>...</td>\n",
       "      <td>...</td>\n",
       "      <td>...</td>\n",
       "      <td>...</td>\n",
       "      <td>...</td>\n",
       "      <td>...</td>\n",
       "      <td>...</td>\n",
       "      <td>...</td>\n",
       "      <td>...</td>\n",
       "      <td>...</td>\n",
       "      <td>...</td>\n",
       "      <td>...</td>\n",
       "      <td>...</td>\n",
       "    </tr>\n",
       "    <tr>\n",
       "      <th rowspan=\"5\" valign=\"top\">0.04</th>\n",
       "      <th rowspan=\"5\" valign=\"top\">20</th>\n",
       "      <th>95</th>\n",
       "      <td>[{'id': 'I', 'pre_block_socket_index': None}, ...</td>\n",
       "      <td>[{'length': 4.515, 'width': 1.852, 'height': 1...</td>\n",
       "      <td>423</td>\n",
       "      <td>11750.692365</td>\n",
       "      <td>11751.003348</td>\n",
       "      <td>11751.365077</td>\n",
       "      <td>0.310982</td>\n",
       "      <td>0.361729</td>\n",
       "      <td>0.672712</td>\n",
       "      <td>0</td>\n",
       "      <td>False</td>\n",
       "      <td>False</td>\n",
       "      <td>0.159905</td>\n",
       "      <td>0.973684</td>\n",
       "      <td>1</td>\n",
       "    </tr>\n",
       "    <tr>\n",
       "      <th>96</th>\n",
       "      <td>[{'id': 'I', 'pre_block_socket_index': None}, ...</td>\n",
       "      <td>[{'length': 4.515, 'width': 1.852, 'height': 1...</td>\n",
       "      <td>330</td>\n",
       "      <td>11779.477297</td>\n",
       "      <td>11779.781817</td>\n",
       "      <td>11780.598203</td>\n",
       "      <td>0.304520</td>\n",
       "      <td>0.816386</td>\n",
       "      <td>1.120907</td>\n",
       "      <td>1</td>\n",
       "      <td>True</td>\n",
       "      <td>False</td>\n",
       "      <td>0.991643</td>\n",
       "      <td>1.000000</td>\n",
       "      <td>3</td>\n",
       "    </tr>\n",
       "    <tr>\n",
       "      <th>97</th>\n",
       "      <td>[{'id': 'I', 'pre_block_socket_index': None}, ...</td>\n",
       "      <td>[{'length': 4.515, 'width': 1.852, 'height': 1...</td>\n",
       "      <td>352</td>\n",
       "      <td>11812.076223</td>\n",
       "      <td>11812.620152</td>\n",
       "      <td>11812.769872</td>\n",
       "      <td>0.543929</td>\n",
       "      <td>0.149720</td>\n",
       "      <td>0.693649</td>\n",
       "      <td>0</td>\n",
       "      <td>False</td>\n",
       "      <td>False</td>\n",
       "      <td>0.132175</td>\n",
       "      <td>0.937500</td>\n",
       "      <td>1</td>\n",
       "    </tr>\n",
       "    <tr>\n",
       "      <th>98</th>\n",
       "      <td>[{'id': 'I', 'pre_block_socket_index': None}, ...</td>\n",
       "      <td>[{'length': 4.515, 'width': 1.852, 'height': 1...</td>\n",
       "      <td>342</td>\n",
       "      <td>11851.082107</td>\n",
       "      <td>11851.520293</td>\n",
       "      <td>11852.703743</td>\n",
       "      <td>0.438186</td>\n",
       "      <td>1.183450</td>\n",
       "      <td>1.621636</td>\n",
       "      <td>3</td>\n",
       "      <td>True</td>\n",
       "      <td>False</td>\n",
       "      <td>0.995902</td>\n",
       "      <td>1.000000</td>\n",
       "      <td>0</td>\n",
       "    </tr>\n",
       "    <tr>\n",
       "      <th>99</th>\n",
       "      <td>[{'id': 'I', 'pre_block_socket_index': None}, ...</td>\n",
       "      <td>[{'length': 4.515, 'width': 1.852, 'height': 1...</td>\n",
       "      <td>251</td>\n",
       "      <td>11869.535328</td>\n",
       "      <td>11869.758890</td>\n",
       "      <td>11870.092759</td>\n",
       "      <td>0.223563</td>\n",
       "      <td>0.333869</td>\n",
       "      <td>0.557431</td>\n",
       "      <td>0</td>\n",
       "      <td>False</td>\n",
       "      <td>False</td>\n",
       "      <td>0.602212</td>\n",
       "      <td>0.987805</td>\n",
       "      <td>1</td>\n",
       "    </tr>\n",
       "  </tbody>\n",
       "</table>\n",
       "<p>1200 rows × 15 columns</p>\n",
       "</div>"
      ],
      "text/plain": [
       "                                                                 def.map_seq  \\\n",
       "dt   decision_repeat seed                                                      \n",
       "0.02 5               0     [{'id': 'I', 'pre_block_socket_index': None}, ...   \n",
       "                     1     [{'id': 'I', 'pre_block_socket_index': None}, ...   \n",
       "                     2     [{'id': 'I', 'pre_block_socket_index': None}, ...   \n",
       "                     3     [{'id': 'I', 'pre_block_socket_index': None}, ...   \n",
       "                     4     [{'id': 'I', 'pre_block_socket_index': None}, ...   \n",
       "...                                                                      ...   \n",
       "0.04 20              95    [{'id': 'I', 'pre_block_socket_index': None}, ...   \n",
       "                     96    [{'id': 'I', 'pre_block_socket_index': None}, ...   \n",
       "                     97    [{'id': 'I', 'pre_block_socket_index': None}, ...   \n",
       "                     98    [{'id': 'I', 'pre_block_socket_index': None}, ...   \n",
       "                     99    [{'id': 'I', 'pre_block_socket_index': None}, ...   \n",
       "\n",
       "                                                                 def.bv_data  \\\n",
       "dt   decision_repeat seed                                                      \n",
       "0.02 5               0     [{'length': 4.515, 'width': 1.852, 'height': 1...   \n",
       "                     1     [{'length': 4.515, 'width': 1.852, 'height': 1...   \n",
       "                     2     [{'length': 4.515, 'width': 1.852, 'height': 1...   \n",
       "                     3     [{'length': 4.515, 'width': 1.852, 'height': 1...   \n",
       "                     4     [{'length': 4.515, 'width': 1.852, 'height': 1...   \n",
       "...                                                                      ...   \n",
       "0.04 20              95    [{'length': 4.515, 'width': 1.852, 'height': 1...   \n",
       "                     96    [{'length': 4.515, 'width': 1.852, 'height': 1...   \n",
       "                     97    [{'length': 4.515, 'width': 1.852, 'height': 1...   \n",
       "                     98    [{'length': 4.515, 'width': 1.852, 'height': 1...   \n",
       "                     99    [{'length': 4.515, 'width': 1.852, 'height': 1...   \n",
       "\n",
       "                           def.max_steps      start_ts  initialized_ts  \\\n",
       "dt   decision_repeat seed                                                \n",
       "0.02 5               0              3364  14297.994562    14298.385102   \n",
       "                     1              1892  14497.187548    14497.460049   \n",
       "                     2              3574  14664.514194    14664.816701   \n",
       "                     3              2092  14936.599530    14936.911753   \n",
       "                     4              2815  15083.427330    15083.768677   \n",
       "...                                  ...           ...             ...   \n",
       "0.04 20              95              423  11750.692365    11751.003348   \n",
       "                     96              330  11779.477297    11779.781817   \n",
       "                     97              352  11812.076223    11812.620152   \n",
       "                     98              342  11851.082107    11851.520293   \n",
       "                     99              251  11869.535328    11869.758890   \n",
       "\n",
       "                           scenario_done_ts  init_time  scenario_time  \\\n",
       "dt   decision_repeat seed                                               \n",
       "0.02 5               0         14335.377040   0.390540      36.991938   \n",
       "                     1         14568.143965   0.272501      70.683916   \n",
       "                     2         14703.971781   0.302506      39.155080   \n",
       "                     3         14964.727519   0.312222      27.815767   \n",
       "                     4         15122.644177   0.341347      38.875499   \n",
       "...                                     ...        ...            ...   \n",
       "0.04 20              95        11751.365077   0.310982       0.361729   \n",
       "                     96        11780.598203   0.304520       0.816386   \n",
       "                     97        11812.769872   0.543929       0.149720   \n",
       "                     98        11852.703743   0.438186       1.183450   \n",
       "                     99        11870.092759   0.223563       0.333869   \n",
       "\n",
       "                           total_time  n_crashed_vehicles  \\\n",
       "dt   decision_repeat seed                                   \n",
       "0.02 5               0      37.382478                   0   \n",
       "                     1      70.956416                   2   \n",
       "                     2      39.457586                   0   \n",
       "                     3      28.127989                   0   \n",
       "                     4      39.216847                   1   \n",
       "...                               ...                 ...   \n",
       "0.04 20              95      0.672712                   0   \n",
       "                     96      1.120907                   1   \n",
       "                     97      0.693649                   0   \n",
       "                     98      1.621636                   3   \n",
       "                     99      0.557431                   0   \n",
       "\n",
       "                           termination.arrive_dest  termination.timeout  \\\n",
       "dt   decision_repeat seed                                                 \n",
       "0.02 5               0                        True                False   \n",
       "                     1                       False                 True   \n",
       "                     2                        True                False   \n",
       "                     3                        True                False   \n",
       "                     4                        True                False   \n",
       "...                                            ...                  ...   \n",
       "0.04 20              95                      False                False   \n",
       "                     96                       True                False   \n",
       "                     97                      False                False   \n",
       "                     98                       True                False   \n",
       "                     99                      False                False   \n",
       "\n",
       "                           route_completion  in_road_percentage  \\\n",
       "dt   decision_repeat seed                                         \n",
       "0.02 5               0             0.993165            1.000000   \n",
       "                     1             0.347422            1.000000   \n",
       "                     2             0.993434            1.000000   \n",
       "                     3             0.989208            1.000000   \n",
       "                     4             0.990902            1.000000   \n",
       "...                                     ...                 ...   \n",
       "0.04 20              95            0.159905            0.973684   \n",
       "                     96            0.991643            1.000000   \n",
       "                     97            0.132175            0.937500   \n",
       "                     98            0.995902            1.000000   \n",
       "                     99            0.602212            0.987805   \n",
       "\n",
       "                           n_sidewalk_crashes  \n",
       "dt   decision_repeat seed                      \n",
       "0.02 5               0                      0  \n",
       "                     1                      0  \n",
       "                     2                      0  \n",
       "                     3                      0  \n",
       "                     4                      0  \n",
       "...                                       ...  \n",
       "0.04 20              95                     1  \n",
       "                     96                     3  \n",
       "                     97                     1  \n",
       "                     98                     0  \n",
       "                     99                     1  \n",
       "\n",
       "[1200 rows x 15 columns]"
      ]
     },
     "execution_count": 8,
     "metadata": {},
     "output_type": "execute_result"
    }
   ],
   "source": [
    "df"
   ]
  },
  {
   "cell_type": "code",
   "execution_count": 9,
   "metadata": {},
   "outputs": [],
   "source": [
    "# calculate driving score\n",
    "# ! Problem changing the values here in the analysis can change % error\n",
    "def calculate_driving_score(df):\n",
    "    df[\"driving_score\"] = (\n",
    "        df[\"route_completion\"]\n",
    "        * df[\"in_road_percentage\"]\n",
    "        * (0.65) ** df[\"n_sidewalk_crashes\"]\n",
    "        * (0.60) ** df[\"n_crashed_vehicles\"]\n",
    "    )\n",
    "    return df\n",
    "\n",
    "\n",
    "df = calculate_driving_score(df)"
   ]
  },
  {
   "cell_type": "code",
   "execution_count": 10,
   "metadata": {},
   "outputs": [
    {
     "data": {
      "text/plain": [
       "count    1200.000000\n",
       "mean        0.557781\n",
       "std         0.332933\n",
       "min         0.001882\n",
       "25%         0.265636\n",
       "50%         0.594773\n",
       "75%         0.990249\n",
       "max         1.000638\n",
       "Name: driving_score, dtype: float64"
      ]
     },
     "execution_count": 10,
     "metadata": {},
     "output_type": "execute_result"
    }
   ],
   "source": [
    "df[\"driving_score\"].describe()"
   ]
  },
  {
   "cell_type": "markdown",
   "metadata": {},
   "source": [
    "## Getting scenario featuers\n"
   ]
  },
  {
   "cell_type": "code",
   "execution_count": 11,
   "metadata": {},
   "outputs": [],
   "source": [
    "def get_features(col_name):\n",
    "    x = df[col_name]\n",
    "    x = x.reset_index(drop=True)\n",
    "    x = pd.json_normalize(x)\n",
    "    x = pd.concat(\n",
    "        [pd.json_normalize(x[col]).add_prefix(f\"{col}.\") for col in x], axis=1\n",
    "    )\n",
    "    # convert lists to strings\n",
    "    x = x.map(lambda x: \",\".join(x) if isinstance(x, list) else x)\n",
    "    x = pd.get_dummies(x)\n",
    "    x = x.add_prefix(f\"{col_name}.\")\n",
    "    return x"
   ]
  },
  {
   "cell_type": "code",
   "execution_count": 12,
   "metadata": {},
   "outputs": [],
   "source": [
    "def_columns = [\"def.map_seq\", \"def.bv_data\"]\n",
    "\n",
    "\n",
    "map_feat = get_features(\"def.map_seq\")\n",
    "bv_feat = get_features(\"def.bv_data\")\n",
    "\n",
    "S = map_feat.join(bv_feat).to_numpy()"
   ]
  },
  {
   "cell_type": "code",
   "execution_count": 13,
   "metadata": {},
   "outputs": [
    {
     "data": {
      "text/plain": [
       "(1200, 1309)"
      ]
     },
     "execution_count": 13,
     "metadata": {},
     "output_type": "execute_result"
    }
   ],
   "source": [
    "S.shape"
   ]
  },
  {
   "cell_type": "markdown",
   "metadata": {},
   "source": [
    "## Get fid vector\n"
   ]
  },
  {
   "cell_type": "code",
   "execution_count": 14,
   "metadata": {},
   "outputs": [
    {
     "data": {
      "text/plain": [
       "((1200, 2),\n",
       " array([[ 0.02,  5.  ],\n",
       "        [ 0.02,  5.  ],\n",
       "        [ 0.02,  5.  ],\n",
       "        ...,\n",
       "        [ 0.04, 20.  ],\n",
       "        [ 0.04, 20.  ],\n",
       "        [ 0.04, 20.  ]]))"
      ]
     },
     "execution_count": 14,
     "metadata": {},
     "output_type": "execute_result"
    }
   ],
   "source": [
    "import numpy as np\n",
    "\n",
    "fid = df.index.droplevel(\"seed\")\n",
    "fid = fid.to_numpy()\n",
    "\n",
    "fid = np.vstack(fid)\n",
    "\n",
    "fid.shape, fid,"
   ]
  },
  {
   "cell_type": "markdown",
   "metadata": {},
   "source": [
    "### Adding to scenario data\n"
   ]
  },
  {
   "cell_type": "code",
   "execution_count": 15,
   "metadata": {},
   "outputs": [
    {
     "data": {
      "text/plain": [
       "(1200, 1311)"
      ]
     },
     "execution_count": 15,
     "metadata": {},
     "output_type": "execute_result"
    }
   ],
   "source": [
    "X = np.hstack((fid, S))\n",
    "X.shape"
   ]
  },
  {
   "cell_type": "markdown",
   "metadata": {},
   "source": [
    "## Get DScore vector\n"
   ]
  },
  {
   "cell_type": "code",
   "execution_count": 16,
   "metadata": {},
   "outputs": [
    {
     "data": {
      "text/plain": [
       "((1200,),\n",
       " array([0.99316503, 0.12507196, 0.99343402, ..., 0.08054419, 0.21511478,\n",
       "        0.38666393]))"
      ]
     },
     "execution_count": 16,
     "metadata": {},
     "output_type": "execute_result"
    }
   ],
   "source": [
    "y = df[\"driving_score\"].to_numpy()\n",
    "y.shape, y"
   ]
  },
  {
   "cell_type": "markdown",
   "metadata": {},
   "source": [
    "# Fitting GPR\n"
   ]
  },
  {
   "cell_type": "markdown",
   "metadata": {},
   "source": [
    "### Handling NaNs\n"
   ]
  },
  {
   "cell_type": "code",
   "execution_count": 47,
   "metadata": {},
   "outputs": [
    {
     "data": {
      "text/plain": [
       "array([[0.02, 5.0, 75.58282470703125, ..., False, False, False],\n",
       "       [0.02, 5.0, -1, ..., False, False, False],\n",
       "       [0.02, 5.0, -1, ..., False, False, False],\n",
       "       ...,\n",
       "       [0.04, 20.0, -1, ..., False, False, False],\n",
       "       [0.04, 20.0, -1, ..., False, False, False],\n",
       "       [0.04, 20.0, -1, ..., False, False, False]], dtype=object)"
      ]
     },
     "execution_count": 47,
     "metadata": {},
     "output_type": "execute_result"
    }
   ],
   "source": [
    "X[pd.isna(X)] = -1\n",
    "X"
   ]
  },
  {
   "cell_type": "code",
   "execution_count": 48,
   "metadata": {},
   "outputs": [],
   "source": [
    "from sklearn.gaussian_process import GaussianProcessRegressor\n",
    "from sklearn.gaussian_process.kernels import RBF\n",
    "from sklearn.model_selection import train_test_split"
   ]
  },
  {
   "cell_type": "code",
   "execution_count": 60,
   "metadata": {},
   "outputs": [
    {
     "data": {
      "text/plain": [
       "(120,)"
      ]
     },
     "execution_count": 60,
     "metadata": {},
     "output_type": "execute_result"
    }
   ],
   "source": [
    "X_train, X_test, y_train, y_test = train_test_split(\n",
    "    X, y, test_size=0.10, random_state=0, shuffle=True\n",
    ")\n",
    "\n",
    "y_test.shape"
   ]
  },
  {
   "cell_type": "code",
   "execution_count": 61,
   "metadata": {},
   "outputs": [
    {
     "data": {
      "text/plain": [
       "0.638**2 * RBF(length_scale=0.0135)"
      ]
     },
     "execution_count": 61,
     "metadata": {},
     "output_type": "execute_result"
    }
   ],
   "source": [
    "kernel = 1 * RBF()\n",
    "gaussian_process = GaussianProcessRegressor(kernel=kernel, n_restarts_optimizer=9)\n",
    "gaussian_process.fit(X_train, y_train)\n",
    "gaussian_process.kernel_"
   ]
  },
  {
   "cell_type": "code",
   "execution_count": 69,
   "metadata": {},
   "outputs": [
    {
     "data": {
      "text/plain": [
       "(array([ 0.0240111 ,  0.01662964,  0.05744131,  0.16288696,  0.46188753,\n",
       "         0.54357702,  0.61222045,  0.14169585,  0.36843489,  0.69329385,\n",
       "         0.31340557, -0.14531149,  0.04643631,  0.06223434,  0.08347742,\n",
       "         0.24441599, -0.14333465,  0.66742837, -0.03917267,  0.23515189,\n",
       "         0.        ,  0.19858977,  0.16288696, -0.14481927,  0.50746854,\n",
       "         0.08664729,  0.70910537,  0.63827417,  0.61454013, -0.36047707,\n",
       "         0.50652703,  0.75432066,  0.61623991,  0.54279063,  0.45428789,\n",
       "         0.3295611 ,  0.37006182, -0.10750587,  0.61466575,  0.71424538,\n",
       "         0.19759225,  1.07701895,  0.40686704,  0.55503983,  0.54485993,\n",
       "         0.22718029,  0.34112886, -0.31622496, -0.02404514,  0.69872637,\n",
       "         0.67776344,  0.1980185 , -0.18746139,  0.75432066,  0.61687844,\n",
       "         0.31340557,  0.22069013,  0.17563622,  0.75486968,  0.1413926 ,\n",
       "         0.84314034,  0.9048062 ,  0.04112913,  0.45298107,  0.11886325,\n",
       "         0.        ,  0.76743365,  0.39620822,  0.452006  ,  0.61806258,\n",
       "         1.13116798,  0.37181208,  0.75343396,  1.12953566,  1.13281319,\n",
       "         0.61899432,  0.61222322,  0.08438463,  0.55835241,  0.3707795 ,\n",
       "         0.84641304,  0.32936004,  0.10785586,  0.12092568,  0.45261223,\n",
       "         0.32998766,  0.61491517,  0.80480797,  0.68861057,  0.81833406,\n",
       "         0.03804145,  1.12921479,  0.13883482,  0.04704003,  0.24455227,\n",
       "         0.59019917,  0.19676782,  0.45261223, -0.21576965,  0.9054106 ,\n",
       "         0.27190794,  0.18424265,  1.12782809,  0.33037169,  0.14056047,\n",
       "         0.06604482,  0.23515189,  0.084094  ,  0.08373369,  0.84067512,\n",
       "         0.        ,  0.78657822, -0.361447  ,  0.36285147,  0.37221881,\n",
       "         0.7538939 ,  0.19096038,  0.60921384, -0.0681785 , -0.41179477]),\n",
       " array([0.33986599, 0.60233127, 0.33986599, 0.41576126, 0.23459368,\n",
       "        0.23459368, 0.33986599, 0.33986599, 0.33986599, 0.33986599,\n",
       "        0.41576126, 0.33986599, 0.33986599, 0.33986599, 0.60233127,\n",
       "        0.23459368, 0.33986599, 0.33986599, 0.33986599, 0.41576126,\n",
       "        0.63849494, 0.60233127, 0.41576126, 0.33986599, 0.33986599,\n",
       "        0.33986599, 0.23459368, 0.33986599, 0.33986599, 0.33986599,\n",
       "        0.33986599, 0.41576126, 0.33986599, 0.23459368, 0.41576126,\n",
       "        0.60233127, 0.33986599, 0.33986599, 0.33986599, 0.23459368,\n",
       "        0.60233127, 0.33986599, 0.23459368, 0.33986599, 0.23459368,\n",
       "        0.23459368, 0.33986599, 0.33986599, 0.33986599, 0.23459368,\n",
       "        0.23459368, 0.60233127, 0.33986599, 0.41576126, 0.33986599,\n",
       "        0.41576126, 0.33986599, 0.33986599, 0.41576126, 0.33986599,\n",
       "        0.33986599, 0.23459368, 0.33986599, 0.41576126, 0.60233127,\n",
       "        0.63849494, 0.23459368, 0.23459368, 0.41576126, 0.33986599,\n",
       "        0.23459368, 0.33986599, 0.41576126, 0.23459368, 0.23459368,\n",
       "        0.33986599, 0.33986599, 0.33986599, 0.33986599, 0.23459368,\n",
       "        0.33986599, 0.60233127, 0.23459368, 0.33986599, 0.41576126,\n",
       "        0.60233127, 0.33986599, 0.23459368, 0.23459368, 0.33986599,\n",
       "        0.41576126, 0.23459368, 0.33986599, 0.33986599, 0.23459368,\n",
       "        0.33986599, 0.23459368, 0.41576126, 0.33986599, 0.23459368,\n",
       "        0.41576126, 0.33986599, 0.23459368, 0.33986599, 0.33986599,\n",
       "        0.33986599, 0.41576126, 0.33986599, 0.33986599, 0.33986599,\n",
       "        0.63849494, 0.23459368, 0.33986599, 0.33986599, 0.23459368,\n",
       "        0.41576126, 0.41576126, 0.23459368, 0.33986599, 0.33986599]))"
      ]
     },
     "execution_count": 69,
     "metadata": {},
     "output_type": "execute_result"
    }
   ],
   "source": [
    "mean_prediction, std_prediction = gaussian_process.predict(X_test, return_std=True)\n",
    "\n",
    "mean_prediction, std_prediction"
   ]
  },
  {
   "cell_type": "code",
   "execution_count": 70,
   "metadata": {},
   "outputs": [
    {
     "data": {
      "text/plain": [
       "-0.7127280235620792"
      ]
     },
     "execution_count": 70,
     "metadata": {},
     "output_type": "execute_result"
    }
   ],
   "source": [
    "gaussian_process.score(X_test, y_test)"
   ]
  },
  {
   "cell_type": "code",
   "execution_count": 71,
   "metadata": {},
   "outputs": [],
   "source": [
    "from sklearn.model_selection import cross_val_score\n",
    "\n",
    "\n",
    "scores = cross_val_score(\n",
    "    GaussianProcessRegressor(kernel=kernel, n_restarts_optimizer=9), X, y, cv=10\n",
    ")\n",
    "scores"
   ]
  },
  {
   "cell_type": "code",
   "execution_count": 53,
   "metadata": {},
   "outputs": [
    {
     "name": "stdout",
     "output_type": "stream",
     "text": [
      "-1.82 accuracy with a standard deviation of 2.51\n"
     ]
    }
   ],
   "source": [
    "print(\n",
    "    \"%0.2f accuracy with a standard deviation of %0.2f\" % (scores.mean(), scores.std())\n",
    ")"
   ]
  }
 ],
 "metadata": {
  "kernelspec": {
   "display_name": "metadrive",
   "language": "python",
   "name": "python3"
  },
  "language_info": {
   "codemirror_mode": {
    "name": "ipython",
    "version": 3
   },
   "file_extension": ".py",
   "mimetype": "text/x-python",
   "name": "python",
   "nbconvert_exporter": "python",
   "pygments_lexer": "ipython3",
   "version": "3.12.1"
  }
 },
 "nbformat": 4,
 "nbformat_minor": 2
}
