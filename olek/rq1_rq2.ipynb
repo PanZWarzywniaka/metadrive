{
 "cells": [
  {
   "cell_type": "code",
   "execution_count": 18,
   "metadata": {},
   "outputs": [],
   "source": [
    "from metadrive.envs.metadrive_env import MetaDriveEnv\n",
    "from metadrive.policy.expert_policy import ExpertPolicy\n",
    "from metadrive.examples.ppo_expert.torch_expert import torch_expert as expert\n",
    "\n",
    "from IPython.display import Image, clear_output\n",
    "from pprint import pprint"
   ]
  },
  {
   "cell_type": "code",
   "execution_count": 19,
   "metadata": {},
   "outputs": [],
   "source": [
    "\n",
    "def run_scenario_n_times_buggy(n_scenarios=10, seed = 0, expert_driving=True)-> list:\n",
    "    \"\"\"\n",
    "        Runs same scenario n time and collects the traces\n",
    "    \"\"\"\n",
    "    \n",
    "    traces = []\n",
    "    try:\n",
    "        env=MetaDriveEnv(config={\"map\":\"C\",\n",
    "                                \"num_scenarios\": n_scenarios}\n",
    "        )\n",
    "\n",
    "        for rep in range(n_scenarios):\n",
    "\n",
    "            obs, step_info = env.reset(seed)\n",
    "            step_info['repetition'] = rep\n",
    "            traces.append(step_info)\n",
    "            print(f'{env.current_seed = }')\n",
    "            while True:\n",
    "                # get action from expert driving, or a dummy action\n",
    "                action = expert(env.agent, deterministic=True) if expert_driving else [0, 0.33]\n",
    "                obs, reward, tm, tr, step_info = env.step(action)\n",
    "                step_info['repetition'] = rep\n",
    "                traces.append(step_info)\n",
    "                \n",
    "                if tm or tr:\n",
    "                    break\n",
    "\n",
    "    finally:\n",
    "        env.close()\n",
    "\n",
    "    return traces\n",
    "\n"
   ]
  },
  {
   "cell_type": "code",
   "execution_count": 20,
   "metadata": {},
   "outputs": [],
   "source": [
    "\n",
    "def run_scenario_n_times_correct(n_scenarios=10, seed = 0, expert_driving=True)-> list:\n",
    "    \"\"\"\n",
    "        Runs same scenario n time and collects the traces\n",
    "    \"\"\"\n",
    "    \n",
    "    traces = []\n",
    "    try:\n",
    "\n",
    "        for rep in range(n_scenarios):\n",
    "            env=MetaDriveEnv(config={\"map\":\"C\",\n",
    "                                    \"num_scenarios\": n_scenarios}\n",
    "            )\n",
    "\n",
    "            obs, step_info = env.reset(seed)\n",
    "            step_info['repetition'] = rep\n",
    "            traces.append(step_info)\n",
    "            print(f'{env.current_seed = }')\n",
    "            while True:\n",
    "                \n",
    "                # get action from expert driving, or a dummy action\n",
    "                action = expert(env.agent, deterministic=True) if expert_driving else [0, 0.33]\n",
    "                obs, reward, tm, tr, step_info = env.step(action)\n",
    "                step_info['repetition'] = rep\n",
    "                traces.append(step_info)\n",
    "                \n",
    "                if tm or tr:\n",
    "                    break\n",
    "\n",
    "            env.close()\n",
    "    finally:\n",
    "        pass\n",
    "\n",
    "    return traces\n",
    "\n"
   ]
  },
  {
   "cell_type": "code",
   "execution_count": 21,
   "metadata": {},
   "outputs": [],
   "source": [
    "seed = 7\n",
    "\n",
    "buggy_traces = run_scenario_n_times_buggy(seed=seed, expert_driving=True)\n",
    "deterministic_traces = run_scenario_n_times_correct(seed=seed, expert_driving=True)\n",
    "clear_output()"
   ]
  },
  {
   "cell_type": "code",
   "execution_count": 22,
   "metadata": {},
   "outputs": [],
   "source": [
    "import pandas as pd\n",
    "\n",
    "def are_traces_deterministic(traces) -> bool:\n",
    "    df = pd.DataFrame(traces)\n",
    "\n",
    "    # grouping by repetition to get a list of traces\n",
    "    traces = df.groupby('repetition')\n",
    "\n",
    "    # drop index and repetition ID to compare only step info later\n",
    "    stripped_traces = [trace.reset_index(drop=True).drop('repetition', axis=1) for _, trace in traces]\n",
    "\n",
    "    # iterate over each trace and check if it is equal to the first one\n",
    "    are_equal_to_first_trace = [trace.equals(stripped_traces[0]) for trace in stripped_traces]\n",
    "\n",
    "    #if all traces are equal to the first, then all traces are equal hence deterministic\n",
    "    return all(are_equal_to_first_trace)"
   ]
  },
  {
   "cell_type": "code",
   "execution_count": 23,
   "metadata": {},
   "outputs": [
    {
     "data": {
      "text/plain": [
       "False"
      ]
     },
     "execution_count": 23,
     "metadata": {},
     "output_type": "execute_result"
    }
   ],
   "source": [
    "are_traces_deterministic(buggy_traces)"
   ]
  },
  {
   "cell_type": "code",
   "execution_count": 24,
   "metadata": {},
   "outputs": [
    {
     "data": {
      "text/plain": [
       "True"
      ]
     },
     "execution_count": 24,
     "metadata": {},
     "output_type": "execute_result"
    }
   ],
   "source": [
    "are_traces_deterministic(deterministic_traces)"
   ]
  }
 ],
 "metadata": {
  "kernelspec": {
   "display_name": "metadrive",
   "language": "python",
   "name": "python3"
  },
  "language_info": {
   "codemirror_mode": {
    "name": "ipython",
    "version": 3
   },
   "file_extension": ".py",
   "mimetype": "text/x-python",
   "name": "python",
   "nbconvert_exporter": "python",
   "pygments_lexer": "ipython3",
   "version": "3.10.14"
  }
 },
 "nbformat": 4,
 "nbformat_minor": 2
}
