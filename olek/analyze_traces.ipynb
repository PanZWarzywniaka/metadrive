{
 "cells": [
  {
   "cell_type": "code",
   "execution_count": 1,
   "metadata": {},
   "outputs": [],
   "source": [
    "import seaborn as sns\n",
    "import pandas as pd\n",
    "\n",
    "\n",
    "pd.set_option(\"display.max_columns\", None)"
   ]
  },
  {
   "cell_type": "code",
   "execution_count": 2,
   "metadata": {},
   "outputs": [
    {
     "name": "stdout",
     "output_type": "stream",
     "text": [
      "<class 'pandas.core.frame.DataFrame'>\n",
      "RangeIndex: 632891 entries, 0 to 632890\n",
      "Data columns (total 26 columns):\n",
      " #   Column                Non-Null Count   Dtype  \n",
      "---  ------                --------------   -----  \n",
      " 0   Unnamed: 0            632891 non-null  int64  \n",
      " 1   overtake_vehicle_num  632891 non-null  int64  \n",
      " 2   velocity              632891 non-null  float64\n",
      " 3   steering              632891 non-null  float64\n",
      " 4   acceleration          632891 non-null  float64\n",
      " 5   step_energy           632891 non-null  float64\n",
      " 6   episode_energy        632891 non-null  float64\n",
      " 7   policy                632891 non-null  object \n",
      " 8   crash_vehicle         632891 non-null  bool   \n",
      " 9   crash_object          632891 non-null  bool   \n",
      " 10  crash_building        632891 non-null  bool   \n",
      " 11  crash_human           632891 non-null  bool   \n",
      " 12  crash_sidewalk        632891 non-null  bool   \n",
      " 13  out_of_road           632891 non-null  bool   \n",
      " 14  arrive_dest           632891 non-null  bool   \n",
      " 15  max_step              632891 non-null  bool   \n",
      " 16  env_seed              632891 non-null  int64  \n",
      " 17  crash                 632891 non-null  bool   \n",
      " 18  step_reward           632891 non-null  float64\n",
      " 19  cost                  632891 non-null  float64\n",
      " 20  repetition            632891 non-null  int64  \n",
      " 21  action                628891 non-null  object \n",
      " 22  raw_action            628891 non-null  object \n",
      " 23  episode_reward        628891 non-null  float64\n",
      " 24  episode_length        628891 non-null  float64\n",
      " 25  decision_repeat       632891 non-null  int64  \n",
      "dtypes: bool(9), float64(9), int64(5), object(3)\n",
      "memory usage: 87.5+ MB\n"
     ]
    }
   ],
   "source": [
    "steps_df = pd.read_csv(\"data/1000_scenarios.csv\")\n",
    "steps_df.info()"
   ]
  },
  {
   "cell_type": "code",
   "execution_count": 3,
   "metadata": {},
   "outputs": [
    {
     "data": {
      "text/plain": [
       "out_of_road\n",
       "False    632883\n",
       "True          8\n",
       "Name: count, dtype: int64"
      ]
     },
     "execution_count": 3,
     "metadata": {},
     "output_type": "execute_result"
    }
   ],
   "source": [
    "steps_df[\"out_of_road\"].value_counts()"
   ]
  },
  {
   "cell_type": "code",
   "execution_count": 4,
   "metadata": {},
   "outputs": [
    {
     "name": "stdout",
     "output_type": "stream",
     "text": [
      "Dropped: overtake_vehicle_num\n",
      "Dropped: policy\n",
      "Dropped: crash_object\n",
      "Dropped: crash_building\n",
      "Dropped: crash_human\n"
     ]
    }
   ],
   "source": [
    "def drop_boring_columns(df):\n",
    "    # if a column has one elements its boring lets drop it\n",
    "    for series_name, series in df.items():\n",
    "        if len(series.apply(str).unique()) == 1:\n",
    "            df = df.drop(series_name, axis=1)\n",
    "            print(f\"Dropped: {series_name}\")\n",
    "\n",
    "    return df\n",
    "\n",
    "\n",
    "steps_df = drop_boring_columns(steps_df)"
   ]
  },
  {
   "cell_type": "code",
   "execution_count": 5,
   "metadata": {},
   "outputs": [],
   "source": [
    "grouped = steps_df.groupby(by=[\"decision_repeat\", \"env_seed\"])\n",
    "scenarios_df = grouped.last()\n",
    "# scenarios_df"
   ]
  },
  {
   "cell_type": "code",
   "execution_count": 6,
   "metadata": {},
   "outputs": [
    {
     "data": {
      "text/plain": [
       "validate_termination\n",
       "True    4000\n",
       "Name: count, dtype: int64"
      ]
     },
     "execution_count": 6,
     "metadata": {},
     "output_type": "execute_result"
    }
   ],
   "source": [
    "def validate_termination(s: pd.Series):\n",
    "    return s[\"crash\"] or s[\"arrive_dest\"] or s[\"max_step\"]\n",
    "\n",
    "\n",
    "scenarios_df[\"validate_termination\"] = scenarios_df.apply(validate_termination, axis=1)\n",
    "scenarios_df[\"validate_termination\"].value_counts()"
   ]
  },
  {
   "cell_type": "code",
   "execution_count": 7,
   "metadata": {},
   "outputs": [],
   "source": [
    "assert scenarios_df[\n",
    "    ~scenarios_df[\"validate_termination\"]\n",
    "].empty, \"Some scenarios termination was not valid!\""
   ]
  },
  {
   "cell_type": "code",
   "execution_count": 8,
   "metadata": {},
   "outputs": [
    {
     "data": {
      "text/plain": [
       "out_of_road\n",
       "False    3992\n",
       "True        8\n",
       "Name: count, dtype: int64"
      ]
     },
     "execution_count": 8,
     "metadata": {},
     "output_type": "execute_result"
    }
   ],
   "source": [
    "# was there any out of road episode?\n",
    "any_out_of_road = grouped[\"out_of_road\"].agg(any)\n",
    "any_out_of_road.value_counts()"
   ]
  },
  {
   "cell_type": "code",
   "execution_count": 9,
   "metadata": {},
   "outputs": [
    {
     "data": {
      "text/plain": [
       "crash\n",
       "False    3169\n",
       "True      831\n",
       "Name: count, dtype: int64"
      ]
     },
     "execution_count": 9,
     "metadata": {},
     "output_type": "execute_result"
    }
   ],
   "source": [
    "any_crash = grouped[\"crash\"].agg(any)\n",
    "any_crash.value_counts()"
   ]
  },
  {
   "cell_type": "code",
   "execution_count": 10,
   "metadata": {},
   "outputs": [
    {
     "data": {
      "text/plain": [
       "decision_repeat  env_seed\n",
       "5                0           314.0\n",
       "                 1           226.0\n",
       "                 2           337.0\n",
       "                 3           282.0\n",
       "                 4            92.0\n",
       "                             ...  \n",
       "20               995          52.0\n",
       "                 996          26.0\n",
       "                 997          79.0\n",
       "                 998          77.0\n",
       "                 999          90.0\n",
       "Name: episode_length, Length: 4000, dtype: float64"
      ]
     },
     "execution_count": 10,
     "metadata": {},
     "output_type": "execute_result"
    }
   ],
   "source": [
    "episode_length = grouped[\"episode_length\"].last()\n",
    "episode_length"
   ]
  },
  {
   "cell_type": "code",
   "execution_count": 11,
   "metadata": {},
   "outputs": [
    {
     "data": {
      "text/plain": [
       "decision_repeat\n",
       "5     287276.0\n",
       "10    149023.0\n",
       "15    106348.0\n",
       "20     86244.0\n",
       "Name: episode_length, dtype: float64"
      ]
     },
     "execution_count": 11,
     "metadata": {},
     "output_type": "execute_result"
    }
   ],
   "source": [
    "rq1 = episode_length.groupby(\"decision_repeat\").sum()\n",
    "rq1"
   ]
  },
  {
   "cell_type": "code",
   "execution_count": 12,
   "metadata": {},
   "outputs": [
    {
     "data": {
      "text/plain": [
       "out_of_road  crash\n",
       "False        False    3169\n",
       "             True      823\n",
       "True         True        8\n",
       "Name: count, dtype: int64"
      ]
     },
     "execution_count": 12,
     "metadata": {},
     "output_type": "execute_result"
    }
   ],
   "source": [
    "scenarios_df = pd.concat([any_out_of_road, any_crash], axis=1)\n",
    "scenarios_df.value_counts()"
   ]
  },
  {
   "cell_type": "code",
   "execution_count": 33,
   "metadata": {},
   "outputs": [],
   "source": [
    "oracle = scenarios_df.xs(5, level=\"decision_repeat\")"
   ]
  },
  {
   "cell_type": "code",
   "execution_count": 43,
   "metadata": {},
   "outputs": [],
   "source": [
    "def count_diffrent(scenario_df: pd.Series):\n",
    "\n",
    "    x = scenario_df.reset_index(drop=True).compare(oracle.reset_index(drop=True))\n",
    "    return len(x) / len(scenario_df)"
   ]
  },
  {
   "cell_type": "code",
   "execution_count": 44,
   "metadata": {},
   "outputs": [],
   "source": [
    "rq2 = scenarios_df.groupby(\"decision_repeat\").apply(count_diffrent)"
   ]
  },
  {
   "cell_type": "code",
   "execution_count": 45,
   "metadata": {},
   "outputs": [
    {
     "data": {
      "text/plain": [
       "<Axes: xlabel='decision_repeat'>"
      ]
     },
     "execution_count": 45,
     "metadata": {},
     "output_type": "execute_result"
    },
    {
     "data": {
      "image/png": "[encoded data removed]",
      "text/plain": [
       "<Figure size 640x480 with 2 Axes>"
      ]
     },
     "metadata": {},
     "output_type": "display_data"
    }
   ],
   "source": [
    "import seaborn as sns\n",
    "import matplotlib.pyplot as plt\n",
    "\n",
    "fig, (ax1, ax2) = plt.subplots(2, sharex=True)\n",
    "\n",
    "sns.scatterplot(rq1, ax=ax1)\n",
    "ax1.set_ylim(0)\n",
    "\n",
    "sns.scatterplot(rq2, ax=ax2)"
   ]
  },
  {
   "cell_type": "code",
   "execution_count": null,
   "metadata": {},
   "outputs": [],
   "source": []
  }
 ],
 "metadata": {
  "kernelspec": {
   "display_name": "metadrive",
   "language": "python",
   "name": "python3"
  },
  "language_info": {
   "codemirror_mode": {
    "name": "ipython",
    "version": 3
   },
   "file_extension": ".py",
   "mimetype": "text/x-python",
   "name": "python",
   "nbconvert_exporter": "python",
   "pygments_lexer": "ipython3",
   "version": "3.10.14"
  }
 },
 "nbformat": 4,
 "nbformat_minor": 2
}
