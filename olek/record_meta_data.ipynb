{
 "cells": [
  {
   "cell_type": "code",
   "execution_count": 1,
   "metadata": {},
   "outputs": [],
   "source": [
    "from metadrive.envs.metadrive_env import MetaDriveEnv\n",
    "from metadrive.component.map.base_map import BaseMap\n",
    "from metadrive.component.map.pg_map import MapGenerateMethod\n",
    "from metadrive.examples.ppo_expert.torch_expert import torch_expert as expert\n",
    "\n",
    "import logging\n",
    "from IPython.display import Image, clear_output\n",
    "import pandas as pd\n",
    "from pprint import pprint\n",
    "\n",
    "from PIL import Image\n",
    "import numpy as np"
   ]
  },
  {
   "cell_type": "code",
   "execution_count": 2,
   "metadata": {},
   "outputs": [],
   "source": [
    "def create_env(seed=0):\n",
    "    # ===== Termination Scheme =====\n",
    "    termination_sceme = dict(\n",
    "        out_of_route_done=False,\n",
    "        on_continuous_line_done=False,\n",
    "        crash_vehicle_done=True,\n",
    "        crash_object_done=True,\n",
    "        crash_human_done=True,\n",
    "    )\n",
    "    # ===== Map Config =====\n",
    "    map_config = {\n",
    "        BaseMap.GENERATE_TYPE: MapGenerateMethod.BIG_BLOCK_NUM,\n",
    "        BaseMap.GENERATE_CONFIG: 5,  # 20 block\n",
    "    }\n",
    "\n",
    "    cfg = dict(\n",
    "        # use_render=True,\n",
    "        horizon=1000,  # figure out what do do aboutit\n",
    "        record_episode=False,\n",
    "        start_seed=seed,\n",
    "        map_config=map_config,\n",
    "        **termination_sceme\n",
    "    )\n",
    "    env = MetaDriveEnv(config=cfg)\n",
    "    return env"
   ]
  },
  {
   "cell_type": "code",
   "execution_count": 3,
   "metadata": {},
   "outputs": [],
   "source": [
    "def run_scenario(seed: int = 0):\n",
    "    env = create_env(seed)\n",
    "    _, step_info = env.reset(seed)\n",
    "\n",
    "    while True:\n",
    "        # get action from expert driving\n",
    "        action = expert(env.agent, deterministic=True)\n",
    "        obs, reward, tm, tr, step_info = env.step(action)\n",
    "\n",
    "        if tm or tr:\n",
    "            break\n",
    "\n",
    "    # save_map_data(env)\n",
    "    env.close()"
   ]
  },
  {
   "cell_type": "code",
   "execution_count": 4,
   "metadata": {},
   "outputs": [
    {
     "name": "stderr",
     "output_type": "stream",
     "text": [
      "\u001b[38;20m[INFO] Environment: MetaDriveEnv\u001b[0m\n",
      "\u001b[38;20m[INFO] MetaDrive version: 0.4.2.3\u001b[0m\n",
      "\u001b[38;20m[INFO] Sensors: [lidar: Lidar(), side_detector: SideDetector(), lane_line_detector: LaneLineDetector()]\u001b[0m\n",
      "\u001b[38;20m[INFO] Render Mode: none\u001b[0m\n",
      "\u001b[38;20m[INFO] Horizon (Max steps per agent): 1000\u001b[0m\n",
      "\u001b[38;20m[INFO] Assets version: 0.4.2.3\u001b[0m\n",
      "\u001b[38;20m[INFO] Known Pipes: glxGraphicsPipe\u001b[0m\n",
      "\u001b[38;20m[INFO] Start Scenario Index: 10, Num Scenarios : 1\u001b[0m\n",
      "\u001b[38;20m[INFO] Use Torch PPO expert.\u001b[0m\n",
      "\u001b[38;20m[INFO] Episode ended! Scenario Index: 10 Reason: arrive_dest.\u001b[0m\n"
     ]
    }
   ],
   "source": [
    "run_scenario(10)"
   ]
  },
  {
   "cell_type": "code",
   "execution_count": 5,
   "metadata": {},
   "outputs": [
    {
     "name": "stderr",
     "output_type": "stream",
     "text": [
      "\u001b[38;20m[INFO] Environment: MetaDriveEnv\u001b[0m\n",
      "\u001b[38;20m[INFO] MetaDrive version: 0.4.2.3\u001b[0m\n",
      "\u001b[38;20m[INFO] Sensors: [lidar: Lidar(), side_detector: SideDetector(), lane_line_detector: LaneLineDetector()]\u001b[0m\n",
      "\u001b[38;20m[INFO] Render Mode: none\u001b[0m\n",
      "\u001b[38;20m[INFO] Horizon (Max steps per agent): 1000\u001b[0m\n",
      "\u001b[38;20m[INFO] Assets version: 0.4.2.3\u001b[0m\n",
      "\u001b[38;20m[INFO] Known Pipes: glxGraphicsPipe\u001b[0m\n",
      "\u001b[38;20m[INFO] Start Scenario Index: 51, Num Scenarios : 1\u001b[0m\n"
     ]
    }
   ],
   "source": [
    "env = create_env(seed=51)\n",
    "obs, step_info = env.reset()"
   ]
  },
  {
   "cell_type": "code",
   "execution_count": 6,
   "metadata": {},
   "outputs": [],
   "source": [
    "for step in range(5):\n",
    "\n",
    "    # get action from expert driving, or a dummy action\n",
    "    action = expert(env.agent, deterministic=True)\n",
    "    obs, reward, tm, tr, step_info = env.step(action)\n",
    "\n",
    "    if tm or tr:\n",
    "        break"
   ]
  },
  {
   "cell_type": "code",
   "execution_count": 30,
   "metadata": {},
   "outputs": [],
   "source": [
    "def get_map_img(env):\n",
    "    map = env.current_map.get_semantic_map(\n",
    "        env.current_map.get_center_point(),\n",
    "    )\n",
    "    map = map.squeeze()  # reduce dimensionality\n",
    "    map = (map * 255 * 4).astype(np.uint8)\n",
    "    img = Image.fromarray(map)\n",
    "    return img\n",
    "\n",
    "\n",
    "get_map_img(env)"
   ]
  },
  {
   "cell_type": "code",
   "execution_count": 26,
   "metadata": {},
   "outputs": [
    {
     "name": "stdout",
     "output_type": "stream",
     "text": [
      "[{'id': 'I', 'pre_block_socket_index': None},\n",
      " {'change_lane_num': 0,\n",
      "  'decrease_increase': 1,\n",
      "  'id': 'T',\n",
      "  'pre_block_socket_index': '0I-socket0',\n",
      "  'radius': 10.0,\n",
      "  't_type': 2},\n",
      " {'angle': 81.7476577758789,\n",
      "  'dir': 0,\n",
      "  'id': 'C',\n",
      "  'length': 56.33229064941406,\n",
      "  'pre_block_socket_index': '1T-socket0',\n",
      "  'radius': 39.29075622558594},\n",
      " {'change_lane_num': 0,\n",
      "  'decrease_increase': 1,\n",
      "  'id': 'T',\n",
      "  'pre_block_socket_index': '2C-socket0',\n",
      "  'radius': 10.0,\n",
      "  't_type': 1},\n",
      " {'id': 'S',\n",
      "  'length': 75.14972686767578,\n",
      "  'pre_block_socket_index': '3T-socket0'},\n",
      " {'angle': 60.0,\n",
      "  'exit_radius': 7.76340389251709,\n",
      "  'id': 'O',\n",
      "  'inner_radius': 23.290212631225586,\n",
      "  'pre_block_socket_index': '4S-socket0'}]\n"
     ]
    }
   ],
   "source": [
    "map = env.current_map\n",
    "map_data = map.get_meta_data()\n",
    "pprint(map_data[\"block_sequence\"])"
   ]
  },
  {
   "cell_type": "code",
   "execution_count": 27,
   "metadata": {},
   "outputs": [],
   "source": [
    "map.show_coordinates()"
   ]
  },
  {
   "cell_type": "code",
   "execution_count": null,
   "metadata": {},
   "outputs": [],
   "source": []
  }
 ],
 "metadata": {
  "kernelspec": {
   "display_name": "metadrive",
   "language": "python",
   "name": "python3"
  },
  "language_info": {
   "codemirror_mode": {
    "name": "ipython",
    "version": 3
   },
   "file_extension": ".py",
   "mimetype": "text/x-python",
   "name": "python",
   "nbconvert_exporter": "python",
   "pygments_lexer": "ipython3",
   "version": "3.10.14"
  }
 },
 "nbformat": 4,
 "nbformat_minor": 2
}
