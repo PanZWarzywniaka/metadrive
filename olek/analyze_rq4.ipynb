{
 "cells": [
  {
   "cell_type": "code",
   "execution_count": 1,
   "metadata": {},
   "outputs": [],
   "source": [
    "import pandas as pd\n",
    "from pathlib import Path\n",
    "import json\n",
    "from pprint import pprint\n",
    "import math\n",
    "from tqdm import tqdm\n",
    "import seaborn as sns\n",
    "import matplotlib.pyplot as plt\n",
    "from matplotlib import cm\n",
    "import numpy as np\n",
    "\n",
    "DATA_DIR = Path(\"data/benchmarking/nogif_1000\")\n",
    "DATA_DIR = Path(\"data/benchmarking/nocars\")\n",
    "SEED = 2137\n",
    "np.random.seed(SEED)"
   ]
  },
  {
   "cell_type": "code",
   "execution_count": 2,
   "metadata": {},
   "outputs": [],
   "source": [
    "def get_in_road_percentage(steps_df: pd.DataFrame) -> float:\n",
    "    ret = steps_df[\"out_of_road\"].value_counts(normalize=True).at[False]\n",
    "    return ret"
   ]
  },
  {
   "cell_type": "code",
   "execution_count": 3,
   "metadata": {},
   "outputs": [],
   "source": [
    "def get_n_sidewalk_crashes(steps_df: pd.DataFrame) -> int:\n",
    "    \"\"\"Count number of crash episodes to not count same crash multiple times\"\"\"\n",
    "    try:\n",
    "        # count number of times \"crash\" becomes True for some time\n",
    "        n_crashes = steps_df[\"crash_sidewalk\"].diff().value_counts().at[True]\n",
    "\n",
    "        # need to divide by 2 beacouse diff counts twice\n",
    "        n_crashes /= 2\n",
    "\n",
    "        # just in case crash is last episode and we have 3.5 crash episodes make it 4\n",
    "        n_crashes = math.ceil(n_crashes)\n",
    "    except KeyError:\n",
    "        n_crashes = 0\n",
    "\n",
    "    return n_crashes"
   ]
  },
  {
   "cell_type": "code",
   "execution_count": 4,
   "metadata": {},
   "outputs": [],
   "source": [
    "def process_steps(steps_infos: list) -> dict:\n",
    "    \"\"\"Accepts a list of steps and returns a dict of interesting data\"\"\"\n",
    "\n",
    "    steps_df = pd.DataFrame(steps_infos)\n",
    "    steps_data = {}\n",
    "    last_step = steps_df.iloc[-1]\n",
    "\n",
    "    steps_data = {\n",
    "        \"termination.arrive_dest\": last_step[\"arrive_dest\"],\n",
    "        \"termination.timeout\": last_step[\"max_step\"],\n",
    "        \"route_completion\": last_step[\"route_completion\"],\n",
    "        \"seed\": last_step[\"env_seed\"],\n",
    "        \"in_road_percentage\": get_in_road_percentage(steps_df),\n",
    "        \"n_sidewalk_crashes\": get_n_sidewalk_crashes(steps_df),\n",
    "    }\n",
    "\n",
    "    return steps_data"
   ]
  },
  {
   "cell_type": "code",
   "execution_count": 5,
   "metadata": {},
   "outputs": [],
   "source": [
    "def get_scenarios_df(dir: Path):\n",
    "    paths = list(dir.glob(\"*/*.json\"))\n",
    "\n",
    "    scenarios = []\n",
    "    for file_path in tqdm(paths):\n",
    "\n",
    "        with open(file_path, \"r\") as f:\n",
    "            scenario_data = json.load(f)\n",
    "\n",
    "        dir = file_path.__str__().split(\"/\")[-2]\n",
    "        _, dr, _, dt = dir.split(\"_\")\n",
    "        scenario_data[\"decision_repeat\"] = int(dr)\n",
    "        scenario_data[\"dt\"] = float(dt)\n",
    "\n",
    "        steps_infos = scenario_data.pop(\"steps_infos\")\n",
    "        scenario_data.update(process_steps(steps_infos))\n",
    "        scenarios.append(scenario_data)\n",
    "    return pd.DataFrame(scenarios)"
   ]
  },
  {
   "cell_type": "code",
   "execution_count": 6,
   "metadata": {},
   "outputs": [
    {
     "name": "stderr",
     "output_type": "stream",
     "text": [
      "100%|██████████| 8031/8031 [00:52<00:00, 151.77it/s]\n"
     ]
    }
   ],
   "source": [
    "df = get_scenarios_df(DATA_DIR)"
   ]
  },
  {
   "cell_type": "code",
   "execution_count": 7,
   "metadata": {},
   "outputs": [],
   "source": [
    "df = df.set_index(\n",
    "    [\n",
    "        \"dt\",\n",
    "        \"decision_repeat\",\n",
    "        \"seed\",\n",
    "    ],\n",
    "    verify_integrity=True,\n",
    ")\n",
    "\n",
    "df = df.sort_index()"
   ]
  },
  {
   "cell_type": "code",
   "execution_count": 8,
   "metadata": {},
   "outputs": [
    {
     "data": {
      "text/html": [
       "<div>\n",
       "<style scoped>\n",
       "    .dataframe tbody tr th:only-of-type {\n",
       "        vertical-align: middle;\n",
       "    }\n",
       "\n",
       "    .dataframe tbody tr th {\n",
       "        vertical-align: top;\n",
       "    }\n",
       "\n",
       "    .dataframe thead th {\n",
       "        text-align: right;\n",
       "    }\n",
       "</style>\n",
       "<table border=\"1\" class=\"dataframe\">\n",
       "  <thead>\n",
       "    <tr style=\"text-align: right;\">\n",
       "      <th></th>\n",
       "      <th></th>\n",
       "      <th></th>\n",
       "      <th>def.map_seq</th>\n",
       "      <th>def.bv_data</th>\n",
       "      <th>def.max_steps</th>\n",
       "      <th>start_ts</th>\n",
       "      <th>initialized_ts</th>\n",
       "      <th>scenario_done_ts</th>\n",
       "      <th>init_time</th>\n",
       "      <th>scenario_time</th>\n",
       "      <th>total_time</th>\n",
       "      <th>n_crashed_vehicles</th>\n",
       "      <th>termination.arrive_dest</th>\n",
       "      <th>termination.timeout</th>\n",
       "      <th>route_completion</th>\n",
       "      <th>in_road_percentage</th>\n",
       "      <th>n_sidewalk_crashes</th>\n",
       "    </tr>\n",
       "    <tr>\n",
       "      <th>dt</th>\n",
       "      <th>decision_repeat</th>\n",
       "      <th>seed</th>\n",
       "      <th></th>\n",
       "      <th></th>\n",
       "      <th></th>\n",
       "      <th></th>\n",
       "      <th></th>\n",
       "      <th></th>\n",
       "      <th></th>\n",
       "      <th></th>\n",
       "      <th></th>\n",
       "      <th></th>\n",
       "      <th></th>\n",
       "      <th></th>\n",
       "      <th></th>\n",
       "      <th></th>\n",
       "      <th></th>\n",
       "    </tr>\n",
       "  </thead>\n",
       "  <tbody>\n",
       "    <tr>\n",
       "      <th rowspan=\"5\" valign=\"top\">0.02</th>\n",
       "      <th rowspan=\"5\" valign=\"top\">5</th>\n",
       "      <th>0</th>\n",
       "      <td>[{'id': 'I', 'pre_block_socket_index': None}, ...</td>\n",
       "      <td>[{'length': 4.515, 'width': 1.852, 'height': 1...</td>\n",
       "      <td>3364</td>\n",
       "      <td>295.398451</td>\n",
       "      <td>295.756016</td>\n",
       "      <td>296.732468</td>\n",
       "      <td>0.357566</td>\n",
       "      <td>0.976452</td>\n",
       "      <td>1.334017</td>\n",
       "      <td>0</td>\n",
       "      <td>True</td>\n",
       "      <td>False</td>\n",
       "      <td>0.992768</td>\n",
       "      <td>1.000000</td>\n",
       "      <td>0</td>\n",
       "    </tr>\n",
       "    <tr>\n",
       "      <th>1</th>\n",
       "      <td>[{'id': 'I', 'pre_block_socket_index': None}, ...</td>\n",
       "      <td>[{'length': 4.515, 'width': 1.852, 'height': 1...</td>\n",
       "      <td>1892</td>\n",
       "      <td>305.808808</td>\n",
       "      <td>306.018085</td>\n",
       "      <td>306.512072</td>\n",
       "      <td>0.209277</td>\n",
       "      <td>0.493987</td>\n",
       "      <td>0.703264</td>\n",
       "      <td>0</td>\n",
       "      <td>True</td>\n",
       "      <td>False</td>\n",
       "      <td>0.989633</td>\n",
       "      <td>1.000000</td>\n",
       "      <td>0</td>\n",
       "    </tr>\n",
       "    <tr>\n",
       "      <th>2</th>\n",
       "      <td>[{'id': 'I', 'pre_block_socket_index': None}, ...</td>\n",
       "      <td>[{'length': 4.515, 'width': 1.852, 'height': 1...</td>\n",
       "      <td>3574</td>\n",
       "      <td>312.702427</td>\n",
       "      <td>312.918462</td>\n",
       "      <td>313.648016</td>\n",
       "      <td>0.216035</td>\n",
       "      <td>0.729554</td>\n",
       "      <td>0.945589</td>\n",
       "      <td>0</td>\n",
       "      <td>True</td>\n",
       "      <td>False</td>\n",
       "      <td>0.993424</td>\n",
       "      <td>1.000000</td>\n",
       "      <td>0</td>\n",
       "    </tr>\n",
       "    <tr>\n",
       "      <th>3</th>\n",
       "      <td>[{'id': 'I', 'pre_block_socket_index': None}, ...</td>\n",
       "      <td>[{'length': 4.515, 'width': 1.852, 'height': 1...</td>\n",
       "      <td>2092</td>\n",
       "      <td>321.409763</td>\n",
       "      <td>321.608535</td>\n",
       "      <td>322.189560</td>\n",
       "      <td>0.198772</td>\n",
       "      <td>0.581025</td>\n",
       "      <td>0.779797</td>\n",
       "      <td>0</td>\n",
       "      <td>True</td>\n",
       "      <td>False</td>\n",
       "      <td>0.989005</td>\n",
       "      <td>1.000000</td>\n",
       "      <td>0</td>\n",
       "    </tr>\n",
       "    <tr>\n",
       "      <th>4</th>\n",
       "      <td>[{'id': 'I', 'pre_block_socket_index': None}, ...</td>\n",
       "      <td>[{'length': 4.515, 'width': 1.852, 'height': 1...</td>\n",
       "      <td>2815</td>\n",
       "      <td>329.054510</td>\n",
       "      <td>329.256271</td>\n",
       "      <td>329.887509</td>\n",
       "      <td>0.201761</td>\n",
       "      <td>0.631238</td>\n",
       "      <td>0.832999</td>\n",
       "      <td>0</td>\n",
       "      <td>True</td>\n",
       "      <td>False</td>\n",
       "      <td>0.991921</td>\n",
       "      <td>1.000000</td>\n",
       "      <td>0</td>\n",
       "    </tr>\n",
       "    <tr>\n",
       "      <th>...</th>\n",
       "      <th>...</th>\n",
       "      <th>...</th>\n",
       "      <td>...</td>\n",
       "      <td>...</td>\n",
       "      <td>...</td>\n",
       "      <td>...</td>\n",
       "      <td>...</td>\n",
       "      <td>...</td>\n",
       "      <td>...</td>\n",
       "      <td>...</td>\n",
       "      <td>...</td>\n",
       "      <td>...</td>\n",
       "      <td>...</td>\n",
       "      <td>...</td>\n",
       "      <td>...</td>\n",
       "      <td>...</td>\n",
       "      <td>...</td>\n",
       "    </tr>\n",
       "    <tr>\n",
       "      <th rowspan=\"5\" valign=\"top\">0.04</th>\n",
       "      <th rowspan=\"5\" valign=\"top\">20</th>\n",
       "      <th>664</th>\n",
       "      <td>[{'id': 'I', 'pre_block_socket_index': None}, ...</td>\n",
       "      <td>[{'length': 4.515, 'width': 1.852, 'height': 1...</td>\n",
       "      <td>305</td>\n",
       "      <td>17467.084677</td>\n",
       "      <td>17467.420044</td>\n",
       "      <td>17467.856325</td>\n",
       "      <td>0.335367</td>\n",
       "      <td>0.436280</td>\n",
       "      <td>0.771647</td>\n",
       "      <td>0</td>\n",
       "      <td>True</td>\n",
       "      <td>False</td>\n",
       "      <td>0.993178</td>\n",
       "      <td>1.000000</td>\n",
       "      <td>3</td>\n",
       "    </tr>\n",
       "    <tr>\n",
       "      <th>665</th>\n",
       "      <td>[{'id': 'I', 'pre_block_socket_index': None}, ...</td>\n",
       "      <td>[{'length': 4.515, 'width': 1.852, 'height': 1...</td>\n",
       "      <td>245</td>\n",
       "      <td>17498.128562</td>\n",
       "      <td>17498.434849</td>\n",
       "      <td>17498.812548</td>\n",
       "      <td>0.306286</td>\n",
       "      <td>0.377699</td>\n",
       "      <td>0.683985</td>\n",
       "      <td>0</td>\n",
       "      <td>True</td>\n",
       "      <td>False</td>\n",
       "      <td>0.984222</td>\n",
       "      <td>1.000000</td>\n",
       "      <td>0</td>\n",
       "    </tr>\n",
       "    <tr>\n",
       "      <th>666</th>\n",
       "      <td>[{'id': 'I', 'pre_block_socket_index': None}, ...</td>\n",
       "      <td>[{'length': 4.515, 'width': 1.852, 'height': 1...</td>\n",
       "      <td>351</td>\n",
       "      <td>17529.623422</td>\n",
       "      <td>17529.960517</td>\n",
       "      <td>17530.012054</td>\n",
       "      <td>0.337095</td>\n",
       "      <td>0.051537</td>\n",
       "      <td>0.388632</td>\n",
       "      <td>0</td>\n",
       "      <td>False</td>\n",
       "      <td>False</td>\n",
       "      <td>0.159883</td>\n",
       "      <td>0.947368</td>\n",
       "      <td>1</td>\n",
       "    </tr>\n",
       "    <tr>\n",
       "      <th>667</th>\n",
       "      <td>[{'id': 'I', 'pre_block_socket_index': None}, ...</td>\n",
       "      <td>[{'length': 4.515, 'width': 1.852, 'height': 1...</td>\n",
       "      <td>459</td>\n",
       "      <td>17563.773948</td>\n",
       "      <td>17564.276805</td>\n",
       "      <td>17564.507056</td>\n",
       "      <td>0.502857</td>\n",
       "      <td>0.230251</td>\n",
       "      <td>0.733108</td>\n",
       "      <td>0</td>\n",
       "      <td>False</td>\n",
       "      <td>False</td>\n",
       "      <td>0.416300</td>\n",
       "      <td>0.985075</td>\n",
       "      <td>3</td>\n",
       "    </tr>\n",
       "    <tr>\n",
       "      <th>668</th>\n",
       "      <td>[{'id': 'I', 'pre_block_socket_index': None}, ...</td>\n",
       "      <td>[{'length': 4.515, 'width': 1.852, 'height': 1...</td>\n",
       "      <td>316</td>\n",
       "      <td>17596.560093</td>\n",
       "      <td>17596.959905</td>\n",
       "      <td>17597.155205</td>\n",
       "      <td>0.399811</td>\n",
       "      <td>0.195300</td>\n",
       "      <td>0.595112</td>\n",
       "      <td>0</td>\n",
       "      <td>False</td>\n",
       "      <td>False</td>\n",
       "      <td>0.279487</td>\n",
       "      <td>0.976744</td>\n",
       "      <td>1</td>\n",
       "    </tr>\n",
       "  </tbody>\n",
       "</table>\n",
       "<p>8031 rows × 15 columns</p>\n",
       "</div>"
      ],
      "text/plain": [
       "                                                                 def.map_seq  \\\n",
       "dt   decision_repeat seed                                                      \n",
       "0.02 5               0     [{'id': 'I', 'pre_block_socket_index': None}, ...   \n",
       "                     1     [{'id': 'I', 'pre_block_socket_index': None}, ...   \n",
       "                     2     [{'id': 'I', 'pre_block_socket_index': None}, ...   \n",
       "                     3     [{'id': 'I', 'pre_block_socket_index': None}, ...   \n",
       "                     4     [{'id': 'I', 'pre_block_socket_index': None}, ...   \n",
       "...                                                                      ...   \n",
       "0.04 20              664   [{'id': 'I', 'pre_block_socket_index': None}, ...   \n",
       "                     665   [{'id': 'I', 'pre_block_socket_index': None}, ...   \n",
       "                     666   [{'id': 'I', 'pre_block_socket_index': None}, ...   \n",
       "                     667   [{'id': 'I', 'pre_block_socket_index': None}, ...   \n",
       "                     668   [{'id': 'I', 'pre_block_socket_index': None}, ...   \n",
       "\n",
       "                                                                 def.bv_data  \\\n",
       "dt   decision_repeat seed                                                      \n",
       "0.02 5               0     [{'length': 4.515, 'width': 1.852, 'height': 1...   \n",
       "                     1     [{'length': 4.515, 'width': 1.852, 'height': 1...   \n",
       "                     2     [{'length': 4.515, 'width': 1.852, 'height': 1...   \n",
       "                     3     [{'length': 4.515, 'width': 1.852, 'height': 1...   \n",
       "                     4     [{'length': 4.515, 'width': 1.852, 'height': 1...   \n",
       "...                                                                      ...   \n",
       "0.04 20              664   [{'length': 4.515, 'width': 1.852, 'height': 1...   \n",
       "                     665   [{'length': 4.515, 'width': 1.852, 'height': 1...   \n",
       "                     666   [{'length': 4.515, 'width': 1.852, 'height': 1...   \n",
       "                     667   [{'length': 4.515, 'width': 1.852, 'height': 1...   \n",
       "                     668   [{'length': 4.515, 'width': 1.852, 'height': 1...   \n",
       "\n",
       "                           def.max_steps      start_ts  initialized_ts  \\\n",
       "dt   decision_repeat seed                                                \n",
       "0.02 5               0              3364    295.398451      295.756016   \n",
       "                     1              1892    305.808808      306.018085   \n",
       "                     2              3574    312.702427      312.918462   \n",
       "                     3              2092    321.409763      321.608535   \n",
       "                     4              2815    329.054510      329.256271   \n",
       "...                                  ...           ...             ...   \n",
       "0.04 20              664             305  17467.084677    17467.420044   \n",
       "                     665             245  17498.128562    17498.434849   \n",
       "                     666             351  17529.623422    17529.960517   \n",
       "                     667             459  17563.773948    17564.276805   \n",
       "                     668             316  17596.560093    17596.959905   \n",
       "\n",
       "                           scenario_done_ts  init_time  scenario_time  \\\n",
       "dt   decision_repeat seed                                               \n",
       "0.02 5               0           296.732468   0.357566       0.976452   \n",
       "                     1           306.512072   0.209277       0.493987   \n",
       "                     2           313.648016   0.216035       0.729554   \n",
       "                     3           322.189560   0.198772       0.581025   \n",
       "                     4           329.887509   0.201761       0.631238   \n",
       "...                                     ...        ...            ...   \n",
       "0.04 20              664       17467.856325   0.335367       0.436280   \n",
       "                     665       17498.812548   0.306286       0.377699   \n",
       "                     666       17530.012054   0.337095       0.051537   \n",
       "                     667       17564.507056   0.502857       0.230251   \n",
       "                     668       17597.155205   0.399811       0.195300   \n",
       "\n",
       "                           total_time  n_crashed_vehicles  \\\n",
       "dt   decision_repeat seed                                   \n",
       "0.02 5               0       1.334017                   0   \n",
       "                     1       0.703264                   0   \n",
       "                     2       0.945589                   0   \n",
       "                     3       0.779797                   0   \n",
       "                     4       0.832999                   0   \n",
       "...                               ...                 ...   \n",
       "0.04 20              664     0.771647                   0   \n",
       "                     665     0.683985                   0   \n",
       "                     666     0.388632                   0   \n",
       "                     667     0.733108                   0   \n",
       "                     668     0.595112                   0   \n",
       "\n",
       "                           termination.arrive_dest  termination.timeout  \\\n",
       "dt   decision_repeat seed                                                 \n",
       "0.02 5               0                        True                False   \n",
       "                     1                        True                False   \n",
       "                     2                        True                False   \n",
       "                     3                        True                False   \n",
       "                     4                        True                False   \n",
       "...                                            ...                  ...   \n",
       "0.04 20              664                      True                False   \n",
       "                     665                      True                False   \n",
       "                     666                     False                False   \n",
       "                     667                     False                False   \n",
       "                     668                     False                False   \n",
       "\n",
       "                           route_completion  in_road_percentage  \\\n",
       "dt   decision_repeat seed                                         \n",
       "0.02 5               0             0.992768            1.000000   \n",
       "                     1             0.989633            1.000000   \n",
       "                     2             0.993424            1.000000   \n",
       "                     3             0.989005            1.000000   \n",
       "                     4             0.991921            1.000000   \n",
       "...                                     ...                 ...   \n",
       "0.04 20              664           0.993178            1.000000   \n",
       "                     665           0.984222            1.000000   \n",
       "                     666           0.159883            0.947368   \n",
       "                     667           0.416300            0.985075   \n",
       "                     668           0.279487            0.976744   \n",
       "\n",
       "                           n_sidewalk_crashes  \n",
       "dt   decision_repeat seed                      \n",
       "0.02 5               0                      0  \n",
       "                     1                      0  \n",
       "                     2                      0  \n",
       "                     3                      0  \n",
       "                     4                      0  \n",
       "...                                       ...  \n",
       "0.04 20              664                    3  \n",
       "                     665                    0  \n",
       "                     666                    1  \n",
       "                     667                    3  \n",
       "                     668                    1  \n",
       "\n",
       "[8031 rows x 15 columns]"
      ]
     },
     "execution_count": 8,
     "metadata": {},
     "output_type": "execute_result"
    }
   ],
   "source": [
    "df"
   ]
  },
  {
   "cell_type": "code",
   "execution_count": 9,
   "metadata": {},
   "outputs": [],
   "source": [
    "# calculate driving score\n",
    "# ! Problem changing the values here in the analysis can change % error\n",
    "def calculate_driving_score(df):\n",
    "    df[\"driving_score\"] = (\n",
    "        df[\"route_completion\"]\n",
    "        * df[\"in_road_percentage\"]\n",
    "        * (0.65) ** df[\"n_sidewalk_crashes\"]\n",
    "        * (0.60) ** df[\"n_crashed_vehicles\"]\n",
    "    )\n",
    "    return df\n",
    "\n",
    "\n",
    "df = calculate_driving_score(df)"
   ]
  },
  {
   "cell_type": "code",
   "execution_count": 10,
   "metadata": {},
   "outputs": [
    {
     "data": {
      "text/plain": [
       "count    8031.000000\n",
       "mean        0.679699\n",
       "std         0.391191\n",
       "min         0.000180\n",
       "25%         0.250473\n",
       "50%         0.990056\n",
       "75%         0.992989\n",
       "max         1.002060\n",
       "Name: driving_score, dtype: float64"
      ]
     },
     "execution_count": 10,
     "metadata": {},
     "output_type": "execute_result"
    }
   ],
   "source": [
    "df[\"driving_score\"].describe()"
   ]
  },
  {
   "cell_type": "markdown",
   "metadata": {},
   "source": [
    "# Getting featuers\n"
   ]
  },
  {
   "cell_type": "markdown",
   "metadata": {},
   "source": [
    "## Getting scenario featuers\n"
   ]
  },
  {
   "cell_type": "code",
   "execution_count": 11,
   "metadata": {},
   "outputs": [],
   "source": [
    "def get_features(col_name):\n",
    "    x = df[col_name]\n",
    "    x = x.reset_index(drop=True)\n",
    "    x = pd.json_normalize(x)\n",
    "    x = pd.concat(\n",
    "        [pd.json_normalize(x[col]).add_prefix(f\"{col}.\") for col in x], axis=1\n",
    "    )\n",
    "    # convert lists to strings\n",
    "    x = x.map(lambda x: \",\".join(x) if isinstance(x, list) else x)\n",
    "    x = pd.get_dummies(x)\n",
    "    x = x.add_prefix(f\"{col_name}.\")\n",
    "    return x"
   ]
  },
  {
   "cell_type": "code",
   "execution_count": 12,
   "metadata": {},
   "outputs": [],
   "source": [
    "def_columns = [\"def.map_seq\", \"def.bv_data\"]\n",
    "\n",
    "\n",
    "map_feat = get_features(\"def.map_seq\")\n",
    "bv_feat = get_features(\"def.bv_data\")\n",
    "\n",
    "S = map_feat.join(bv_feat).to_numpy()"
   ]
  },
  {
   "cell_type": "code",
   "execution_count": 13,
   "metadata": {},
   "outputs": [
    {
     "data": {
      "text/plain": [
       "(8031, 163)"
      ]
     },
     "execution_count": 13,
     "metadata": {},
     "output_type": "execute_result"
    }
   ],
   "source": [
    "S.shape"
   ]
  },
  {
   "cell_type": "markdown",
   "metadata": {},
   "source": [
    "## Get fid vector\n"
   ]
  },
  {
   "cell_type": "code",
   "execution_count": 14,
   "metadata": {},
   "outputs": [
    {
     "data": {
      "text/plain": [
       "((8031, 2),\n",
       " array([[ 0.02,  5.  ],\n",
       "        [ 0.02,  5.  ],\n",
       "        [ 0.02,  5.  ],\n",
       "        ...,\n",
       "        [ 0.04, 20.  ],\n",
       "        [ 0.04, 20.  ],\n",
       "        [ 0.04, 20.  ]]))"
      ]
     },
     "execution_count": 14,
     "metadata": {},
     "output_type": "execute_result"
    }
   ],
   "source": [
    "fid = df.index.droplevel(\"seed\")\n",
    "fid = fid.to_numpy()\n",
    "\n",
    "fid = np.vstack(fid)\n",
    "\n",
    "fid.shape, fid,"
   ]
  },
  {
   "cell_type": "markdown",
   "metadata": {},
   "source": [
    "### Adding to scenario data\n"
   ]
  },
  {
   "cell_type": "code",
   "execution_count": 15,
   "metadata": {},
   "outputs": [
    {
     "data": {
      "text/plain": [
       "(8031, 165)"
      ]
     },
     "execution_count": 15,
     "metadata": {},
     "output_type": "execute_result"
    }
   ],
   "source": [
    "X = np.hstack((fid, S))\n",
    "X.shape"
   ]
  },
  {
   "cell_type": "markdown",
   "metadata": {},
   "source": [
    "## Get DScore vector\n"
   ]
  },
  {
   "cell_type": "code",
   "execution_count": 16,
   "metadata": {},
   "outputs": [
    {
     "data": {
      "text/plain": [
       "((8031,),\n",
       " array([0.99276847, 0.98963269, 0.99342371, ..., 0.09845456, 0.11262007,\n",
       "        0.17744145]))"
      ]
     },
     "execution_count": 16,
     "metadata": {},
     "output_type": "execute_result"
    }
   ],
   "source": [
    "y = df[\"driving_score\"].to_numpy()\n",
    "y.shape, y"
   ]
  },
  {
   "cell_type": "markdown",
   "metadata": {},
   "source": [
    "# Fitting GPR\n"
   ]
  },
  {
   "cell_type": "markdown",
   "metadata": {},
   "source": [
    "### Handling NaNs\n"
   ]
  },
  {
   "cell_type": "code",
   "execution_count": 17,
   "metadata": {},
   "outputs": [
    {
     "data": {
      "text/plain": [
       "(8031, 165)"
      ]
     },
     "execution_count": 17,
     "metadata": {},
     "output_type": "execute_result"
    }
   ],
   "source": [
    "X[pd.isna(X)] = -1\n",
    "X.shape"
   ]
  },
  {
   "cell_type": "code",
   "execution_count": 18,
   "metadata": {},
   "outputs": [
    {
     "data": {
      "text/plain": [
       "669.25"
      ]
     },
     "execution_count": 18,
     "metadata": {},
     "output_type": "execute_result"
    }
   ],
   "source": [
    "X.shape[0] / 12"
   ]
  },
  {
   "cell_type": "code",
   "execution_count": 19,
   "metadata": {},
   "outputs": [],
   "source": [
    "from sklearn.gaussian_process import GaussianProcessRegressor\n",
    "from sklearn.gaussian_process.kernels import RBF\n",
    "\n",
    "from sklearn.model_selection import train_test_split\n",
    "from sklearn.model_selection import LeaveOneOut, ShuffleSplit\n",
    "from sklearn.metrics import r2_score"
   ]
  },
  {
   "cell_type": "markdown",
   "metadata": {},
   "source": [
    "## LOO testing\n"
   ]
  },
  {
   "cell_type": "code",
   "execution_count": 20,
   "metadata": {},
   "outputs": [
    {
     "data": {
      "text/plain": [
       "5"
      ]
     },
     "execution_count": 20,
     "metadata": {},
     "output_type": "execute_result"
    }
   ],
   "source": [
    "# splitter = LeaveOneOut()\n",
    "# splitter.get_n_splits(X)\n",
    "\n",
    "splitter = ShuffleSplit(test_size=100, n_splits=5, random_state=SEED)\n",
    "splitter.get_n_splits(X)"
   ]
  },
  {
   "cell_type": "code",
   "execution_count": 21,
   "metadata": {},
   "outputs": [
    {
     "name": "stdout",
     "output_type": "stream",
     "text": [
      ".\n",
      ".\n",
      ".\n",
      ".\n",
      ".\n"
     ]
    }
   ],
   "source": [
    "data = []\n",
    "\n",
    "for i, (train_index, test_index) in enumerate(splitter.split(X)):\n",
    "    kernel = RBF(length_scale_bounds=(1e-5, 1e5))\n",
    "    gaussian_process = GaussianProcessRegressor(\n",
    "        kernel=kernel, n_restarts_optimizer=9, random_state=SEED\n",
    "    )\n",
    "\n",
    "    gaussian_process.fit(X[train_index], y[train_index])\n",
    "\n",
    "    y_pred, y_std = gaussian_process.predict(X[test_index], return_std=True)\n",
    "    y_true = y[test_index]\n",
    "    # print(\n",
    "    #     f\"For index: \\n{test_index} we predicted \\n{y_pred} +- \\n{y_std} but True value is: \\n{y_true}\"\n",
    "    # )\n",
    "    print(\".\")\n",
    "    data.append([test_index, y_true, y_pred, y_std])"
   ]
  },
  {
   "cell_type": "code",
   "execution_count": 22,
   "metadata": {},
   "outputs": [
    {
     "name": "stdout",
     "output_type": "stream",
     "text": [
      "r2_scores = [ 0.25069163  0.37942173  0.39596091 -0.12199026  0.21485918]\n",
      "r2_scores.mean() = 0.22\n"
     ]
    }
   ],
   "source": [
    "r2_scores = []\n",
    "\n",
    "for d in data:\n",
    "    array = np.squeeze(d).T\n",
    "    # print(array)\n",
    "    results = pd.DataFrame(array, columns=[\"index\", \"y_true\", \"y_pred\", \"std\"])\n",
    "    results[\"y_pred\"] = results[\"y_pred\"].clip(0, 1)\n",
    "    r2_scores.append(r2_score(results[\"y_true\"], results[\"y_pred\"]))\n",
    "\n",
    "\n",
    "r2_scores = np.array(r2_scores)\n",
    "print(f\"r2_scores = {r2_scores}\")\n",
    "print(f\"{r2_scores.mean() = :.2f}\")"
   ]
  },
  {
   "cell_type": "code",
   "execution_count": 23,
   "metadata": {},
   "outputs": [],
   "source": [
    "results = pd.DataFrame(\n",
    "    np.squeeze(data[0]).T, columns=[\"index\", \"y_true\", \"y_pred\", \"std\"]\n",
    ")\n",
    "results[\"y_pred\"] = results[\"y_pred\"].clip(0, 1)\n",
    "# results"
   ]
  },
  {
   "cell_type": "code",
   "execution_count": 24,
   "metadata": {},
   "outputs": [
    {
     "data": {
      "text/plain": [
       "0.2506916281883248"
      ]
     },
     "execution_count": 24,
     "metadata": {},
     "output_type": "execute_result"
    }
   ],
   "source": [
    "r2_score(results[\"y_true\"], results[\"y_pred\"])"
   ]
  },
  {
   "cell_type": "code",
   "execution_count": 25,
   "metadata": {},
   "outputs": [
    {
     "data": {
      "text/plain": [
       "0.25358348689548127"
      ]
     },
     "execution_count": 25,
     "metadata": {},
     "output_type": "execute_result"
    }
   ],
   "source": [
    "rmse = (results[\"y_true\"] - results[\"y_pred\"]).abs()\n",
    "rmse.mean()"
   ]
  },
  {
   "cell_type": "code",
   "execution_count": 26,
   "metadata": {},
   "outputs": [
    {
     "data": {
      "text/html": [
       "<div>\n",
       "<style scoped>\n",
       "    .dataframe tbody tr th:only-of-type {\n",
       "        vertical-align: middle;\n",
       "    }\n",
       "\n",
       "    .dataframe tbody tr th {\n",
       "        vertical-align: top;\n",
       "    }\n",
       "\n",
       "    .dataframe thead th {\n",
       "        text-align: right;\n",
       "    }\n",
       "</style>\n",
       "<table border=\"1\" class=\"dataframe\">\n",
       "  <thead>\n",
       "    <tr style=\"text-align: right;\">\n",
       "      <th></th>\n",
       "      <th>index</th>\n",
       "      <th>y_true</th>\n",
       "      <th>y_pred</th>\n",
       "      <th>std</th>\n",
       "    </tr>\n",
       "  </thead>\n",
       "  <tbody>\n",
       "    <tr>\n",
       "      <th>0</th>\n",
       "      <td>3000.0</td>\n",
       "      <td>0.988883</td>\n",
       "      <td>1.000000</td>\n",
       "      <td>0.238961</td>\n",
       "    </tr>\n",
       "    <tr>\n",
       "      <th>1</th>\n",
       "      <td>2496.0</td>\n",
       "      <td>0.075014</td>\n",
       "      <td>0.000000</td>\n",
       "      <td>0.382445</td>\n",
       "    </tr>\n",
       "    <tr>\n",
       "      <th>2</th>\n",
       "      <td>6712.0</td>\n",
       "      <td>0.994878</td>\n",
       "      <td>0.727332</td>\n",
       "      <td>0.382445</td>\n",
       "    </tr>\n",
       "    <tr>\n",
       "      <th>3</th>\n",
       "      <td>1422.0</td>\n",
       "      <td>0.273446</td>\n",
       "      <td>0.049487</td>\n",
       "      <td>0.865862</td>\n",
       "    </tr>\n",
       "    <tr>\n",
       "      <th>4</th>\n",
       "      <td>4014.0</td>\n",
       "      <td>0.995162</td>\n",
       "      <td>0.575014</td>\n",
       "      <td>0.238961</td>\n",
       "    </tr>\n",
       "    <tr>\n",
       "      <th>...</th>\n",
       "      <td>...</td>\n",
       "      <td>...</td>\n",
       "      <td>...</td>\n",
       "      <td>...</td>\n",
       "    </tr>\n",
       "    <tr>\n",
       "      <th>95</th>\n",
       "      <td>842.0</td>\n",
       "      <td>0.646564</td>\n",
       "      <td>0.478707</td>\n",
       "      <td>0.382445</td>\n",
       "    </tr>\n",
       "    <tr>\n",
       "      <th>96</th>\n",
       "      <td>3982.0</td>\n",
       "      <td>0.115380</td>\n",
       "      <td>0.620673</td>\n",
       "      <td>0.238961</td>\n",
       "    </tr>\n",
       "    <tr>\n",
       "      <th>97</th>\n",
       "      <td>6229.0</td>\n",
       "      <td>0.986503</td>\n",
       "      <td>0.719486</td>\n",
       "      <td>0.382445</td>\n",
       "    </tr>\n",
       "    <tr>\n",
       "      <th>98</th>\n",
       "      <td>7288.0</td>\n",
       "      <td>0.031577</td>\n",
       "      <td>0.000000</td>\n",
       "      <td>0.382445</td>\n",
       "    </tr>\n",
       "    <tr>\n",
       "      <th>99</th>\n",
       "      <td>7500.0</td>\n",
       "      <td>0.065419</td>\n",
       "      <td>0.112941</td>\n",
       "      <td>0.382445</td>\n",
       "    </tr>\n",
       "  </tbody>\n",
       "</table>\n",
       "<p>100 rows × 4 columns</p>\n",
       "</div>"
      ],
      "text/plain": [
       "     index    y_true    y_pred       std\n",
       "0   3000.0  0.988883  1.000000  0.238961\n",
       "1   2496.0  0.075014  0.000000  0.382445\n",
       "2   6712.0  0.994878  0.727332  0.382445\n",
       "3   1422.0  0.273446  0.049487  0.865862\n",
       "4   4014.0  0.995162  0.575014  0.238961\n",
       "..     ...       ...       ...       ...\n",
       "95   842.0  0.646564  0.478707  0.382445\n",
       "96  3982.0  0.115380  0.620673  0.238961\n",
       "97  6229.0  0.986503  0.719486  0.382445\n",
       "98  7288.0  0.031577  0.000000  0.382445\n",
       "99  7500.0  0.065419  0.112941  0.382445\n",
       "\n",
       "[100 rows x 4 columns]"
      ]
     },
     "execution_count": 26,
     "metadata": {},
     "output_type": "execute_result"
    }
   ],
   "source": [
    "results"
   ]
  }
 ],
 "metadata": {
  "kernelspec": {
   "display_name": "metadrive",
   "language": "python",
   "name": "python3"
  },
  "language_info": {
   "codemirror_mode": {
    "name": "ipython",
    "version": 3
   },
   "file_extension": ".py",
   "mimetype": "text/x-python",
   "name": "python",
   "nbconvert_exporter": "python",
   "pygments_lexer": "ipython3",
   "version": "3.12.1"
  }
 },
 "nbformat": 4,
 "nbformat_minor": 2
}
